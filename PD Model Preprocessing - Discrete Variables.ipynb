{
 "cells": [
  {
   "cell_type": "markdown",
   "metadata": {},
   "source": [
    "# Importing Required Packages"
   ]
  },
  {
   "cell_type": "code",
   "execution_count": 11,
   "metadata": {},
   "outputs": [],
   "source": [
    "import pandas as pd\n",
    "import numpy as np\n",
    "import matplotlib.pyplot as plt\n",
    "import seaborn as sns\n",
    "from sklearn.model_selection import train_test_split\n",
    "\n",
    "sns.set()"
   ]
  },
  {
   "cell_type": "markdown",
   "metadata": {},
   "source": [
    "# Reading loan_status"
   ]
  },
  {
   "cell_type": "code",
   "execution_count": 12,
   "metadata": {},
   "outputs": [],
   "source": [
    "loan_status_df_backup = pd.read_csv('Columns/loan_status.csv')\n",
    "loan_status_df = pd.DataFrame(loan_status_df_backup['loan_status'])"
   ]
  },
  {
   "cell_type": "markdown",
   "metadata": {},
   "source": [
    "### Unique Values"
   ]
  },
  {
   "cell_type": "code",
   "execution_count": 13,
   "metadata": {},
   "outputs": [
    {
     "data": {
      "text/plain": [
       "array(['Current', 'Fully Paid', 'Late (31-120 days)', 'In Grace Period',\n",
       "       'Charged Off', 'Late (16-30 days)', 'Default',\n",
       "       'Does not meet the credit policy. Status:Fully Paid',\n",
       "       'Does not meet the credit policy. Status:Charged Off'],\n",
       "      dtype=object)"
      ]
     },
     "execution_count": 13,
     "metadata": {},
     "output_type": "execute_result"
    }
   ],
   "source": [
    "loan_status_df['loan_status'].unique()"
   ]
  },
  {
   "cell_type": "markdown",
   "metadata": {},
   "source": [
    "### Missing Values"
   ]
  },
  {
   "cell_type": "code",
   "execution_count": 14,
   "metadata": {},
   "outputs": [
    {
     "data": {
      "text/plain": [
       "0"
      ]
     },
     "execution_count": 14,
     "metadata": {},
     "output_type": "execute_result"
    }
   ],
   "source": [
    "loan_status_df['loan_status'].isna().sum()"
   ]
  },
  {
   "cell_type": "markdown",
   "metadata": {},
   "source": [
    "### Creating Dummies"
   ]
  },
  {
   "cell_type": "code",
   "execution_count": 15,
   "metadata": {},
   "outputs": [],
   "source": [
    "loan_status_df_dummies = pd.DataFrame(np.where(\n",
    "    (loan_status_df['loan_status'] == 'Current') | (loan_status_df['loan_status'] == 'Fully Paid') | (loan_status_df['loan_status'] == 'Late (16-30 days)') | (loan_status_df['loan_status'] == 'In Grace Period') | (loan_status_df['loan_status'] == 'Does not meet the credit policy. Status:Fully Paid'), 1, 0), \n",
    "                                      columns=['loan_status:Not_Default'])"
   ]
  },
  {
   "cell_type": "code",
   "execution_count": 16,
   "metadata": {},
   "outputs": [
    {
     "data": {
      "text/plain": [
       "array([1, 0], dtype=int64)"
      ]
     },
     "execution_count": 16,
     "metadata": {},
     "output_type": "execute_result"
    }
   ],
   "source": [
    "loan_status_df_dummies['loan_status:Not_Default'].unique()"
   ]
  },
  {
   "cell_type": "markdown",
   "metadata": {},
   "source": [
    "# Splitting into train test sets"
   ]
  },
  {
   "cell_type": "code",
   "execution_count": 17,
   "metadata": {},
   "outputs": [],
   "source": [
    "train_indices, test_indices, train_targets, test_targets = train_test_split(loan_status_df_dummies.index, loan_status_df_dummies['loan_status:Not_Default'], random_state=42, test_size=0.2)"
   ]
  },
  {
   "cell_type": "code",
   "execution_count": 18,
   "metadata": {},
   "outputs": [
    {
     "name": "stdout",
     "output_type": "stream",
     "text": [
      "Trainig Indices shape -  (1808534,)\n",
      "Trainig Targets(loan_status:Not_Default) shape -  (1808534,)\n",
      "Testing Indices shape -  (452134,)\n",
      "Testing Targets(loan_status:Not_Default) shape -  (452134,)\n"
     ]
    }
   ],
   "source": [
    "print(\"Trainig Indices shape - \", train_indices.shape)\n",
    "print(\"Trainig Targets(loan_status:Not_Default) shape - \", train_targets.shape)\n",
    "print(\"Testing Indices shape - \", test_indices.shape)\n",
    "print(\"Testing Targets(loan_status:Not_Default) shape - \", test_targets.shape)"
   ]
  },
  {
   "cell_type": "markdown",
   "metadata": {},
   "source": [
    "# Preprocessing of Discrete Variables"
   ]
  },
  {
   "cell_type": "markdown",
   "metadata": {},
   "source": [
    "## Grade"
   ]
  },
  {
   "cell_type": "code",
   "execution_count": 19,
   "metadata": {},
   "outputs": [],
   "source": [
    "grade_df_backup = pd.read_csv('Columns/grade.csv')\n",
    "grade_df = pd.DataFrame(grade_df_backup['grade'])"
   ]
  },
  {
   "cell_type": "markdown",
   "metadata": {},
   "source": [
    "#### Unique Values"
   ]
  },
  {
   "cell_type": "code",
   "execution_count": 20,
   "metadata": {},
   "outputs": [
    {
     "data": {
      "text/plain": [
       "array(['C', 'D', 'B', 'A', 'E', 'F', 'G'], dtype=object)"
      ]
     },
     "execution_count": 20,
     "metadata": {},
     "output_type": "execute_result"
    }
   ],
   "source": [
    "grade_df['grade'].unique()"
   ]
  },
  {
   "cell_type": "markdown",
   "metadata": {},
   "source": [
    "#### Null Values"
   ]
  },
  {
   "cell_type": "code",
   "execution_count": 21,
   "metadata": {},
   "outputs": [
    {
     "data": {
      "text/plain": [
       "0"
      ]
     },
     "execution_count": 21,
     "metadata": {},
     "output_type": "execute_result"
    }
   ],
   "source": [
    "grade_df['grade'].isna().sum()"
   ]
  },
  {
   "cell_type": "markdown",
   "metadata": {},
   "source": [
    "#### grade column dummies"
   ]
  },
  {
   "cell_type": "code",
   "execution_count": 22,
   "metadata": {},
   "outputs": [],
   "source": [
    "grade_df_dummies = pd.get_dummies(grade_df['grade'], prefix='grade', prefix_sep=':')"
   ]
  },
  {
   "cell_type": "markdown",
   "metadata": {},
   "source": [
    "#### grade column train test split"
   ]
  },
  {
   "cell_type": "code",
   "execution_count": 23,
   "metadata": {},
   "outputs": [],
   "source": [
    "grade_df_dummies_train, grade_df_dummies_test = grade_df_dummies.iloc[train_indices], grade_df_dummies.iloc[test_indices]"
   ]
  },
  {
   "cell_type": "markdown",
   "metadata": {},
   "source": [
    "#### grade column WOE DataFrame"
   ]
  },
  {
   "cell_type": "code",
   "execution_count": 24,
   "metadata": {},
   "outputs": [],
   "source": [
    "grade_woe_df = pd.DataFrame(\n",
    "    columns=['n_obs', \n",
    "             'proba_n_obs', \n",
    "             'pos_obs', \n",
    "             'proba_pos_obs', \n",
    "             'neg_obs', \n",
    "             'proba_neg_obs', \n",
    "             'woe', 'woe_diff', \n",
    "             'iv'], \n",
    "    index=grade_df_dummies_train.columns\n",
    ")"
   ]
  },
  {
   "cell_type": "code",
   "execution_count": 25,
   "metadata": {},
   "outputs": [],
   "source": [
    "grade_iv = 0\n",
    "for idx in grade_woe_df.index:\n",
    "    grade_woe_df.at[idx, 'n_obs'] = grade_df_dummies_train[idx].sum()\n",
    "    grade_woe_df.at[idx, 'proba_n_obs'] = grade_df_dummies_train[idx].sum() / len(grade_df_dummies_train)\n",
    "    \n",
    "    # idx_not_default = list(set(train_targets[train_targets == 1].index).intersection(set(grade_df_dummies_train[grade_df_dummies_train[idx] == 1].index)))\n",
    "    # idx_default = list(set(train_targets[train_targets == 0].index).intersection(set(grade_df_dummies_train[grade_df_dummies_train[idx] == 1].index)))\n",
    "    \n",
    "    idx_not_default = train_targets[train_targets == 1].index\n",
    "    idx_default = train_targets[train_targets == 0].index\n",
    "    \n",
    "    grade_woe_df.at[idx, 'pos_obs'] = grade_df_dummies_train.loc[idx_not_default][idx].sum()\n",
    "    grade_woe_df.at[idx, 'proba_pos_obs'] = grade_df_dummies_train.loc[idx_not_default][idx].sum() / len(idx_not_default)\n",
    "    \n",
    "    grade_woe_df.at[idx, 'neg_obs'] = grade_df_dummies_train.loc[idx_default][idx].sum()\n",
    "    grade_woe_df.at[idx, 'proba_neg_obs'] = grade_df_dummies_train.loc[idx_default][idx].sum() / len(idx_default)\n",
    "    \n",
    "    grade_woe_df.at[idx, 'woe'] = np.log(grade_woe_df.at[idx, 'proba_pos_obs'] / grade_woe_df.at[idx, 'proba_neg_obs'])\n",
    "    grade_iv = grade_iv + ((grade_woe_df.at[idx, 'proba_pos_obs'] - grade_woe_df.at[idx, 'proba_neg_obs']) * grade_woe_df.at[idx, 'woe'])"
   ]
  },
  {
   "cell_type": "code",
   "execution_count": 26,
   "metadata": {},
   "outputs": [],
   "source": [
    "grade_woe_df.sort_values(by=['woe'], axis=0, inplace=True)"
   ]
  },
  {
   "cell_type": "code",
   "execution_count": 27,
   "metadata": {},
   "outputs": [],
   "source": [
    "grade_woe_df['woe_diff'] = grade_woe_df['woe'].diff(1)"
   ]
  },
  {
   "cell_type": "code",
   "execution_count": 28,
   "metadata": {},
   "outputs": [],
   "source": [
    "grade_woe_df['iv'] = grade_iv"
   ]
  },
  {
   "cell_type": "code",
   "execution_count": 29,
   "metadata": {},
   "outputs": [
    {
     "data": {
      "text/html": [
       "<div>\n",
       "<style scoped>\n",
       "    .dataframe tbody tr th:only-of-type {\n",
       "        vertical-align: middle;\n",
       "    }\n",
       "\n",
       "    .dataframe tbody tr th {\n",
       "        vertical-align: top;\n",
       "    }\n",
       "\n",
       "    .dataframe thead th {\n",
       "        text-align: right;\n",
       "    }\n",
       "</style>\n",
       "<table border=\"1\" class=\"dataframe\">\n",
       "  <thead>\n",
       "    <tr style=\"text-align: right;\">\n",
       "      <th></th>\n",
       "      <th>n_obs</th>\n",
       "      <th>proba_n_obs</th>\n",
       "      <th>pos_obs</th>\n",
       "      <th>proba_pos_obs</th>\n",
       "      <th>neg_obs</th>\n",
       "      <th>proba_neg_obs</th>\n",
       "      <th>woe</th>\n",
       "      <th>woe_diff</th>\n",
       "      <th>iv</th>\n",
       "    </tr>\n",
       "  </thead>\n",
       "  <tbody>\n",
       "    <tr>\n",
       "      <th>grade:G</th>\n",
       "      <td>9691</td>\n",
       "      <td>0.00535848</td>\n",
       "      <td>5852</td>\n",
       "      <td>0.00370086</td>\n",
       "      <td>3839</td>\n",
       "      <td>0.0168911</td>\n",
       "      <td>-1.51822</td>\n",
       "      <td>NaN</td>\n",
       "      <td>0.482686</td>\n",
       "    </tr>\n",
       "    <tr>\n",
       "      <th>grade:F</th>\n",
       "      <td>33629</td>\n",
       "      <td>0.0185946</td>\n",
       "      <td>21476</td>\n",
       "      <td>0.0135816</td>\n",
       "      <td>12153</td>\n",
       "      <td>0.0534717</td>\n",
       "      <td>-1.37044</td>\n",
       "      <td>0.147788</td>\n",
       "      <td>0.482686</td>\n",
       "    </tr>\n",
       "    <tr>\n",
       "      <th>grade:E</th>\n",
       "      <td>108133</td>\n",
       "      <td>0.0597904</td>\n",
       "      <td>78022</td>\n",
       "      <td>0.0493418</td>\n",
       "      <td>30111</td>\n",
       "      <td>0.132485</td>\n",
       "      <td>-0.987695</td>\n",
       "      <td>0.38274</td>\n",
       "      <td>0.482686</td>\n",
       "    </tr>\n",
       "    <tr>\n",
       "      <th>grade:D</th>\n",
       "      <td>259610</td>\n",
       "      <td>0.143547</td>\n",
       "      <td>208050</td>\n",
       "      <td>0.131573</td>\n",
       "      <td>51560</td>\n",
       "      <td>0.226858</td>\n",
       "      <td>-0.544764</td>\n",
       "      <td>0.442932</td>\n",
       "      <td>0.482686</td>\n",
       "    </tr>\n",
       "    <tr>\n",
       "      <th>grade:C</th>\n",
       "      <td>519884</td>\n",
       "      <td>0.287462</td>\n",
       "      <td>447001</td>\n",
       "      <td>0.282687</td>\n",
       "      <td>72883</td>\n",
       "      <td>0.320676</td>\n",
       "      <td>-0.12609</td>\n",
       "      <td>0.418673</td>\n",
       "      <td>0.482686</td>\n",
       "    </tr>\n",
       "    <tr>\n",
       "      <th>grade:B</th>\n",
       "      <td>531082</td>\n",
       "      <td>0.293653</td>\n",
       "      <td>486387</td>\n",
       "      <td>0.307596</td>\n",
       "      <td>44695</td>\n",
       "      <td>0.196653</td>\n",
       "      <td>0.447347</td>\n",
       "      <td>0.573438</td>\n",
       "      <td>0.482686</td>\n",
       "    </tr>\n",
       "    <tr>\n",
       "      <th>grade:A</th>\n",
       "      <td>346505</td>\n",
       "      <td>0.191594</td>\n",
       "      <td>334467</td>\n",
       "      <td>0.21152</td>\n",
       "      <td>12038</td>\n",
       "      <td>0.0529657</td>\n",
       "      <td>1.38467</td>\n",
       "      <td>0.937327</td>\n",
       "      <td>0.482686</td>\n",
       "    </tr>\n",
       "  </tbody>\n",
       "</table>\n",
       "</div>"
      ],
      "text/plain": [
       "          n_obs proba_n_obs pos_obs proba_pos_obs neg_obs proba_neg_obs  \\\n",
       "grade:G    9691  0.00535848    5852    0.00370086    3839     0.0168911   \n",
       "grade:F   33629   0.0185946   21476     0.0135816   12153     0.0534717   \n",
       "grade:E  108133   0.0597904   78022     0.0493418   30111      0.132485   \n",
       "grade:D  259610    0.143547  208050      0.131573   51560      0.226858   \n",
       "grade:C  519884    0.287462  447001      0.282687   72883      0.320676   \n",
       "grade:B  531082    0.293653  486387      0.307596   44695      0.196653   \n",
       "grade:A  346505    0.191594  334467       0.21152   12038     0.0529657   \n",
       "\n",
       "              woe  woe_diff        iv  \n",
       "grade:G  -1.51822       NaN  0.482686  \n",
       "grade:F  -1.37044  0.147788  0.482686  \n",
       "grade:E -0.987695   0.38274  0.482686  \n",
       "grade:D -0.544764  0.442932  0.482686  \n",
       "grade:C  -0.12609  0.418673  0.482686  \n",
       "grade:B  0.447347  0.573438  0.482686  \n",
       "grade:A   1.38467  0.937327  0.482686  "
      ]
     },
     "execution_count": 29,
     "metadata": {},
     "output_type": "execute_result"
    }
   ],
   "source": [
    "grade_woe_df"
   ]
  },
  {
   "cell_type": "markdown",
   "metadata": {},
   "source": [
    "#### Plotting WOEs for all categories of grade column"
   ]
  },
  {
   "cell_type": "code",
   "execution_count": 30,
   "metadata": {},
   "outputs": [
    {
     "data": {
      "image/png": "[encoded data removed]",
      "text/plain": [
       "<Figure size 1440x504 with 1 Axes>"
      ]
     },
     "metadata": {},
     "output_type": "display_data"
    }
   ],
   "source": [
    "plt.rcParams['figure.figsize'] = 20, 7\n",
    "\n",
    "plt.plot(grade_woe_df['woe'], label='Weight of Evidence Curve')\n",
    "\n",
    "plt.title('Grade Categories vs WOE', size=24)\n",
    "plt.xlabel('Grade Categories', size=16)\n",
    "plt.ylabel('Weights of Evidence', size=16)\n",
    "\n",
    "plt.legend()\n",
    "plt.show()"
   ]
  },
  {
   "cell_type": "markdown",
   "metadata": {},
   "source": [
    "# WOE Function"
   ]
  },
  {
   "cell_type": "code",
   "execution_count": 31,
   "metadata": {},
   "outputs": [],
   "source": [
    "def woe_graph(df, feature_name, rot_angle=0):\n",
    "    plt.rcParams['figure.figsize'] = 20, 7\n",
    "\n",
    "    plt.plot(df, label='Weight of Evidence Curve', marker='o', linestyle='--', color='k')\n",
    "\n",
    "    plt.title(str(feature_name)+' Categories vs WOE', size=24)\n",
    "    plt.xlabel(str(feature_name)+' Categories', size=16)\n",
    "    plt.ylabel('Weights of Evidence', size=16)\n",
    "    \n",
    "    plt.xticks(rotation=rot_angle)\n",
    "\n",
    "    plt.legend()\n",
    "    plt.show()"
   ]
  },
  {
   "cell_type": "code",
   "execution_count": 32,
   "metadata": {},
   "outputs": [],
   "source": [
    "def calc_woe_df(df, train_targets, feature_name, rot_angle=0):\n",
    "    \n",
    "    woe_df = pd.DataFrame(\n",
    "        columns=['n_obs', \n",
    "                 'proba_n_obs', \n",
    "                 'pos_obs', \n",
    "                 'proba_pos_obs', \n",
    "                 'neg_obs', \n",
    "                 'proba_neg_obs', \n",
    "                 'woe', 'woe_diff', \n",
    "                 'iv'], \n",
    "        index=df.columns\n",
    "    )\n",
    "    \n",
    "    iv = 0\n",
    "    for idx in woe_df.index:\n",
    "        woe_df.at[idx, 'n_obs'] = df[idx].sum()\n",
    "        woe_df.at[idx, 'proba_n_obs'] = df[idx].sum() / len(df)\n",
    "        \n",
    "        idx_not_default = train_targets[train_targets == 1].index\n",
    "        idx_default = train_targets[train_targets == 0].index\n",
    "\n",
    "        woe_df.at[idx, 'pos_obs'] = df.loc[idx_not_default][idx].sum()\n",
    "        woe_df.at[idx, 'proba_pos_obs'] = df.loc[idx_not_default][idx].sum() / len(idx_not_default)\n",
    "\n",
    "        woe_df.at[idx, 'neg_obs'] = df.loc[idx_default][idx].sum()\n",
    "        woe_df.at[idx, 'proba_neg_obs'] = df.loc[idx_default][idx].sum() / len(idx_default)\n",
    "\n",
    "        woe_df.at[idx, 'woe'] = np.log(woe_df.at[idx, 'proba_pos_obs'] / woe_df.at[idx, 'proba_neg_obs'])\n",
    "        iv = iv + ((woe_df.at[idx, 'proba_pos_obs'] - woe_df.at[idx, 'proba_neg_obs']) * woe_df.at[idx, 'woe'])\n",
    "    \n",
    "    woe_df.sort_values(by=['woe'], axis=0, inplace=True)\n",
    "    woe_df['woe_diff'] = woe_df['woe'].diff(1)\n",
    "    woe_df['iv'] = iv\n",
    "    \n",
    "    woe_graph(woe_df['woe'], feature_name, rot_angle)\n",
    "    return woe_df"
   ]
  },
  {
   "cell_type": "markdown",
   "metadata": {},
   "source": [
    "#### Testing the function on precomputed WOEs of grade"
   ]
  },
  {
   "cell_type": "code",
   "execution_count": 33,
   "metadata": {},
   "outputs": [
    {
     "data": {
      "image/png": "[encoded data removed]",
      "text/plain": [
       "<Figure size 1440x504 with 1 Axes>"
      ]
     },
     "metadata": {},
     "output_type": "display_data"
    },
    {
     "data": {
      "text/html": [
       "<div>\n",
       "<style scoped>\n",
       "    .dataframe tbody tr th:only-of-type {\n",
       "        vertical-align: middle;\n",
       "    }\n",
       "\n",
       "    .dataframe tbody tr th {\n",
       "        vertical-align: top;\n",
       "    }\n",
       "\n",
       "    .dataframe thead th {\n",
       "        text-align: right;\n",
       "    }\n",
       "</style>\n",
       "<table border=\"1\" class=\"dataframe\">\n",
       "  <thead>\n",
       "    <tr style=\"text-align: right;\">\n",
       "      <th></th>\n",
       "      <th>n_obs</th>\n",
       "      <th>proba_n_obs</th>\n",
       "      <th>pos_obs</th>\n",
       "      <th>proba_pos_obs</th>\n",
       "      <th>neg_obs</th>\n",
       "      <th>proba_neg_obs</th>\n",
       "      <th>woe</th>\n",
       "      <th>woe_diff</th>\n",
       "      <th>iv</th>\n",
       "    </tr>\n",
       "  </thead>\n",
       "  <tbody>\n",
       "    <tr>\n",
       "      <th>grade:G</th>\n",
       "      <td>9691</td>\n",
       "      <td>0.00535848</td>\n",
       "      <td>5852</td>\n",
       "      <td>0.00370086</td>\n",
       "      <td>3839</td>\n",
       "      <td>0.0168911</td>\n",
       "      <td>-1.51822</td>\n",
       "      <td>NaN</td>\n",
       "      <td>0.482686</td>\n",
       "    </tr>\n",
       "    <tr>\n",
       "      <th>grade:F</th>\n",
       "      <td>33629</td>\n",
       "      <td>0.0185946</td>\n",
       "      <td>21476</td>\n",
       "      <td>0.0135816</td>\n",
       "      <td>12153</td>\n",
       "      <td>0.0534717</td>\n",
       "      <td>-1.37044</td>\n",
       "      <td>0.147788</td>\n",
       "      <td>0.482686</td>\n",
       "    </tr>\n",
       "    <tr>\n",
       "      <th>grade:E</th>\n",
       "      <td>108133</td>\n",
       "      <td>0.0597904</td>\n",
       "      <td>78022</td>\n",
       "      <td>0.0493418</td>\n",
       "      <td>30111</td>\n",
       "      <td>0.132485</td>\n",
       "      <td>-0.987695</td>\n",
       "      <td>0.38274</td>\n",
       "      <td>0.482686</td>\n",
       "    </tr>\n",
       "    <tr>\n",
       "      <th>grade:D</th>\n",
       "      <td>259610</td>\n",
       "      <td>0.143547</td>\n",
       "      <td>208050</td>\n",
       "      <td>0.131573</td>\n",
       "      <td>51560</td>\n",
       "      <td>0.226858</td>\n",
       "      <td>-0.544764</td>\n",
       "      <td>0.442932</td>\n",
       "      <td>0.482686</td>\n",
       "    </tr>\n",
       "    <tr>\n",
       "      <th>grade:C</th>\n",
       "      <td>519884</td>\n",
       "      <td>0.287462</td>\n",
       "      <td>447001</td>\n",
       "      <td>0.282687</td>\n",
       "      <td>72883</td>\n",
       "      <td>0.320676</td>\n",
       "      <td>-0.12609</td>\n",
       "      <td>0.418673</td>\n",
       "      <td>0.482686</td>\n",
       "    </tr>\n",
       "    <tr>\n",
       "      <th>grade:B</th>\n",
       "      <td>531082</td>\n",
       "      <td>0.293653</td>\n",
       "      <td>486387</td>\n",
       "      <td>0.307596</td>\n",
       "      <td>44695</td>\n",
       "      <td>0.196653</td>\n",
       "      <td>0.447347</td>\n",
       "      <td>0.573438</td>\n",
       "      <td>0.482686</td>\n",
       "    </tr>\n",
       "    <tr>\n",
       "      <th>grade:A</th>\n",
       "      <td>346505</td>\n",
       "      <td>0.191594</td>\n",
       "      <td>334467</td>\n",
       "      <td>0.21152</td>\n",
       "      <td>12038</td>\n",
       "      <td>0.0529657</td>\n",
       "      <td>1.38467</td>\n",
       "      <td>0.937327</td>\n",
       "      <td>0.482686</td>\n",
       "    </tr>\n",
       "  </tbody>\n",
       "</table>\n",
       "</div>"
      ],
      "text/plain": [
       "          n_obs proba_n_obs pos_obs proba_pos_obs neg_obs proba_neg_obs  \\\n",
       "grade:G    9691  0.00535848    5852    0.00370086    3839     0.0168911   \n",
       "grade:F   33629   0.0185946   21476     0.0135816   12153     0.0534717   \n",
       "grade:E  108133   0.0597904   78022     0.0493418   30111      0.132485   \n",
       "grade:D  259610    0.143547  208050      0.131573   51560      0.226858   \n",
       "grade:C  519884    0.287462  447001      0.282687   72883      0.320676   \n",
       "grade:B  531082    0.293653  486387      0.307596   44695      0.196653   \n",
       "grade:A  346505    0.191594  334467       0.21152   12038     0.0529657   \n",
       "\n",
       "              woe  woe_diff        iv  \n",
       "grade:G  -1.51822       NaN  0.482686  \n",
       "grade:F  -1.37044  0.147788  0.482686  \n",
       "grade:E -0.987695   0.38274  0.482686  \n",
       "grade:D -0.544764  0.442932  0.482686  \n",
       "grade:C  -0.12609  0.418673  0.482686  \n",
       "grade:B  0.447347  0.573438  0.482686  \n",
       "grade:A   1.38467  0.937327  0.482686  "
      ]
     },
     "execution_count": 33,
     "metadata": {},
     "output_type": "execute_result"
    }
   ],
   "source": [
    "calc_woe_df(grade_df_dummies_train, train_targets, 'Grade')"
   ]
  },
  {
   "cell_type": "markdown",
   "metadata": {},
   "source": [
    "#### Adding grade feature to the set of training features"
   ]
  },
  {
   "cell_type": "code",
   "execution_count": 34,
   "metadata": {},
   "outputs": [],
   "source": [
    "training_features_df = pd.DataFrame(index=train_indices)"
   ]
  },
  {
   "cell_type": "code",
   "execution_count": 35,
   "metadata": {},
   "outputs": [],
   "source": [
    "training_features_df = pd.concat((training_features_df, grade_df_dummies_train), axis=1)"
   ]
  },
  {
   "cell_type": "markdown",
   "metadata": {},
   "source": [
    "#### Adding grade feature to the set of testing features"
   ]
  },
  {
   "cell_type": "code",
   "execution_count": 36,
   "metadata": {},
   "outputs": [],
   "source": [
    "testing_features_df = pd.DataFrame(index=test_indices)"
   ]
  },
  {
   "cell_type": "code",
   "execution_count": 37,
   "metadata": {},
   "outputs": [],
   "source": [
    "testing_features_df = pd.concat((testing_features_df, grade_df_dummies_test), axis=1)"
   ]
  },
  {
   "cell_type": "markdown",
   "metadata": {},
   "source": [
    "## Home Ownership"
   ]
  },
  {
   "cell_type": "code",
   "execution_count": 38,
   "metadata": {},
   "outputs": [],
   "source": [
    "home_ownership_df_backup = pd.read_csv('Columns/home_ownership.csv')\n",
    "home_ownership_df = home_ownership_df_backup[['home_ownership']]"
   ]
  },
  {
   "cell_type": "markdown",
   "metadata": {},
   "source": [
    "#### Unique Values"
   ]
  },
  {
   "cell_type": "code",
   "execution_count": 39,
   "metadata": {},
   "outputs": [
    {
     "data": {
      "text/plain": [
       "array(['RENT', 'MORTGAGE', 'OWN', 'ANY', 'NONE', 'OTHER'], dtype=object)"
      ]
     },
     "execution_count": 39,
     "metadata": {},
     "output_type": "execute_result"
    }
   ],
   "source": [
    "home_ownership_df['home_ownership'].unique()"
   ]
  },
  {
   "cell_type": "markdown",
   "metadata": {},
   "source": [
    "#### Null Values"
   ]
  },
  {
   "cell_type": "code",
   "execution_count": 40,
   "metadata": {},
   "outputs": [
    {
     "data": {
      "text/plain": [
       "0"
      ]
     },
     "execution_count": 40,
     "metadata": {},
     "output_type": "execute_result"
    }
   ],
   "source": [
    "home_ownership_df['home_ownership'].isna().sum()"
   ]
  },
  {
   "cell_type": "markdown",
   "metadata": {},
   "source": [
    "#### home_ownership column dummies"
   ]
  },
  {
   "cell_type": "code",
   "execution_count": 41,
   "metadata": {},
   "outputs": [],
   "source": [
    "home_ownership_df_dummies = pd.get_dummies(home_ownership_df['home_ownership'], prefix='home_ownership', prefix_sep=':')"
   ]
  },
  {
   "cell_type": "markdown",
   "metadata": {},
   "source": [
    "#### home_ownership column train test split"
   ]
  },
  {
   "cell_type": "code",
   "execution_count": 42,
   "metadata": {},
   "outputs": [],
   "source": [
    "home_ownership_df_dummies_train, home_ownership_df_dummies_test = home_ownership_df_dummies.iloc[train_indices], home_ownership_df_dummies.iloc[test_indices]"
   ]
  },
  {
   "cell_type": "markdown",
   "metadata": {},
   "source": [
    "#### home_ownership column WOE dataframe and plot"
   ]
  },
  {
   "cell_type": "code",
   "execution_count": 43,
   "metadata": {},
   "outputs": [
    {
     "data": {
      "image/png": "[encoded data removed]",
      "text/plain": [
       "<Figure size 1440x504 with 1 Axes>"
      ]
     },
     "metadata": {},
     "output_type": "display_data"
    },
    {
     "data": {
      "text/html": [
       "<div>\n",
       "<style scoped>\n",
       "    .dataframe tbody tr th:only-of-type {\n",
       "        vertical-align: middle;\n",
       "    }\n",
       "\n",
       "    .dataframe tbody tr th {\n",
       "        vertical-align: top;\n",
       "    }\n",
       "\n",
       "    .dataframe thead th {\n",
       "        text-align: right;\n",
       "    }\n",
       "</style>\n",
       "<table border=\"1\" class=\"dataframe\">\n",
       "  <thead>\n",
       "    <tr style=\"text-align: right;\">\n",
       "      <th></th>\n",
       "      <th>n_obs</th>\n",
       "      <th>proba_n_obs</th>\n",
       "      <th>pos_obs</th>\n",
       "      <th>proba_pos_obs</th>\n",
       "      <th>neg_obs</th>\n",
       "      <th>proba_neg_obs</th>\n",
       "      <th>woe</th>\n",
       "      <th>woe_diff</th>\n",
       "      <th>iv</th>\n",
       "    </tr>\n",
       "  </thead>\n",
       "  <tbody>\n",
       "    <tr>\n",
       "      <th>home_ownership:OTHER</th>\n",
       "      <td>142</td>\n",
       "      <td>7.85166e-05</td>\n",
       "      <td>115</td>\n",
       "      <td>7.2727e-05</td>\n",
       "      <td>27</td>\n",
       "      <td>0.000118797</td>\n",
       "      <td>-0.490701</td>\n",
       "      <td>NaN</td>\n",
       "      <td>0.024684</td>\n",
       "    </tr>\n",
       "    <tr>\n",
       "      <th>home_ownership:RENT</th>\n",
       "      <td>715761</td>\n",
       "      <td>0.395769</td>\n",
       "      <td>611174</td>\n",
       "      <td>0.386512</td>\n",
       "      <td>104587</td>\n",
       "      <td>0.46017</td>\n",
       "      <td>-0.174433</td>\n",
       "      <td>0.316267</td>\n",
       "      <td>0.024684</td>\n",
       "    </tr>\n",
       "    <tr>\n",
       "      <th>home_ownership:NONE</th>\n",
       "      <td>43</td>\n",
       "      <td>2.37762e-05</td>\n",
       "      <td>37</td>\n",
       "      <td>2.33991e-05</td>\n",
       "      <td>6</td>\n",
       "      <td>2.63993e-05</td>\n",
       "      <td>-0.120637</td>\n",
       "      <td>0.053796</td>\n",
       "      <td>0.024684</td>\n",
       "    </tr>\n",
       "    <tr>\n",
       "      <th>home_ownership:OWN</th>\n",
       "      <td>202560</td>\n",
       "      <td>0.112002</td>\n",
       "      <td>177110</td>\n",
       "      <td>0.112006</td>\n",
       "      <td>25450</td>\n",
       "      <td>0.111977</td>\n",
       "      <td>0.000259489</td>\n",
       "      <td>0.120897</td>\n",
       "      <td>0.024684</td>\n",
       "    </tr>\n",
       "    <tr>\n",
       "      <th>home_ownership:MORTGAGE</th>\n",
       "      <td>889204</td>\n",
       "      <td>0.491671</td>\n",
       "      <td>792050</td>\n",
       "      <td>0.5009</td>\n",
       "      <td>97154</td>\n",
       "      <td>0.427466</td>\n",
       "      <td>0.158531</td>\n",
       "      <td>0.158272</td>\n",
       "      <td>0.024684</td>\n",
       "    </tr>\n",
       "    <tr>\n",
       "      <th>home_ownership:ANY</th>\n",
       "      <td>824</td>\n",
       "      <td>0.000455618</td>\n",
       "      <td>769</td>\n",
       "      <td>0.000486323</td>\n",
       "      <td>55</td>\n",
       "      <td>0.000241993</td>\n",
       "      <td>0.697962</td>\n",
       "      <td>0.539431</td>\n",
       "      <td>0.024684</td>\n",
       "    </tr>\n",
       "  </tbody>\n",
       "</table>\n",
       "</div>"
      ],
      "text/plain": [
       "                          n_obs  proba_n_obs pos_obs proba_pos_obs neg_obs  \\\n",
       "home_ownership:OTHER        142  7.85166e-05     115    7.2727e-05      27   \n",
       "home_ownership:RENT      715761     0.395769  611174      0.386512  104587   \n",
       "home_ownership:NONE          43  2.37762e-05      37   2.33991e-05       6   \n",
       "home_ownership:OWN       202560     0.112002  177110      0.112006   25450   \n",
       "home_ownership:MORTGAGE  889204     0.491671  792050        0.5009   97154   \n",
       "home_ownership:ANY          824  0.000455618     769   0.000486323      55   \n",
       "\n",
       "                        proba_neg_obs          woe  woe_diff        iv  \n",
       "home_ownership:OTHER      0.000118797    -0.490701       NaN  0.024684  \n",
       "home_ownership:RENT           0.46017    -0.174433  0.316267  0.024684  \n",
       "home_ownership:NONE       2.63993e-05    -0.120637  0.053796  0.024684  \n",
       "home_ownership:OWN           0.111977  0.000259489  0.120897  0.024684  \n",
       "home_ownership:MORTGAGE      0.427466     0.158531  0.158272  0.024684  \n",
       "home_ownership:ANY        0.000241993     0.697962  0.539431  0.024684  "
      ]
     },
     "execution_count": 43,
     "metadata": {},
     "output_type": "execute_result"
    }
   ],
   "source": [
    "calc_woe_df(home_ownership_df_dummies_train, train_targets, 'Home Ownership')"
   ]
  },
  {
   "cell_type": "markdown",
   "metadata": {},
   "source": [
    "#### Training Features of home_ownership column"
   ]
  },
  {
   "cell_type": "code",
   "execution_count": 44,
   "metadata": {},
   "outputs": [
    {
     "name": "stderr",
     "output_type": "stream",
     "text": [
      "C:\\Users\\Yashveer\\AppData\\Roaming\\Python\\Python37\\site-packages\\ipykernel_launcher.py:3: SettingWithCopyWarning: \n",
      "A value is trying to be set on a copy of a slice from a DataFrame.\n",
      "Try using .loc[row_indexer,col_indexer] = value instead\n",
      "\n",
      "See the caveats in the documentation: http://pandas.pydata.org/pandas-docs/stable/user_guide/indexing.html#returning-a-view-versus-a-copy\n",
      "  This is separate from the ipykernel package so we can avoid doing imports until\n",
      "C:\\Users\\Yashveer\\AppData\\Roaming\\Python\\Python37\\site-packages\\ipykernel_launcher.py:4: SettingWithCopyWarning: \n",
      "A value is trying to be set on a copy of a slice from a DataFrame.\n",
      "Try using .loc[row_indexer,col_indexer] = value instead\n",
      "\n",
      "See the caveats in the documentation: http://pandas.pydata.org/pandas-docs/stable/user_guide/indexing.html#returning-a-view-versus-a-copy\n",
      "  after removing the cwd from sys.path.\n",
      "C:\\Users\\Yashveer\\AppData\\Roaming\\Python\\Python37\\site-packages\\ipykernel_launcher.py:5: SettingWithCopyWarning: \n",
      "A value is trying to be set on a copy of a slice from a DataFrame.\n",
      "Try using .loc[row_indexer,col_indexer] = value instead\n",
      "\n",
      "See the caveats in the documentation: http://pandas.pydata.org/pandas-docs/stable/user_guide/indexing.html#returning-a-view-versus-a-copy\n",
      "  \"\"\"\n"
     ]
    }
   ],
   "source": [
    "home_ownership_training_features_df = home_ownership_df_dummies_train[['home_ownership:OTHER']]\n",
    "\n",
    "home_ownership_training_features_df['home_ownership:RENT_NONE_OWN'] = np.where( ((home_ownership_df_dummies_train['home_ownership:RENT'] == 1) | (home_ownership_df_dummies_train['home_ownership:NONE'] == 1) | (home_ownership_df_dummies_train['home_ownership:OWN'] == 1)), 1, 0)\n",
    "home_ownership_training_features_df['home_ownership:MORTGAGE'] = home_ownership_df_dummies_train['home_ownership:MORTGAGE']\n",
    "home_ownership_training_features_df['home_ownership:ANY'] = home_ownership_df_dummies_train['home_ownership:ANY']"
   ]
  },
  {
   "cell_type": "markdown",
   "metadata": {},
   "source": [
    "#### Testing Features of home_ownership column"
   ]
  },
  {
   "cell_type": "code",
   "execution_count": 45,
   "metadata": {},
   "outputs": [
    {
     "name": "stderr",
     "output_type": "stream",
     "text": [
      "C:\\Users\\Yashveer\\AppData\\Roaming\\Python\\Python37\\site-packages\\ipykernel_launcher.py:3: SettingWithCopyWarning: \n",
      "A value is trying to be set on a copy of a slice from a DataFrame.\n",
      "Try using .loc[row_indexer,col_indexer] = value instead\n",
      "\n",
      "See the caveats in the documentation: http://pandas.pydata.org/pandas-docs/stable/user_guide/indexing.html#returning-a-view-versus-a-copy\n",
      "  This is separate from the ipykernel package so we can avoid doing imports until\n",
      "C:\\Users\\Yashveer\\AppData\\Roaming\\Python\\Python37\\site-packages\\ipykernel_launcher.py:4: SettingWithCopyWarning: \n",
      "A value is trying to be set on a copy of a slice from a DataFrame.\n",
      "Try using .loc[row_indexer,col_indexer] = value instead\n",
      "\n",
      "See the caveats in the documentation: http://pandas.pydata.org/pandas-docs/stable/user_guide/indexing.html#returning-a-view-versus-a-copy\n",
      "  after removing the cwd from sys.path.\n",
      "C:\\Users\\Yashveer\\AppData\\Roaming\\Python\\Python37\\site-packages\\ipykernel_launcher.py:5: SettingWithCopyWarning: \n",
      "A value is trying to be set on a copy of a slice from a DataFrame.\n",
      "Try using .loc[row_indexer,col_indexer] = value instead\n",
      "\n",
      "See the caveats in the documentation: http://pandas.pydata.org/pandas-docs/stable/user_guide/indexing.html#returning-a-view-versus-a-copy\n",
      "  \"\"\"\n"
     ]
    }
   ],
   "source": [
    "home_ownership_testing_features_df = home_ownership_df_dummies_test[['home_ownership:OTHER']]\n",
    "\n",
    "home_ownership_testing_features_df['home_ownership:RENT_NONE_OWN'] = np.where( ((home_ownership_df_dummies_test['home_ownership:RENT'] == 1) | (home_ownership_df_dummies_test['home_ownership:NONE'] == 1) | (home_ownership_df_dummies_test['home_ownership:OWN'] == 1)), 1, 0)\n",
    "home_ownership_testing_features_df['home_ownership:MORTGAGE'] = home_ownership_df_dummies_test['home_ownership:MORTGAGE']\n",
    "home_ownership_testing_features_df['home_ownership:ANY'] = home_ownership_df_dummies_test['home_ownership:ANY']"
   ]
  },
  {
   "cell_type": "markdown",
   "metadata": {},
   "source": [
    "#### Adding home_ownership feature to the set of training and testing features"
   ]
  },
  {
   "cell_type": "code",
   "execution_count": 46,
   "metadata": {},
   "outputs": [],
   "source": [
    "training_features_df = pd.concat((training_features_df, home_ownership_training_features_df), axis=1)\n",
    "testing_features_df = pd.concat((testing_features_df, home_ownership_testing_features_df), axis=1)"
   ]
  },
  {
   "cell_type": "markdown",
   "metadata": {},
   "source": [
    "## Address State"
   ]
  },
  {
   "cell_type": "code",
   "execution_count": 47,
   "metadata": {},
   "outputs": [],
   "source": [
    "addr_state_df_backup = pd.read_csv('Columns/addr_state.csv')\n",
    "addr_state_df = addr_state_df_backup[['addr_state']]"
   ]
  },
  {
   "cell_type": "markdown",
   "metadata": {},
   "source": [
    "#### US States"
   ]
  },
  {
   "cell_type": "code",
   "execution_count": 48,
   "metadata": {},
   "outputs": [
    {
     "data": {
      "text/plain": [
       "51"
      ]
     },
     "execution_count": 48,
     "metadata": {},
     "output_type": "execute_result"
    }
   ],
   "source": [
    "us_states_list = ['AL', 'AK', 'AZ', 'AR', 'CA', 'CO', 'CT', 'DE', 'FL', 'GA',\n",
    "                  'HI', 'ID', 'IL', 'IN', 'IA', 'KS', 'KY', 'LA', 'ME', 'MD',\n",
    "                  'MA', 'MI', 'MN', 'MS', 'MO', 'MT', 'NE', 'NV', 'NH', 'NJ',\n",
    "                  'NM', 'NY', 'NC', 'ND', 'OH', 'OK', 'OR', 'PA', 'RI', 'SC',\n",
    "                  'SD', 'TN', 'TX', 'UT', 'VT', 'VA', 'WA', 'WV', 'WI', 'WY',\n",
    "                  'DC']\n",
    "len(us_states_list)"
   ]
  },
  {
   "cell_type": "markdown",
   "metadata": {},
   "source": [
    "#### Unique Values"
   ]
  },
  {
   "cell_type": "code",
   "execution_count": 49,
   "metadata": {},
   "outputs": [
    {
     "data": {
      "text/plain": [
       "51"
      ]
     },
     "execution_count": 49,
     "metadata": {},
     "output_type": "execute_result"
    }
   ],
   "source": [
    "len(addr_state_df['addr_state'].unique())"
   ]
  },
  {
   "cell_type": "markdown",
   "metadata": {},
   "source": [
    "#### Missing States"
   ]
  },
  {
   "cell_type": "code",
   "execution_count": 50,
   "metadata": {},
   "outputs": [
    {
     "data": {
      "text/plain": [
       "set()"
      ]
     },
     "execution_count": 50,
     "metadata": {},
     "output_type": "execute_result"
    }
   ],
   "source": [
    "set(us_states_list) - set(us_states_list).intersection(set(addr_state_df['addr_state'].unique()))"
   ]
  },
  {
   "cell_type": "markdown",
   "metadata": {},
   "source": [
    "#### Null Values"
   ]
  },
  {
   "cell_type": "code",
   "execution_count": 51,
   "metadata": {},
   "outputs": [
    {
     "data": {
      "text/plain": [
       "0"
      ]
     },
     "execution_count": 51,
     "metadata": {},
     "output_type": "execute_result"
    }
   ],
   "source": [
    "addr_state_df['addr_state'].isna().sum()"
   ]
  },
  {
   "cell_type": "markdown",
   "metadata": {},
   "source": [
    "#### addr_state column dummies"
   ]
  },
  {
   "cell_type": "code",
   "execution_count": 52,
   "metadata": {},
   "outputs": [],
   "source": [
    "addr_state_df_dummies = pd.get_dummies(addr_state_df['addr_state'], prefix='addr_state', prefix_sep=':')"
   ]
  },
  {
   "cell_type": "markdown",
   "metadata": {},
   "source": [
    "#### addr_state column train test split"
   ]
  },
  {
   "cell_type": "code",
   "execution_count": 53,
   "metadata": {},
   "outputs": [],
   "source": [
    "addr_state_df_dummies_train, addr_state_df_dummies_test = addr_state_df_dummies.iloc[train_indices], addr_state_df_dummies.iloc[test_indices]"
   ]
  },
  {
   "cell_type": "markdown",
   "metadata": {},
   "source": [
    "#### addr_state column WOE dataframe and plot"
   ]
  },
  {
   "cell_type": "code",
   "execution_count": 54,
   "metadata": {},
   "outputs": [
    {
     "data": {
      "image/png": "[encoded data removed]",
      "text/plain": [
       "<Figure size 1440x504 with 1 Axes>"
      ]
     },
     "metadata": {},
     "output_type": "display_data"
    },
    {
     "data": {
      "text/html": [
       "<div>\n",
       "<style scoped>\n",
       "    .dataframe tbody tr th:only-of-type {\n",
       "        vertical-align: middle;\n",
       "    }\n",
       "\n",
       "    .dataframe tbody tr th {\n",
       "        vertical-align: top;\n",
       "    }\n",
       "\n",
       "    .dataframe thead th {\n",
       "        text-align: right;\n",
       "    }\n",
       "</style>\n",
       "<table border=\"1\" class=\"dataframe\">\n",
       "  <thead>\n",
       "    <tr style=\"text-align: right;\">\n",
       "      <th></th>\n",
       "      <th>n_obs</th>\n",
       "      <th>proba_n_obs</th>\n",
       "      <th>pos_obs</th>\n",
       "      <th>proba_pos_obs</th>\n",
       "      <th>neg_obs</th>\n",
       "      <th>proba_neg_obs</th>\n",
       "      <th>woe</th>\n",
       "      <th>woe_diff</th>\n",
       "      <th>iv</th>\n",
       "    </tr>\n",
       "  </thead>\n",
       "  <tbody>\n",
       "    <tr>\n",
       "      <th>addr_state:IA</th>\n",
       "      <td>12</td>\n",
       "      <td>6.63521e-06</td>\n",
       "      <td>9</td>\n",
       "      <td>5.69168e-06</td>\n",
       "      <td>3</td>\n",
       "      <td>1.31996e-05</td>\n",
       "      <td>-0.841183</td>\n",
       "      <td>NaN</td>\n",
       "      <td>0.014338</td>\n",
       "    </tr>\n",
       "    <tr>\n",
       "      <th>addr_state:AL</th>\n",
       "      <td>21792</td>\n",
       "      <td>0.0120495</td>\n",
       "      <td>18474</td>\n",
       "      <td>0.0116831</td>\n",
       "      <td>3318</td>\n",
       "      <td>0.0145988</td>\n",
       "      <td>-0.222794</td>\n",
       "      <td>0.61839</td>\n",
       "      <td>0.014338</td>\n",
       "    </tr>\n",
       "    <tr>\n",
       "      <th>addr_state:AR</th>\n",
       "      <td>13572</td>\n",
       "      <td>0.00750442</td>\n",
       "      <td>11547</td>\n",
       "      <td>0.00730243</td>\n",
       "      <td>2025</td>\n",
       "      <td>0.00890975</td>\n",
       "      <td>-0.19894</td>\n",
       "      <td>0.0238538</td>\n",
       "      <td>0.014338</td>\n",
       "    </tr>\n",
       "    <tr>\n",
       "      <th>addr_state:MS</th>\n",
       "      <td>10065</td>\n",
       "      <td>0.00556528</td>\n",
       "      <td>8574</td>\n",
       "      <td>0.00542228</td>\n",
       "      <td>1491</td>\n",
       "      <td>0.00656022</td>\n",
       "      <td>-0.190508</td>\n",
       "      <td>0.00843137</td>\n",
       "      <td>0.014338</td>\n",
       "    </tr>\n",
       "    <tr>\n",
       "      <th>addr_state:OK</th>\n",
       "      <td>16515</td>\n",
       "      <td>0.00913171</td>\n",
       "      <td>14091</td>\n",
       "      <td>0.00891128</td>\n",
       "      <td>2424</td>\n",
       "      <td>0.0106653</td>\n",
       "      <td>-0.179679</td>\n",
       "      <td>0.0108299</td>\n",
       "      <td>0.014338</td>\n",
       "    </tr>\n",
       "    <tr>\n",
       "      <th>addr_state:LA</th>\n",
       "      <td>20517</td>\n",
       "      <td>0.0113445</td>\n",
       "      <td>17514</td>\n",
       "      <td>0.011076</td>\n",
       "      <td>3003</td>\n",
       "      <td>0.0132128</td>\n",
       "      <td>-0.176407</td>\n",
       "      <td>0.00327154</td>\n",
       "      <td>0.014338</td>\n",
       "    </tr>\n",
       "    <tr>\n",
       "      <th>addr_state:NV</th>\n",
       "      <td>26116</td>\n",
       "      <td>0.0144404</td>\n",
       "      <td>22406</td>\n",
       "      <td>0.0141698</td>\n",
       "      <td>3710</td>\n",
       "      <td>0.0163235</td>\n",
       "      <td>-0.141499</td>\n",
       "      <td>0.0349081</td>\n",
       "      <td>0.014338</td>\n",
       "    </tr>\n",
       "    <tr>\n",
       "      <th>addr_state:NM</th>\n",
       "      <td>9623</td>\n",
       "      <td>0.00532088</td>\n",
       "      <td>8277</td>\n",
       "      <td>0.00523445</td>\n",
       "      <td>1346</td>\n",
       "      <td>0.00592224</td>\n",
       "      <td>-0.123452</td>\n",
       "      <td>0.0180464</td>\n",
       "      <td>0.014338</td>\n",
       "    </tr>\n",
       "    <tr>\n",
       "      <th>addr_state:HI</th>\n",
       "      <td>8558</td>\n",
       "      <td>0.00473201</td>\n",
       "      <td>7375</td>\n",
       "      <td>0.00466402</td>\n",
       "      <td>1183</td>\n",
       "      <td>0.00520506</td>\n",
       "      <td>-0.109753</td>\n",
       "      <td>0.013699</td>\n",
       "      <td>0.014338</td>\n",
       "    </tr>\n",
       "    <tr>\n",
       "      <th>addr_state:NY</th>\n",
       "      <td>149066</td>\n",
       "      <td>0.0824237</td>\n",
       "      <td>128541</td>\n",
       "      <td>0.0812905</td>\n",
       "      <td>20525</td>\n",
       "      <td>0.0903075</td>\n",
       "      <td>-0.105192</td>\n",
       "      <td>0.00456195</td>\n",
       "      <td>0.014338</td>\n",
       "    </tr>\n",
       "    <tr>\n",
       "      <th>addr_state:SD</th>\n",
       "      <td>3654</td>\n",
       "      <td>0.00202042</td>\n",
       "      <td>3153</td>\n",
       "      <td>0.00199399</td>\n",
       "      <td>501</td>\n",
       "      <td>0.00220434</td>\n",
       "      <td>-0.100292</td>\n",
       "      <td>0.00489929</td>\n",
       "      <td>0.014338</td>\n",
       "    </tr>\n",
       "    <tr>\n",
       "      <th>addr_state:FL</th>\n",
       "      <td>129728</td>\n",
       "      <td>0.071731</td>\n",
       "      <td>112185</td>\n",
       "      <td>0.0709468</td>\n",
       "      <td>17543</td>\n",
       "      <td>0.0771871</td>\n",
       "      <td>-0.0843015</td>\n",
       "      <td>0.0159907</td>\n",
       "      <td>0.014338</td>\n",
       "    </tr>\n",
       "    <tr>\n",
       "      <th>addr_state:MO</th>\n",
       "      <td>28907</td>\n",
       "      <td>0.0159837</td>\n",
       "      <td>25035</td>\n",
       "      <td>0.0158324</td>\n",
       "      <td>3872</td>\n",
       "      <td>0.0170363</td>\n",
       "      <td>-0.0732921</td>\n",
       "      <td>0.0110094</td>\n",
       "      <td>0.014338</td>\n",
       "    </tr>\n",
       "    <tr>\n",
       "      <th>addr_state:MD</th>\n",
       "      <td>43092</td>\n",
       "      <td>0.023827</td>\n",
       "      <td>37361</td>\n",
       "      <td>0.0236274</td>\n",
       "      <td>5731</td>\n",
       "      <td>0.0252157</td>\n",
       "      <td>-0.0650584</td>\n",
       "      <td>0.00823367</td>\n",
       "      <td>0.014338</td>\n",
       "    </tr>\n",
       "    <tr>\n",
       "      <th>addr_state:NC</th>\n",
       "      <td>50259</td>\n",
       "      <td>0.0277899</td>\n",
       "      <td>43620</td>\n",
       "      <td>0.0275857</td>\n",
       "      <td>6639</td>\n",
       "      <td>0.0292108</td>\n",
       "      <td>-0.0572414</td>\n",
       "      <td>0.00781707</td>\n",
       "      <td>0.014338</td>\n",
       "    </tr>\n",
       "    <tr>\n",
       "      <th>addr_state:PA</th>\n",
       "      <td>61555</td>\n",
       "      <td>0.0340359</td>\n",
       "      <td>53575</td>\n",
       "      <td>0.0338813</td>\n",
       "      <td>7980</td>\n",
       "      <td>0.035111</td>\n",
       "      <td>-0.0356516</td>\n",
       "      <td>0.0215897</td>\n",
       "      <td>0.014338</td>\n",
       "    </tr>\n",
       "    <tr>\n",
       "      <th>addr_state:KY</th>\n",
       "      <td>17441</td>\n",
       "      <td>0.00964372</td>\n",
       "      <td>15180</td>\n",
       "      <td>0.00959997</td>\n",
       "      <td>2261</td>\n",
       "      <td>0.00994813</td>\n",
       "      <td>-0.0356242</td>\n",
       "      <td>2.74488e-05</td>\n",
       "      <td>0.014338</td>\n",
       "    </tr>\n",
       "    <tr>\n",
       "      <th>addr_state:TN</th>\n",
       "      <td>28369</td>\n",
       "      <td>0.0156862</td>\n",
       "      <td>24696</td>\n",
       "      <td>0.015618</td>\n",
       "      <td>3673</td>\n",
       "      <td>0.0161608</td>\n",
       "      <td>-0.0341633</td>\n",
       "      <td>0.00146094</td>\n",
       "      <td>0.014338</td>\n",
       "    </tr>\n",
       "    <tr>\n",
       "      <th>addr_state:CA</th>\n",
       "      <td>251554</td>\n",
       "      <td>0.139093</td>\n",
       "      <td>219066</td>\n",
       "      <td>0.138539</td>\n",
       "      <td>32488</td>\n",
       "      <td>0.142943</td>\n",
       "      <td>-0.0312935</td>\n",
       "      <td>0.00286974</td>\n",
       "      <td>0.014338</td>\n",
       "    </tr>\n",
       "    <tr>\n",
       "      <th>addr_state:NJ</th>\n",
       "      <td>66339</td>\n",
       "      <td>0.0366811</td>\n",
       "      <td>57787</td>\n",
       "      <td>0.036545</td>\n",
       "      <td>8552</td>\n",
       "      <td>0.0376278</td>\n",
       "      <td>-0.0291971</td>\n",
       "      <td>0.0020964</td>\n",
       "      <td>0.014338</td>\n",
       "    </tr>\n",
       "    <tr>\n",
       "      <th>addr_state:MI</th>\n",
       "      <td>47058</td>\n",
       "      <td>0.02602</td>\n",
       "      <td>40999</td>\n",
       "      <td>0.0259281</td>\n",
       "      <td>6059</td>\n",
       "      <td>0.0266589</td>\n",
       "      <td>-0.0277929</td>\n",
       "      <td>0.00140424</td>\n",
       "      <td>0.014338</td>\n",
       "    </tr>\n",
       "    <tr>\n",
       "      <th>addr_state:IN</th>\n",
       "      <td>30120</td>\n",
       "      <td>0.0166544</td>\n",
       "      <td>26262</td>\n",
       "      <td>0.0166083</td>\n",
       "      <td>3858</td>\n",
       "      <td>0.0169747</td>\n",
       "      <td>-0.0218217</td>\n",
       "      <td>0.00597121</td>\n",
       "      <td>0.014338</td>\n",
       "    </tr>\n",
       "    <tr>\n",
       "      <th>addr_state:VA</th>\n",
       "      <td>50271</td>\n",
       "      <td>0.0277965</td>\n",
       "      <td>43876</td>\n",
       "      <td>0.0277476</td>\n",
       "      <td>6395</td>\n",
       "      <td>0.0281372</td>\n",
       "      <td>-0.0139447</td>\n",
       "      <td>0.00787693</td>\n",
       "      <td>0.014338</td>\n",
       "    </tr>\n",
       "    <tr>\n",
       "      <th>addr_state:MN</th>\n",
       "      <td>31559</td>\n",
       "      <td>0.01745</td>\n",
       "      <td>27548</td>\n",
       "      <td>0.0174216</td>\n",
       "      <td>4011</td>\n",
       "      <td>0.0176479</td>\n",
       "      <td>-0.0129064</td>\n",
       "      <td>0.00103831</td>\n",
       "      <td>0.014338</td>\n",
       "    </tr>\n",
       "    <tr>\n",
       "      <th>addr_state:AK</th>\n",
       "      <td>4187</td>\n",
       "      <td>0.00231513</td>\n",
       "      <td>3657</td>\n",
       "      <td>0.00231272</td>\n",
       "      <td>530</td>\n",
       "      <td>0.00233194</td>\n",
       "      <td>-0.00827437</td>\n",
       "      <td>0.00463206</td>\n",
       "      <td>0.014338</td>\n",
       "    </tr>\n",
       "    <tr>\n",
       "      <th>addr_state:AZ</th>\n",
       "      <td>42948</td>\n",
       "      <td>0.0237474</td>\n",
       "      <td>37561</td>\n",
       "      <td>0.0237539</td>\n",
       "      <td>5387</td>\n",
       "      <td>0.0237021</td>\n",
       "      <td>0.00218186</td>\n",
       "      <td>0.0104562</td>\n",
       "      <td>0.014338</td>\n",
       "    </tr>\n",
       "    <tr>\n",
       "      <th>addr_state:NE</th>\n",
       "      <td>6281</td>\n",
       "      <td>0.00347298</td>\n",
       "      <td>5498</td>\n",
       "      <td>0.00347699</td>\n",
       "      <td>783</td>\n",
       "      <td>0.0034451</td>\n",
       "      <td>0.0092112</td>\n",
       "      <td>0.00702934</td>\n",
       "      <td>0.014338</td>\n",
       "    </tr>\n",
       "    <tr>\n",
       "      <th>addr_state:OH</th>\n",
       "      <td>60217</td>\n",
       "      <td>0.033296</td>\n",
       "      <td>52733</td>\n",
       "      <td>0.0333488</td>\n",
       "      <td>7484</td>\n",
       "      <td>0.0329287</td>\n",
       "      <td>0.0126783</td>\n",
       "      <td>0.00346706</td>\n",
       "      <td>0.014338</td>\n",
       "    </tr>\n",
       "    <tr>\n",
       "      <th>addr_state:TX</th>\n",
       "      <td>149254</td>\n",
       "      <td>0.0825276</td>\n",
       "      <td>130748</td>\n",
       "      <td>0.0826862</td>\n",
       "      <td>18506</td>\n",
       "      <td>0.0814242</td>\n",
       "      <td>0.015381</td>\n",
       "      <td>0.00270277</td>\n",
       "      <td>0.014338</td>\n",
       "    </tr>\n",
       "    <tr>\n",
       "      <th>addr_state:DE</th>\n",
       "      <td>5174</td>\n",
       "      <td>0.00286088</td>\n",
       "      <td>4538</td>\n",
       "      <td>0.00286987</td>\n",
       "      <td>636</td>\n",
       "      <td>0.00279832</td>\n",
       "      <td>0.0252473</td>\n",
       "      <td>0.0098663</td>\n",
       "      <td>0.014338</td>\n",
       "    </tr>\n",
       "    <tr>\n",
       "      <th>addr_state:MA</th>\n",
       "      <td>41532</td>\n",
       "      <td>0.0229645</td>\n",
       "      <td>36488</td>\n",
       "      <td>0.0230753</td>\n",
       "      <td>5044</td>\n",
       "      <td>0.022193</td>\n",
       "      <td>0.0389882</td>\n",
       "      <td>0.0137409</td>\n",
       "      <td>0.014338</td>\n",
       "    </tr>\n",
       "    <tr>\n",
       "      <th>addr_state:UT</th>\n",
       "      <td>11909</td>\n",
       "      <td>0.00658489</td>\n",
       "      <td>10486</td>\n",
       "      <td>0.00663144</td>\n",
       "      <td>1423</td>\n",
       "      <td>0.00626103</td>\n",
       "      <td>0.0574779</td>\n",
       "      <td>0.0184897</td>\n",
       "      <td>0.014338</td>\n",
       "    </tr>\n",
       "    <tr>\n",
       "      <th>addr_state:WI</th>\n",
       "      <td>23895</td>\n",
       "      <td>0.0132124</td>\n",
       "      <td>21127</td>\n",
       "      <td>0.0133609</td>\n",
       "      <td>2768</td>\n",
       "      <td>0.0121789</td>\n",
       "      <td>0.092631</td>\n",
       "      <td>0.0351531</td>\n",
       "      <td>0.014338</td>\n",
       "    </tr>\n",
       "    <tr>\n",
       "      <th>addr_state:GA</th>\n",
       "      <td>59335</td>\n",
       "      <td>0.0328083</td>\n",
       "      <td>52636</td>\n",
       "      <td>0.0332875</td>\n",
       "      <td>6699</td>\n",
       "      <td>0.0294748</td>\n",
       "      <td>0.121646</td>\n",
       "      <td>0.0290152</td>\n",
       "      <td>0.014338</td>\n",
       "    </tr>\n",
       "    <tr>\n",
       "      <th>addr_state:RI</th>\n",
       "      <td>8024</td>\n",
       "      <td>0.00443674</td>\n",
       "      <td>7123</td>\n",
       "      <td>0.00450465</td>\n",
       "      <td>901</td>\n",
       "      <td>0.00396429</td>\n",
       "      <td>0.127783</td>\n",
       "      <td>0.00613697</td>\n",
       "      <td>0.014338</td>\n",
       "    </tr>\n",
       "    <tr>\n",
       "      <th>addr_state:WY</th>\n",
       "      <td>3784</td>\n",
       "      <td>0.0020923</td>\n",
       "      <td>3365</td>\n",
       "      <td>0.00212806</td>\n",
       "      <td>419</td>\n",
       "      <td>0.00184355</td>\n",
       "      <td>0.143517</td>\n",
       "      <td>0.0157333</td>\n",
       "      <td>0.014338</td>\n",
       "    </tr>\n",
       "    <tr>\n",
       "      <th>addr_state:IL</th>\n",
       "      <td>72910</td>\n",
       "      <td>0.0403144</td>\n",
       "      <td>64929</td>\n",
       "      <td>0.0410617</td>\n",
       "      <td>7981</td>\n",
       "      <td>0.0351154</td>\n",
       "      <td>0.156435</td>\n",
       "      <td>0.0129183</td>\n",
       "      <td>0.014338</td>\n",
       "    </tr>\n",
       "    <tr>\n",
       "      <th>addr_state:MT</th>\n",
       "      <td>5056</td>\n",
       "      <td>0.00279563</td>\n",
       "      <td>4513</td>\n",
       "      <td>0.00285406</td>\n",
       "      <td>543</td>\n",
       "      <td>0.00238913</td>\n",
       "      <td>0.177812</td>\n",
       "      <td>0.0213774</td>\n",
       "      <td>0.014338</td>\n",
       "    </tr>\n",
       "    <tr>\n",
       "      <th>addr_state:KS</th>\n",
       "      <td>15266</td>\n",
       "      <td>0.00844109</td>\n",
       "      <td>13638</td>\n",
       "      <td>0.00862479</td>\n",
       "      <td>1628</td>\n",
       "      <td>0.007163</td>\n",
       "      <td>0.185712</td>\n",
       "      <td>0.00789967</td>\n",
       "      <td>0.014338</td>\n",
       "    </tr>\n",
       "    <tr>\n",
       "      <th>addr_state:CT</th>\n",
       "      <td>28587</td>\n",
       "      <td>0.0158067</td>\n",
       "      <td>25628</td>\n",
       "      <td>0.0162074</td>\n",
       "      <td>2959</td>\n",
       "      <td>0.0130192</td>\n",
       "      <td>0.219038</td>\n",
       "      <td>0.0333264</td>\n",
       "      <td>0.014338</td>\n",
       "    </tr>\n",
       "    <tr>\n",
       "      <th>addr_state:ND</th>\n",
       "      <td>2923</td>\n",
       "      <td>0.00161623</td>\n",
       "      <td>2621</td>\n",
       "      <td>0.00165754</td>\n",
       "      <td>302</td>\n",
       "      <td>0.00132876</td>\n",
       "      <td>0.221088</td>\n",
       "      <td>0.00205006</td>\n",
       "      <td>0.014338</td>\n",
       "    </tr>\n",
       "    <tr>\n",
       "      <th>addr_state:WA</th>\n",
       "      <td>37787</td>\n",
       "      <td>0.0208937</td>\n",
       "      <td>33919</td>\n",
       "      <td>0.0214507</td>\n",
       "      <td>3868</td>\n",
       "      <td>0.0170187</td>\n",
       "      <td>0.231442</td>\n",
       "      <td>0.0103536</td>\n",
       "      <td>0.014338</td>\n",
       "    </tr>\n",
       "    <tr>\n",
       "      <th>addr_state:CO</th>\n",
       "      <td>38525</td>\n",
       "      <td>0.0213018</td>\n",
       "      <td>34607</td>\n",
       "      <td>0.0218858</td>\n",
       "      <td>3918</td>\n",
       "      <td>0.0172387</td>\n",
       "      <td>0.238679</td>\n",
       "      <td>0.0072369</td>\n",
       "      <td>0.014338</td>\n",
       "    </tr>\n",
       "    <tr>\n",
       "      <th>addr_state:SC</th>\n",
       "      <td>22432</td>\n",
       "      <td>0.0124034</td>\n",
       "      <td>20189</td>\n",
       "      <td>0.0127677</td>\n",
       "      <td>2243</td>\n",
       "      <td>0.00986893</td>\n",
       "      <td>0.257528</td>\n",
       "      <td>0.018849</td>\n",
       "      <td>0.014338</td>\n",
       "    </tr>\n",
       "    <tr>\n",
       "      <th>addr_state:WV</th>\n",
       "      <td>6687</td>\n",
       "      <td>0.00369747</td>\n",
       "      <td>6054</td>\n",
       "      <td>0.0038286</td>\n",
       "      <td>633</td>\n",
       "      <td>0.00278512</td>\n",
       "      <td>0.318208</td>\n",
       "      <td>0.0606804</td>\n",
       "      <td>0.014338</td>\n",
       "    </tr>\n",
       "    <tr>\n",
       "      <th>addr_state:OR</th>\n",
       "      <td>21465</td>\n",
       "      <td>0.0118687</td>\n",
       "      <td>19469</td>\n",
       "      <td>0.0123124</td>\n",
       "      <td>1996</td>\n",
       "      <td>0.00878216</td>\n",
       "      <td>0.337883</td>\n",
       "      <td>0.0196742</td>\n",
       "      <td>0.014338</td>\n",
       "    </tr>\n",
       "    <tr>\n",
       "      <th>addr_state:NH</th>\n",
       "      <td>8955</td>\n",
       "      <td>0.00495152</td>\n",
       "      <td>8138</td>\n",
       "      <td>0.00514654</td>\n",
       "      <td>817</td>\n",
       "      <td>0.0035947</td>\n",
       "      <td>0.358865</td>\n",
       "      <td>0.0209824</td>\n",
       "      <td>0.014338</td>\n",
       "    </tr>\n",
       "    <tr>\n",
       "      <th>addr_state:DC</th>\n",
       "      <td>4292</td>\n",
       "      <td>0.00237319</td>\n",
       "      <td>3903</td>\n",
       "      <td>0.00246829</td>\n",
       "      <td>389</td>\n",
       "      <td>0.00171155</td>\n",
       "      <td>0.366126</td>\n",
       "      <td>0.00726079</td>\n",
       "      <td>0.014338</td>\n",
       "    </tr>\n",
       "    <tr>\n",
       "      <th>addr_state:ID</th>\n",
       "      <td>3486</td>\n",
       "      <td>0.00192753</td>\n",
       "      <td>3205</td>\n",
       "      <td>0.00202687</td>\n",
       "      <td>281</td>\n",
       "      <td>0.00123637</td>\n",
       "      <td>0.494317</td>\n",
       "      <td>0.128191</td>\n",
       "      <td>0.014338</td>\n",
       "    </tr>\n",
       "    <tr>\n",
       "      <th>addr_state:VT</th>\n",
       "      <td>3934</td>\n",
       "      <td>0.00217524</td>\n",
       "      <td>3629</td>\n",
       "      <td>0.00229501</td>\n",
       "      <td>305</td>\n",
       "      <td>0.00134196</td>\n",
       "      <td>0.536605</td>\n",
       "      <td>0.0422879</td>\n",
       "      <td>0.014338</td>\n",
       "    </tr>\n",
       "    <tr>\n",
       "      <th>addr_state:ME</th>\n",
       "      <td>3947</td>\n",
       "      <td>0.00218243</td>\n",
       "      <td>3702</td>\n",
       "      <td>0.00234118</td>\n",
       "      <td>245</td>\n",
       "      <td>0.00107797</td>\n",
       "      <td>0.775575</td>\n",
       "      <td>0.23897</td>\n",
       "      <td>0.014338</td>\n",
       "    </tr>\n",
       "  </tbody>\n",
       "</table>\n",
       "</div>"
      ],
      "text/plain": [
       "                n_obs  proba_n_obs pos_obs proba_pos_obs neg_obs  \\\n",
       "addr_state:IA      12  6.63521e-06       9   5.69168e-06       3   \n",
       "addr_state:AL   21792    0.0120495   18474     0.0116831    3318   \n",
       "addr_state:AR   13572   0.00750442   11547    0.00730243    2025   \n",
       "addr_state:MS   10065   0.00556528    8574    0.00542228    1491   \n",
       "addr_state:OK   16515   0.00913171   14091    0.00891128    2424   \n",
       "addr_state:LA   20517    0.0113445   17514      0.011076    3003   \n",
       "addr_state:NV   26116    0.0144404   22406     0.0141698    3710   \n",
       "addr_state:NM    9623   0.00532088    8277    0.00523445    1346   \n",
       "addr_state:HI    8558   0.00473201    7375    0.00466402    1183   \n",
       "addr_state:NY  149066    0.0824237  128541     0.0812905   20525   \n",
       "addr_state:SD    3654   0.00202042    3153    0.00199399     501   \n",
       "addr_state:FL  129728     0.071731  112185     0.0709468   17543   \n",
       "addr_state:MO   28907    0.0159837   25035     0.0158324    3872   \n",
       "addr_state:MD   43092     0.023827   37361     0.0236274    5731   \n",
       "addr_state:NC   50259    0.0277899   43620     0.0275857    6639   \n",
       "addr_state:PA   61555    0.0340359   53575     0.0338813    7980   \n",
       "addr_state:KY   17441   0.00964372   15180    0.00959997    2261   \n",
       "addr_state:TN   28369    0.0156862   24696      0.015618    3673   \n",
       "addr_state:CA  251554     0.139093  219066      0.138539   32488   \n",
       "addr_state:NJ   66339    0.0366811   57787      0.036545    8552   \n",
       "addr_state:MI   47058      0.02602   40999     0.0259281    6059   \n",
       "addr_state:IN   30120    0.0166544   26262     0.0166083    3858   \n",
       "addr_state:VA   50271    0.0277965   43876     0.0277476    6395   \n",
       "addr_state:MN   31559      0.01745   27548     0.0174216    4011   \n",
       "addr_state:AK    4187   0.00231513    3657    0.00231272     530   \n",
       "addr_state:AZ   42948    0.0237474   37561     0.0237539    5387   \n",
       "addr_state:NE    6281   0.00347298    5498    0.00347699     783   \n",
       "addr_state:OH   60217     0.033296   52733     0.0333488    7484   \n",
       "addr_state:TX  149254    0.0825276  130748     0.0826862   18506   \n",
       "addr_state:DE    5174   0.00286088    4538    0.00286987     636   \n",
       "addr_state:MA   41532    0.0229645   36488     0.0230753    5044   \n",
       "addr_state:UT   11909   0.00658489   10486    0.00663144    1423   \n",
       "addr_state:WI   23895    0.0132124   21127     0.0133609    2768   \n",
       "addr_state:GA   59335    0.0328083   52636     0.0332875    6699   \n",
       "addr_state:RI    8024   0.00443674    7123    0.00450465     901   \n",
       "addr_state:WY    3784    0.0020923    3365    0.00212806     419   \n",
       "addr_state:IL   72910    0.0403144   64929     0.0410617    7981   \n",
       "addr_state:MT    5056   0.00279563    4513    0.00285406     543   \n",
       "addr_state:KS   15266   0.00844109   13638    0.00862479    1628   \n",
       "addr_state:CT   28587    0.0158067   25628     0.0162074    2959   \n",
       "addr_state:ND    2923   0.00161623    2621    0.00165754     302   \n",
       "addr_state:WA   37787    0.0208937   33919     0.0214507    3868   \n",
       "addr_state:CO   38525    0.0213018   34607     0.0218858    3918   \n",
       "addr_state:SC   22432    0.0124034   20189     0.0127677    2243   \n",
       "addr_state:WV    6687   0.00369747    6054     0.0038286     633   \n",
       "addr_state:OR   21465    0.0118687   19469     0.0123124    1996   \n",
       "addr_state:NH    8955   0.00495152    8138    0.00514654     817   \n",
       "addr_state:DC    4292   0.00237319    3903    0.00246829     389   \n",
       "addr_state:ID    3486   0.00192753    3205    0.00202687     281   \n",
       "addr_state:VT    3934   0.00217524    3629    0.00229501     305   \n",
       "addr_state:ME    3947   0.00218243    3702    0.00234118     245   \n",
       "\n",
       "              proba_neg_obs         woe     woe_diff        iv  \n",
       "addr_state:IA   1.31996e-05   -0.841183          NaN  0.014338  \n",
       "addr_state:AL     0.0145988   -0.222794      0.61839  0.014338  \n",
       "addr_state:AR    0.00890975    -0.19894    0.0238538  0.014338  \n",
       "addr_state:MS    0.00656022   -0.190508   0.00843137  0.014338  \n",
       "addr_state:OK     0.0106653   -0.179679    0.0108299  0.014338  \n",
       "addr_state:LA     0.0132128   -0.176407   0.00327154  0.014338  \n",
       "addr_state:NV     0.0163235   -0.141499    0.0349081  0.014338  \n",
       "addr_state:NM    0.00592224   -0.123452    0.0180464  0.014338  \n",
       "addr_state:HI    0.00520506   -0.109753     0.013699  0.014338  \n",
       "addr_state:NY     0.0903075   -0.105192   0.00456195  0.014338  \n",
       "addr_state:SD    0.00220434   -0.100292   0.00489929  0.014338  \n",
       "addr_state:FL     0.0771871  -0.0843015    0.0159907  0.014338  \n",
       "addr_state:MO     0.0170363  -0.0732921    0.0110094  0.014338  \n",
       "addr_state:MD     0.0252157  -0.0650584   0.00823367  0.014338  \n",
       "addr_state:NC     0.0292108  -0.0572414   0.00781707  0.014338  \n",
       "addr_state:PA      0.035111  -0.0356516    0.0215897  0.014338  \n",
       "addr_state:KY    0.00994813  -0.0356242  2.74488e-05  0.014338  \n",
       "addr_state:TN     0.0161608  -0.0341633   0.00146094  0.014338  \n",
       "addr_state:CA      0.142943  -0.0312935   0.00286974  0.014338  \n",
       "addr_state:NJ     0.0376278  -0.0291971    0.0020964  0.014338  \n",
       "addr_state:MI     0.0266589  -0.0277929   0.00140424  0.014338  \n",
       "addr_state:IN     0.0169747  -0.0218217   0.00597121  0.014338  \n",
       "addr_state:VA     0.0281372  -0.0139447   0.00787693  0.014338  \n",
       "addr_state:MN     0.0176479  -0.0129064   0.00103831  0.014338  \n",
       "addr_state:AK    0.00233194 -0.00827437   0.00463206  0.014338  \n",
       "addr_state:AZ     0.0237021  0.00218186    0.0104562  0.014338  \n",
       "addr_state:NE     0.0034451   0.0092112   0.00702934  0.014338  \n",
       "addr_state:OH     0.0329287   0.0126783   0.00346706  0.014338  \n",
       "addr_state:TX     0.0814242    0.015381   0.00270277  0.014338  \n",
       "addr_state:DE    0.00279832   0.0252473    0.0098663  0.014338  \n",
       "addr_state:MA      0.022193   0.0389882    0.0137409  0.014338  \n",
       "addr_state:UT    0.00626103   0.0574779    0.0184897  0.014338  \n",
       "addr_state:WI     0.0121789    0.092631    0.0351531  0.014338  \n",
       "addr_state:GA     0.0294748    0.121646    0.0290152  0.014338  \n",
       "addr_state:RI    0.00396429    0.127783   0.00613697  0.014338  \n",
       "addr_state:WY    0.00184355    0.143517    0.0157333  0.014338  \n",
       "addr_state:IL     0.0351154    0.156435    0.0129183  0.014338  \n",
       "addr_state:MT    0.00238913    0.177812    0.0213774  0.014338  \n",
       "addr_state:KS      0.007163    0.185712   0.00789967  0.014338  \n",
       "addr_state:CT     0.0130192    0.219038    0.0333264  0.014338  \n",
       "addr_state:ND    0.00132876    0.221088   0.00205006  0.014338  \n",
       "addr_state:WA     0.0170187    0.231442    0.0103536  0.014338  \n",
       "addr_state:CO     0.0172387    0.238679    0.0072369  0.014338  \n",
       "addr_state:SC    0.00986893    0.257528     0.018849  0.014338  \n",
       "addr_state:WV    0.00278512    0.318208    0.0606804  0.014338  \n",
       "addr_state:OR    0.00878216    0.337883    0.0196742  0.014338  \n",
       "addr_state:NH     0.0035947    0.358865    0.0209824  0.014338  \n",
       "addr_state:DC    0.00171155    0.366126   0.00726079  0.014338  \n",
       "addr_state:ID    0.00123637    0.494317     0.128191  0.014338  \n",
       "addr_state:VT    0.00134196    0.536605    0.0422879  0.014338  \n",
       "addr_state:ME    0.00107797    0.775575      0.23897  0.014338  "
      ]
     },
     "execution_count": 54,
     "metadata": {},
     "output_type": "execute_result"
    }
   ],
   "source": [
    "calc_woe_df(addr_state_df_dummies_train, train_targets, 'Address State', 90)"
   ]
  },
  {
   "cell_type": "markdown",
   "metadata": {},
   "source": [
    "#### Training Features of addr_state column"
   ]
  },
  {
   "cell_type": "code",
   "execution_count": 55,
   "metadata": {},
   "outputs": [
    {
     "name": "stderr",
     "output_type": "stream",
     "text": [
      "C:\\Users\\Yashveer\\AppData\\Roaming\\Python\\Python37\\site-packages\\ipykernel_launcher.py:2: SettingWithCopyWarning: \n",
      "A value is trying to be set on a copy of a slice from a DataFrame.\n",
      "Try using .loc[row_indexer,col_indexer] = value instead\n",
      "\n",
      "See the caveats in the documentation: http://pandas.pydata.org/pandas-docs/stable/user_guide/indexing.html#returning-a-view-versus-a-copy\n",
      "  \n",
      "C:\\Users\\Yashveer\\AppData\\Roaming\\Python\\Python37\\site-packages\\ipykernel_launcher.py:3: SettingWithCopyWarning: \n",
      "A value is trying to be set on a copy of a slice from a DataFrame.\n",
      "Try using .loc[row_indexer,col_indexer] = value instead\n",
      "\n",
      "See the caveats in the documentation: http://pandas.pydata.org/pandas-docs/stable/user_guide/indexing.html#returning-a-view-versus-a-copy\n",
      "  This is separate from the ipykernel package so we can avoid doing imports until\n",
      "C:\\Users\\Yashveer\\AppData\\Roaming\\Python\\Python37\\site-packages\\ipykernel_launcher.py:4: SettingWithCopyWarning: \n",
      "A value is trying to be set on a copy of a slice from a DataFrame.\n",
      "Try using .loc[row_indexer,col_indexer] = value instead\n",
      "\n",
      "See the caveats in the documentation: http://pandas.pydata.org/pandas-docs/stable/user_guide/indexing.html#returning-a-view-versus-a-copy\n",
      "  after removing the cwd from sys.path.\n",
      "C:\\Users\\Yashveer\\AppData\\Roaming\\Python\\Python37\\site-packages\\ipykernel_launcher.py:5: SettingWithCopyWarning: \n",
      "A value is trying to be set on a copy of a slice from a DataFrame.\n",
      "Try using .loc[row_indexer,col_indexer] = value instead\n",
      "\n",
      "See the caveats in the documentation: http://pandas.pydata.org/pandas-docs/stable/user_guide/indexing.html#returning-a-view-versus-a-copy\n",
      "  \"\"\"\n",
      "C:\\Users\\Yashveer\\AppData\\Roaming\\Python\\Python37\\site-packages\\ipykernel_launcher.py:6: SettingWithCopyWarning: \n",
      "A value is trying to be set on a copy of a slice from a DataFrame.\n",
      "Try using .loc[row_indexer,col_indexer] = value instead\n",
      "\n",
      "See the caveats in the documentation: http://pandas.pydata.org/pandas-docs/stable/user_guide/indexing.html#returning-a-view-versus-a-copy\n",
      "  \n",
      "C:\\Users\\Yashveer\\AppData\\Roaming\\Python\\Python37\\site-packages\\ipykernel_launcher.py:7: SettingWithCopyWarning: \n",
      "A value is trying to be set on a copy of a slice from a DataFrame.\n",
      "Try using .loc[row_indexer,col_indexer] = value instead\n",
      "\n",
      "See the caveats in the documentation: http://pandas.pydata.org/pandas-docs/stable/user_guide/indexing.html#returning-a-view-versus-a-copy\n",
      "  import sys\n",
      "C:\\Users\\Yashveer\\AppData\\Roaming\\Python\\Python37\\site-packages\\ipykernel_launcher.py:8: SettingWithCopyWarning: \n",
      "A value is trying to be set on a copy of a slice from a DataFrame.\n",
      "Try using .loc[row_indexer,col_indexer] = value instead\n",
      "\n",
      "See the caveats in the documentation: http://pandas.pydata.org/pandas-docs/stable/user_guide/indexing.html#returning-a-view-versus-a-copy\n",
      "  \n",
      "C:\\Users\\Yashveer\\AppData\\Roaming\\Python\\Python37\\site-packages\\ipykernel_launcher.py:9: SettingWithCopyWarning: \n",
      "A value is trying to be set on a copy of a slice from a DataFrame.\n",
      "Try using .loc[row_indexer,col_indexer] = value instead\n",
      "\n",
      "See the caveats in the documentation: http://pandas.pydata.org/pandas-docs/stable/user_guide/indexing.html#returning-a-view-versus-a-copy\n",
      "  if __name__ == '__main__':\n",
      "C:\\Users\\Yashveer\\AppData\\Roaming\\Python\\Python37\\site-packages\\ipykernel_launcher.py:10: SettingWithCopyWarning: \n",
      "A value is trying to be set on a copy of a slice from a DataFrame.\n",
      "Try using .loc[row_indexer,col_indexer] = value instead\n",
      "\n",
      "See the caveats in the documentation: http://pandas.pydata.org/pandas-docs/stable/user_guide/indexing.html#returning-a-view-versus-a-copy\n",
      "  # Remove the CWD from sys.path while we load stuff.\n",
      "C:\\Users\\Yashveer\\AppData\\Roaming\\Python\\Python37\\site-packages\\ipykernel_launcher.py:11: SettingWithCopyWarning: \n",
      "A value is trying to be set on a copy of a slice from a DataFrame.\n",
      "Try using .loc[row_indexer,col_indexer] = value instead\n",
      "\n",
      "See the caveats in the documentation: http://pandas.pydata.org/pandas-docs/stable/user_guide/indexing.html#returning-a-view-versus-a-copy\n",
      "  # This is added back by InteractiveShellApp.init_path()\n",
      "C:\\Users\\Yashveer\\AppData\\Roaming\\Python\\Python37\\site-packages\\ipykernel_launcher.py:12: SettingWithCopyWarning: \n",
      "A value is trying to be set on a copy of a slice from a DataFrame.\n",
      "Try using .loc[row_indexer,col_indexer] = value instead\n",
      "\n",
      "See the caveats in the documentation: http://pandas.pydata.org/pandas-docs/stable/user_guide/indexing.html#returning-a-view-versus-a-copy\n",
      "  if sys.path[0] == '':\n",
      "C:\\Users\\Yashveer\\AppData\\Roaming\\Python\\Python37\\site-packages\\ipykernel_launcher.py:13: SettingWithCopyWarning: \n",
      "A value is trying to be set on a copy of a slice from a DataFrame.\n",
      "Try using .loc[row_indexer,col_indexer] = value instead\n",
      "\n",
      "See the caveats in the documentation: http://pandas.pydata.org/pandas-docs/stable/user_guide/indexing.html#returning-a-view-versus-a-copy\n",
      "  del sys.path[0]\n"
     ]
    }
   ],
   "source": [
    "addr_state_training_features_df = addr_state_df_dummies_train[['addr_state:IA']]\n",
    "addr_state_training_features_df['addr_state:AL_AR_MS_OK_LA_NV_NM_HI'] = np.where( ((addr_state_df_dummies_train['addr_state:AL'] == 1)| (addr_state_df_dummies_train['addr_state:AR'] == 1)| (addr_state_df_dummies_train['addr_state:MS'] == 1)| (addr_state_df_dummies_train['addr_state:OK'] == 1)| (addr_state_df_dummies_train['addr_state:LA'] == 1)| (addr_state_df_dummies_train['addr_state:NV'] == 1)| (addr_state_df_dummies_train['addr_state:NM'] == 1) | (addr_state_df_dummies_train['addr_state:HI'] == 1)), 1, 0)\n",
    "addr_state_training_features_df['addr_state:NY'] = addr_state_df_dummies_train[['addr_state:NY']]\n",
    "addr_state_training_features_df['addr_state:SD'] = addr_state_df_dummies_train[['addr_state:SD']]\n",
    "addr_state_training_features_df['addr_state:FL'] = addr_state_df_dummies_train[['addr_state:FL']]\n",
    "addr_state_training_features_df['addr_state:MO_MD_NC_PA_KY_TN'] = np.where( ((addr_state_df_dummies_train['addr_state:MO'] == 1)| (addr_state_df_dummies_train['addr_state:MD'] == 1)| (addr_state_df_dummies_train['addr_state:NC'] == 1)| (addr_state_df_dummies_train['addr_state:PA'] == 1)| (addr_state_df_dummies_train['addr_state:KY'] == 1)| (addr_state_df_dummies_train['addr_state:TN'] == 1)), 1, 0)\n",
    "addr_state_training_features_df['addr_state:CA'] = addr_state_df_dummies_train[['addr_state:CA']]\n",
    "addr_state_training_features_df['addr_state:NJ_MI_VA_MN_AK_AZ_NE_OH'] = np.where( ((addr_state_df_dummies_train['addr_state:NJ'] == 1)| (addr_state_df_dummies_train['addr_state:MI'] == 1)| (addr_state_df_dummies_train['addr_state:VA'] == 1)| (addr_state_df_dummies_train['addr_state:MN'] == 1)| (addr_state_df_dummies_train['addr_state:AK'] == 1)| (addr_state_df_dummies_train['addr_state:AZ'] == 1)| (addr_state_df_dummies_train['addr_state:NE'] == 1)| (addr_state_df_dummies_train['addr_state:OH'] == 1)), 1, 0)\n",
    "addr_state_training_features_df['addr_state:TX'] = addr_state_df_dummies_train[['addr_state:TX']]\n",
    "addr_state_training_features_df['addr_state:DE_MA_UT_GA_RI_WY_IL_MT_KS'] = np.where( ((addr_state_df_dummies_train['addr_state:DE'] == 1)| (addr_state_df_dummies_train['addr_state:MA'] == 1)| (addr_state_df_dummies_train['addr_state:UT'] == 1)| (addr_state_df_dummies_train['addr_state:GA'] == 1)| (addr_state_df_dummies_train['addr_state:RI'] == 1)| (addr_state_df_dummies_train['addr_state:WY'] == 1)| (addr_state_df_dummies_train['addr_state:IL'] == 1)| (addr_state_df_dummies_train['addr_state:MT'] == 1)| (addr_state_df_dummies_train['addr_state:KS'] == 1)), 1, 0)\n",
    "addr_state_training_features_df['addr_state:CT_ND_WA_CO_SC_WV_OR_NH_DC'] = np.where( ((addr_state_df_dummies_train['addr_state:CT'] == 1)| (addr_state_df_dummies_train['addr_state:ND'] == 1)| (addr_state_df_dummies_train['addr_state:WA'] == 1)| (addr_state_df_dummies_train['addr_state:CO'] == 1)| (addr_state_df_dummies_train['addr_state:SC'] == 1)| (addr_state_df_dummies_train['addr_state:WV'] == 1)| (addr_state_df_dummies_train['addr_state:OR'] == 1)| (addr_state_df_dummies_train['addr_state:NH'] == 1)| (addr_state_df_dummies_train['addr_state:DC'] == 1)), 1, 0)\n",
    "addr_state_training_features_df['addr_state:ID_VT'] = np.where( ((addr_state_df_dummies_train['addr_state:ID'] == 1) | (addr_state_df_dummies_train['addr_state:VT'] == 1)), 1, 0)\n",
    "addr_state_training_features_df['addr_state:ME'] = addr_state_df_dummies_train[['addr_state:ME']]"
   ]
  },
  {
   "cell_type": "markdown",
   "metadata": {},
   "source": [
    "#### Testing Features of addr_state column"
   ]
  },
  {
   "cell_type": "code",
   "execution_count": 56,
   "metadata": {},
   "outputs": [
    {
     "name": "stderr",
     "output_type": "stream",
     "text": [
      "C:\\Users\\Yashveer\\AppData\\Roaming\\Python\\Python37\\site-packages\\ipykernel_launcher.py:2: SettingWithCopyWarning: \n",
      "A value is trying to be set on a copy of a slice from a DataFrame.\n",
      "Try using .loc[row_indexer,col_indexer] = value instead\n",
      "\n",
      "See the caveats in the documentation: http://pandas.pydata.org/pandas-docs/stable/user_guide/indexing.html#returning-a-view-versus-a-copy\n",
      "  \n",
      "C:\\Users\\Yashveer\\AppData\\Roaming\\Python\\Python37\\site-packages\\ipykernel_launcher.py:3: SettingWithCopyWarning: \n",
      "A value is trying to be set on a copy of a slice from a DataFrame.\n",
      "Try using .loc[row_indexer,col_indexer] = value instead\n",
      "\n",
      "See the caveats in the documentation: http://pandas.pydata.org/pandas-docs/stable/user_guide/indexing.html#returning-a-view-versus-a-copy\n",
      "  This is separate from the ipykernel package so we can avoid doing imports until\n",
      "C:\\Users\\Yashveer\\AppData\\Roaming\\Python\\Python37\\site-packages\\ipykernel_launcher.py:4: SettingWithCopyWarning: \n",
      "A value is trying to be set on a copy of a slice from a DataFrame.\n",
      "Try using .loc[row_indexer,col_indexer] = value instead\n",
      "\n",
      "See the caveats in the documentation: http://pandas.pydata.org/pandas-docs/stable/user_guide/indexing.html#returning-a-view-versus-a-copy\n",
      "  after removing the cwd from sys.path.\n",
      "C:\\Users\\Yashveer\\AppData\\Roaming\\Python\\Python37\\site-packages\\ipykernel_launcher.py:5: SettingWithCopyWarning: \n",
      "A value is trying to be set on a copy of a slice from a DataFrame.\n",
      "Try using .loc[row_indexer,col_indexer] = value instead\n",
      "\n",
      "See the caveats in the documentation: http://pandas.pydata.org/pandas-docs/stable/user_guide/indexing.html#returning-a-view-versus-a-copy\n",
      "  \"\"\"\n",
      "C:\\Users\\Yashveer\\AppData\\Roaming\\Python\\Python37\\site-packages\\ipykernel_launcher.py:6: SettingWithCopyWarning: \n",
      "A value is trying to be set on a copy of a slice from a DataFrame.\n",
      "Try using .loc[row_indexer,col_indexer] = value instead\n",
      "\n",
      "See the caveats in the documentation: http://pandas.pydata.org/pandas-docs/stable/user_guide/indexing.html#returning-a-view-versus-a-copy\n",
      "  \n",
      "C:\\Users\\Yashveer\\AppData\\Roaming\\Python\\Python37\\site-packages\\ipykernel_launcher.py:7: SettingWithCopyWarning: \n",
      "A value is trying to be set on a copy of a slice from a DataFrame.\n",
      "Try using .loc[row_indexer,col_indexer] = value instead\n",
      "\n",
      "See the caveats in the documentation: http://pandas.pydata.org/pandas-docs/stable/user_guide/indexing.html#returning-a-view-versus-a-copy\n",
      "  import sys\n",
      "C:\\Users\\Yashveer\\AppData\\Roaming\\Python\\Python37\\site-packages\\ipykernel_launcher.py:8: SettingWithCopyWarning: \n",
      "A value is trying to be set on a copy of a slice from a DataFrame.\n",
      "Try using .loc[row_indexer,col_indexer] = value instead\n",
      "\n",
      "See the caveats in the documentation: http://pandas.pydata.org/pandas-docs/stable/user_guide/indexing.html#returning-a-view-versus-a-copy\n",
      "  \n",
      "C:\\Users\\Yashveer\\AppData\\Roaming\\Python\\Python37\\site-packages\\ipykernel_launcher.py:9: SettingWithCopyWarning: \n",
      "A value is trying to be set on a copy of a slice from a DataFrame.\n",
      "Try using .loc[row_indexer,col_indexer] = value instead\n",
      "\n",
      "See the caveats in the documentation: http://pandas.pydata.org/pandas-docs/stable/user_guide/indexing.html#returning-a-view-versus-a-copy\n",
      "  if __name__ == '__main__':\n",
      "C:\\Users\\Yashveer\\AppData\\Roaming\\Python\\Python37\\site-packages\\ipykernel_launcher.py:10: SettingWithCopyWarning: \n",
      "A value is trying to be set on a copy of a slice from a DataFrame.\n",
      "Try using .loc[row_indexer,col_indexer] = value instead\n",
      "\n",
      "See the caveats in the documentation: http://pandas.pydata.org/pandas-docs/stable/user_guide/indexing.html#returning-a-view-versus-a-copy\n",
      "  # Remove the CWD from sys.path while we load stuff.\n",
      "C:\\Users\\Yashveer\\AppData\\Roaming\\Python\\Python37\\site-packages\\ipykernel_launcher.py:11: SettingWithCopyWarning: \n",
      "A value is trying to be set on a copy of a slice from a DataFrame.\n",
      "Try using .loc[row_indexer,col_indexer] = value instead\n",
      "\n",
      "See the caveats in the documentation: http://pandas.pydata.org/pandas-docs/stable/user_guide/indexing.html#returning-a-view-versus-a-copy\n",
      "  # This is added back by InteractiveShellApp.init_path()\n",
      "C:\\Users\\Yashveer\\AppData\\Roaming\\Python\\Python37\\site-packages\\ipykernel_launcher.py:12: SettingWithCopyWarning: \n",
      "A value is trying to be set on a copy of a slice from a DataFrame.\n",
      "Try using .loc[row_indexer,col_indexer] = value instead\n",
      "\n",
      "See the caveats in the documentation: http://pandas.pydata.org/pandas-docs/stable/user_guide/indexing.html#returning-a-view-versus-a-copy\n",
      "  if sys.path[0] == '':\n",
      "C:\\Users\\Yashveer\\AppData\\Roaming\\Python\\Python37\\site-packages\\ipykernel_launcher.py:13: SettingWithCopyWarning: \n",
      "A value is trying to be set on a copy of a slice from a DataFrame.\n",
      "Try using .loc[row_indexer,col_indexer] = value instead\n",
      "\n",
      "See the caveats in the documentation: http://pandas.pydata.org/pandas-docs/stable/user_guide/indexing.html#returning-a-view-versus-a-copy\n",
      "  del sys.path[0]\n"
     ]
    }
   ],
   "source": [
    "addr_state_testing_features_df = addr_state_df_dummies_test[['addr_state:IA']]\n",
    "addr_state_testing_features_df['addr_state:AL_AR_MS_OK_LA_NV_NM_HI'] = np.where( ((addr_state_df_dummies_test['addr_state:AL'] == 1)| (addr_state_df_dummies_test['addr_state:AR'] == 1)| (addr_state_df_dummies_test['addr_state:MS'] == 1)| (addr_state_df_dummies_test['addr_state:OK'] == 1)| (addr_state_df_dummies_test['addr_state:LA'] == 1)| (addr_state_df_dummies_test['addr_state:NV'] == 1)| (addr_state_df_dummies_test['addr_state:NM'] == 1) | (addr_state_df_dummies_test['addr_state:HI'] == 1)), 1, 0)\n",
    "addr_state_testing_features_df['addr_state:NY'] = addr_state_df_dummies_test[['addr_state:NY']]\n",
    "addr_state_testing_features_df['addr_state:SD'] = addr_state_df_dummies_test[['addr_state:SD']]\n",
    "addr_state_testing_features_df['addr_state:FL'] = addr_state_df_dummies_test[['addr_state:FL']]\n",
    "addr_state_testing_features_df['addr_state:MO_MD_NC_PA_KY_TN'] = np.where( ((addr_state_df_dummies_test['addr_state:MO'] == 1)| (addr_state_df_dummies_test['addr_state:MD'] == 1)| (addr_state_df_dummies_test['addr_state:NC'] == 1)| (addr_state_df_dummies_test['addr_state:PA'] == 1)| (addr_state_df_dummies_test['addr_state:KY'] == 1)| (addr_state_df_dummies_test['addr_state:TN'] == 1)), 1, 0)\n",
    "addr_state_testing_features_df['addr_state:CA'] = addr_state_df_dummies_test[['addr_state:CA']]\n",
    "addr_state_testing_features_df['addr_state:NJ_MI_VA_MN_AK_AZ_NE_OH'] = np.where( ((addr_state_df_dummies_test['addr_state:NJ'] == 1)| (addr_state_df_dummies_test['addr_state:MI'] == 1)| (addr_state_df_dummies_test['addr_state:VA'] == 1)| (addr_state_df_dummies_test['addr_state:MN'] == 1)| (addr_state_df_dummies_test['addr_state:AK'] == 1)| (addr_state_df_dummies_test['addr_state:AZ'] == 1)| (addr_state_df_dummies_test['addr_state:NE'] == 1)| (addr_state_df_dummies_test['addr_state:OH'] == 1)), 1, 0)\n",
    "addr_state_testing_features_df['addr_state:TX'] = addr_state_df_dummies_test[['addr_state:TX']]\n",
    "addr_state_testing_features_df['addr_state:DE_MA_UT_GA_RI_WY_IL_MT_KS'] = np.where( ((addr_state_df_dummies_test['addr_state:DE'] == 1)| (addr_state_df_dummies_test['addr_state:MA'] == 1)| (addr_state_df_dummies_test['addr_state:UT'] == 1)| (addr_state_df_dummies_test['addr_state:GA'] == 1)| (addr_state_df_dummies_test['addr_state:RI'] == 1)| (addr_state_df_dummies_test['addr_state:WY'] == 1)| (addr_state_df_dummies_test['addr_state:IL'] == 1)| (addr_state_df_dummies_test['addr_state:MT'] == 1)| (addr_state_df_dummies_test['addr_state:KS'] == 1)), 1, 0)\n",
    "addr_state_testing_features_df['addr_state:CT_ND_WA_CO_SC_WV_OR_NH_DC'] = np.where( ((addr_state_df_dummies_test['addr_state:CT'] == 1)| (addr_state_df_dummies_test['addr_state:ND'] == 1)| (addr_state_df_dummies_test['addr_state:WA'] == 1)| (addr_state_df_dummies_test['addr_state:CO'] == 1)| (addr_state_df_dummies_test['addr_state:SC'] == 1)| (addr_state_df_dummies_test['addr_state:WV'] == 1)| (addr_state_df_dummies_test['addr_state:OR'] == 1)| (addr_state_df_dummies_test['addr_state:NH'] == 1)| (addr_state_df_dummies_test['addr_state:DC'] == 1)), 1, 0)\n",
    "addr_state_testing_features_df['addr_state:ID_VT'] = np.where( ((addr_state_df_dummies_test['addr_state:ID'] == 1) | (addr_state_df_dummies_test['addr_state:VT'] == 1)), 1, 0)\n",
    "addr_state_testing_features_df['addr_state:ME'] = addr_state_df_dummies_test[['addr_state:ME']]"
   ]
  },
  {
   "cell_type": "markdown",
   "metadata": {},
   "source": [
    "#### Adding addr_state feature to the set of training and testing features"
   ]
  },
  {
   "cell_type": "code",
   "execution_count": 57,
   "metadata": {},
   "outputs": [],
   "source": [
    "training_features_df = pd.concat((training_features_df, addr_state_training_features_df), axis=1)\n",
    "testing_features_df = pd.concat((testing_features_df, addr_state_testing_features_df), axis=1)"
   ]
  },
  {
   "cell_type": "markdown",
   "metadata": {},
   "source": [
    "## Verification Status"
   ]
  },
  {
   "cell_type": "code",
   "execution_count": 65,
   "metadata": {},
   "outputs": [],
   "source": [
    "verification_status_df_backup = pd.read_csv('Columns/verification_status.csv')\n",
    "verification_status_df = verification_status_df_backup[['verification_status']]"
   ]
  },
  {
   "cell_type": "markdown",
   "metadata": {},
   "source": [
    "#### Unique Values"
   ]
  },
  {
   "cell_type": "code",
   "execution_count": 67,
   "metadata": {},
   "outputs": [
    {
     "data": {
      "text/plain": [
       "array(['Not Verified', 'Source Verified', 'Verified'], dtype=object)"
      ]
     },
     "execution_count": 67,
     "metadata": {},
     "output_type": "execute_result"
    }
   ],
   "source": [
    "verification_status_df['verification_status'].unique()"
   ]
  },
  {
   "cell_type": "markdown",
   "metadata": {},
   "source": [
    "#### Null Values"
   ]
  },
  {
   "cell_type": "code",
   "execution_count": 68,
   "metadata": {},
   "outputs": [
    {
     "data": {
      "text/plain": [
       "0"
      ]
     },
     "execution_count": 68,
     "metadata": {},
     "output_type": "execute_result"
    }
   ],
   "source": [
    "verification_status_df['verification_status'].isna().sum()"
   ]
  },
  {
   "cell_type": "markdown",
   "metadata": {},
   "source": [
    "#### verification_status column dummies"
   ]
  },
  {
   "cell_type": "code",
   "execution_count": 69,
   "metadata": {},
   "outputs": [],
   "source": [
    "verification_status_df_dummies = pd.get_dummies(verification_status_df['verification_status'], prefix='verification_status', prefix_sep=':')"
   ]
  },
  {
   "cell_type": "markdown",
   "metadata": {},
   "source": [
    "#### verification_status column train test split"
   ]
  },
  {
   "cell_type": "code",
   "execution_count": 70,
   "metadata": {},
   "outputs": [],
   "source": [
    "verification_status_df_dummies_train, verification_status_df_dummies_test = verification_status_df_dummies.iloc[train_indices], verification_status_df_dummies.iloc[test_indices]"
   ]
  },
  {
   "cell_type": "markdown",
   "metadata": {},
   "source": [
    "#### verification_status column WOE dataframe and plot"
   ]
  },
  {
   "cell_type": "code",
   "execution_count": 71,
   "metadata": {},
   "outputs": [
    {
     "data": {
      "image/png": "[encoded data removed]",
      "text/plain": [
       "<Figure size 1440x504 with 1 Axes>"
      ]
     },
     "metadata": {},
     "output_type": "display_data"
    },
    {
     "data": {
      "text/html": [
       "<div>\n",
       "<style scoped>\n",
       "    .dataframe tbody tr th:only-of-type {\n",
       "        vertical-align: middle;\n",
       "    }\n",
       "\n",
       "    .dataframe tbody tr th {\n",
       "        vertical-align: top;\n",
       "    }\n",
       "\n",
       "    .dataframe thead th {\n",
       "        text-align: right;\n",
       "    }\n",
       "</style>\n",
       "<table border=\"1\" class=\"dataframe\">\n",
       "  <thead>\n",
       "    <tr style=\"text-align: right;\">\n",
       "      <th></th>\n",
       "      <th>n_obs</th>\n",
       "      <th>proba_n_obs</th>\n",
       "      <th>pos_obs</th>\n",
       "      <th>proba_pos_obs</th>\n",
       "      <th>neg_obs</th>\n",
       "      <th>proba_neg_obs</th>\n",
       "      <th>woe</th>\n",
       "      <th>woe_diff</th>\n",
       "      <th>iv</th>\n",
       "    </tr>\n",
       "  </thead>\n",
       "  <tbody>\n",
       "    <tr>\n",
       "      <th>verification_status:Verified</th>\n",
       "      <td>503341</td>\n",
       "      <td>0.278314</td>\n",
       "      <td>419588</td>\n",
       "      <td>0.265351</td>\n",
       "      <td>83753</td>\n",
       "      <td>0.368503</td>\n",
       "      <td>-0.328394</td>\n",
       "      <td>NaN</td>\n",
       "      <td>0.085899</td>\n",
       "    </tr>\n",
       "    <tr>\n",
       "      <th>verification_status:Source Verified</th>\n",
       "      <td>708836</td>\n",
       "      <td>0.39194</td>\n",
       "      <td>616411</td>\n",
       "      <td>0.389824</td>\n",
       "      <td>92425</td>\n",
       "      <td>0.406659</td>\n",
       "      <td>-0.0422793</td>\n",
       "      <td>0.286115</td>\n",
       "      <td>0.085899</td>\n",
       "    </tr>\n",
       "    <tr>\n",
       "      <th>verification_status:Not Verified</th>\n",
       "      <td>596357</td>\n",
       "      <td>0.329746</td>\n",
       "      <td>545256</td>\n",
       "      <td>0.344825</td>\n",
       "      <td>51101</td>\n",
       "      <td>0.224838</td>\n",
       "      <td>0.427656</td>\n",
       "      <td>0.469935</td>\n",
       "      <td>0.085899</td>\n",
       "    </tr>\n",
       "  </tbody>\n",
       "</table>\n",
       "</div>"
      ],
      "text/plain": [
       "                                      n_obs proba_n_obs pos_obs proba_pos_obs  \\\n",
       "verification_status:Verified         503341    0.278314  419588      0.265351   \n",
       "verification_status:Source Verified  708836     0.39194  616411      0.389824   \n",
       "verification_status:Not Verified     596357    0.329746  545256      0.344825   \n",
       "\n",
       "                                    neg_obs proba_neg_obs        woe  \\\n",
       "verification_status:Verified          83753      0.368503  -0.328394   \n",
       "verification_status:Source Verified   92425      0.406659 -0.0422793   \n",
       "verification_status:Not Verified      51101      0.224838   0.427656   \n",
       "\n",
       "                                     woe_diff        iv  \n",
       "verification_status:Verified              NaN  0.085899  \n",
       "verification_status:Source Verified  0.286115  0.085899  \n",
       "verification_status:Not Verified     0.469935  0.085899  "
      ]
     },
     "execution_count": 71,
     "metadata": {},
     "output_type": "execute_result"
    }
   ],
   "source": [
    "calc_woe_df(verification_status_df_dummies_train, train_targets, 'Verification Status')"
   ]
  },
  {
   "cell_type": "markdown",
   "metadata": {},
   "source": [
    "#### Training Features of verification_status column"
   ]
  },
  {
   "cell_type": "code",
   "execution_count": 72,
   "metadata": {},
   "outputs": [
    {
     "name": "stderr",
     "output_type": "stream",
     "text": [
      "C:\\Users\\Yashveer\\AppData\\Roaming\\Python\\Python37\\site-packages\\ipykernel_launcher.py:2: SettingWithCopyWarning: \n",
      "A value is trying to be set on a copy of a slice from a DataFrame.\n",
      "Try using .loc[row_indexer,col_indexer] = value instead\n",
      "\n",
      "See the caveats in the documentation: http://pandas.pydata.org/pandas-docs/stable/user_guide/indexing.html#returning-a-view-versus-a-copy\n",
      "  \n"
     ]
    }
   ],
   "source": [
    "verification_status_training_features_df = verification_status_df_dummies_train[['verification_status:Verified']]\n",
    "verification_status_training_features_df['verification_status:Source Verified'] = verification_status_df_dummies_train['verification_status:Source Verified']\n",
    "verification_status_training_features_df['verification_status:Not Verified'] = verification_status_df_dummies_train['verification_status:Not Verified']"
   ]
  },
  {
   "cell_type": "markdown",
   "metadata": {},
   "source": [
    "#### Testing Features of verification_status column"
   ]
  },
  {
   "cell_type": "code",
   "execution_count": 73,
   "metadata": {},
   "outputs": [
    {
     "name": "stderr",
     "output_type": "stream",
     "text": [
      "C:\\Users\\Yashveer\\AppData\\Roaming\\Python\\Python37\\site-packages\\ipykernel_launcher.py:2: SettingWithCopyWarning: \n",
      "A value is trying to be set on a copy of a slice from a DataFrame.\n",
      "Try using .loc[row_indexer,col_indexer] = value instead\n",
      "\n",
      "See the caveats in the documentation: http://pandas.pydata.org/pandas-docs/stable/user_guide/indexing.html#returning-a-view-versus-a-copy\n",
      "  \n"
     ]
    }
   ],
   "source": [
    "verification_status_testing_features_df = verification_status_df_dummies_test[['verification_status:Verified']]\n",
    "verification_status_testing_features_df['verification_status:Source Verified'] = verification_status_df_dummies_test['verification_status:Source Verified']\n",
    "verification_status_testing_features_df['verification_status:Not Verified'] = verification_status_df_dummies_test['verification_status:Not Verified']"
   ]
  },
  {
   "cell_type": "markdown",
   "metadata": {},
   "source": [
    "#### Adding verification_status feature to the set of training and testing features"
   ]
  },
  {
   "cell_type": "code",
   "execution_count": 74,
   "metadata": {},
   "outputs": [],
   "source": [
    "training_features_df = pd.concat((training_features_df, verification_status_training_features_df), axis=1)\n",
    "testing_features_df = pd.concat((testing_features_df, verification_status_testing_features_df), axis=1)"
   ]
  },
  {
   "cell_type": "code",
   "execution_count": 77,
   "metadata": {},
   "outputs": [
    {
     "data": {
      "text/plain": [
       "Index(['grade:A', 'grade:B', 'grade:C', 'grade:D', 'grade:E', 'grade:F',\n",
       "       'grade:G', 'home_ownership:OTHER', 'home_ownership:RENT_NONE_OWN',\n",
       "       'home_ownership:MORTGAGE', 'home_ownership:ANY', 'addr_state:IA',\n",
       "       'addr_state:AL_AR_MS_OK_LA_NV_NM_HI', 'addr_state:NY', 'addr_state:SD',\n",
       "       'addr_state:FL', 'addr_state:MO_MD_NC_PA_KY_TN', 'addr_state:CA',\n",
       "       'addr_state:NJ_MI_VA_MN_AK_AZ_NE_OH', 'addr_state:TX',\n",
       "       'addr_state:DE_MA_UT_GA_RI_WY_IL_MT_KS',\n",
       "       'addr_state:CT_ND_WA_CO_SC_WV_OR_NH_DC', 'addr_state:ID_VT',\n",
       "       'addr_state:ME', 'verification_status:Verified',\n",
       "       'verification_status:Source Verified',\n",
       "       'verification_status:Not Verified'],\n",
       "      dtype='object')"
      ]
     },
     "execution_count": 77,
     "metadata": {},
     "output_type": "execute_result"
    }
   ],
   "source": [
    "training_features_df.columns"
   ]
  },
  {
   "cell_type": "markdown",
   "metadata": {},
   "source": [
    "## Purpose"
   ]
  },
  {
   "cell_type": "code",
   "execution_count": 78,
   "metadata": {},
   "outputs": [],
   "source": [
    "purpose_df_backup = pd.read_csv('Columns/purpose.csv')\n",
    "purpose_df = purpose_df_backup[['purpose']]"
   ]
  },
  {
   "cell_type": "markdown",
   "metadata": {},
   "source": [
    "#### Unique Values"
   ]
  },
  {
   "cell_type": "code",
   "execution_count": 80,
   "metadata": {},
   "outputs": [
    {
     "data": {
      "text/plain": [
       "array(['debt_consolidation', 'credit_card', 'house', 'car', 'other',\n",
       "       'vacation', 'home_improvement', 'small_business', 'major_purchase',\n",
       "       'medical', 'renewable_energy', 'moving', 'wedding', 'educational'],\n",
       "      dtype=object)"
      ]
     },
     "execution_count": 80,
     "metadata": {},
     "output_type": "execute_result"
    }
   ],
   "source": [
    "purpose_df['purpose'].unique()"
   ]
  },
  {
   "cell_type": "markdown",
   "metadata": {},
   "source": [
    "#### Null Values"
   ]
  },
  {
   "cell_type": "code",
   "execution_count": 81,
   "metadata": {},
   "outputs": [
    {
     "data": {
      "text/plain": [
       "0"
      ]
     },
     "execution_count": 81,
     "metadata": {},
     "output_type": "execute_result"
    }
   ],
   "source": [
    "purpose_df['purpose'].isna().sum()"
   ]
  },
  {
   "cell_type": "markdown",
   "metadata": {},
   "source": [
    "#### purpose column dummies"
   ]
  },
  {
   "cell_type": "code",
   "execution_count": 82,
   "metadata": {},
   "outputs": [],
   "source": [
    "purpose_df_dummies = pd.get_dummies(purpose_df['purpose'], prefix='purpose', prefix_sep=':')"
   ]
  },
  {
   "cell_type": "markdown",
   "metadata": {},
   "source": [
    "#### purpose column train test split"
   ]
  },
  {
   "cell_type": "code",
   "execution_count": 83,
   "metadata": {},
   "outputs": [],
   "source": [
    "purpose_df_dummies_train, purpose_df_dummies_test = purpose_df_dummies.iloc[train_indices], purpose_df_dummies.iloc[test_indices]"
   ]
  },
  {
   "cell_type": "markdown",
   "metadata": {},
   "source": [
    "#### purpose column WOE dataframe and plot"
   ]
  },
  {
   "cell_type": "code",
   "execution_count": 85,
   "metadata": {},
   "outputs": [
    {
     "data": {
      "image/png": "[encoded data removed]",
      "text/plain": [
       "<Figure size 1440x504 with 1 Axes>"
      ]
     },
     "metadata": {},
     "output_type": "display_data"
    },
    {
     "data": {
      "text/html": [
       "<div>\n",
       "<style scoped>\n",
       "    .dataframe tbody tr th:only-of-type {\n",
       "        vertical-align: middle;\n",
       "    }\n",
       "\n",
       "    .dataframe tbody tr th {\n",
       "        vertical-align: top;\n",
       "    }\n",
       "\n",
       "    .dataframe thead th {\n",
       "        text-align: right;\n",
       "    }\n",
       "</style>\n",
       "<table border=\"1\" class=\"dataframe\">\n",
       "  <thead>\n",
       "    <tr style=\"text-align: right;\">\n",
       "      <th></th>\n",
       "      <th>n_obs</th>\n",
       "      <th>proba_n_obs</th>\n",
       "      <th>pos_obs</th>\n",
       "      <th>proba_pos_obs</th>\n",
       "      <th>neg_obs</th>\n",
       "      <th>proba_neg_obs</th>\n",
       "      <th>woe</th>\n",
       "      <th>woe_diff</th>\n",
       "      <th>iv</th>\n",
       "    </tr>\n",
       "  </thead>\n",
       "  <tbody>\n",
       "    <tr>\n",
       "      <th>purpose:educational</th>\n",
       "      <td>344</td>\n",
       "      <td>0.000190209</td>\n",
       "      <td>271</td>\n",
       "      <td>0.000171383</td>\n",
       "      <td>73</td>\n",
       "      <td>0.000321191</td>\n",
       "      <td>-0.628136</td>\n",
       "      <td>NaN</td>\n",
       "      <td>0.023151</td>\n",
       "    </tr>\n",
       "    <tr>\n",
       "      <th>purpose:small_business</th>\n",
       "      <td>19765</td>\n",
       "      <td>0.0109287</td>\n",
       "      <td>15837</td>\n",
       "      <td>0.0100155</td>\n",
       "      <td>3928</td>\n",
       "      <td>0.0172827</td>\n",
       "      <td>-0.545577</td>\n",
       "      <td>0.0825592</td>\n",
       "      <td>0.023151</td>\n",
       "    </tr>\n",
       "    <tr>\n",
       "      <th>purpose:renewable_energy</th>\n",
       "      <td>1145</td>\n",
       "      <td>0.000633109</td>\n",
       "      <td>969</td>\n",
       "      <td>0.000612804</td>\n",
       "      <td>176</td>\n",
       "      <td>0.000774379</td>\n",
       "      <td>-0.234015</td>\n",
       "      <td>0.311562</td>\n",
       "      <td>0.023151</td>\n",
       "    </tr>\n",
       "    <tr>\n",
       "      <th>purpose:moving</th>\n",
       "      <td>12419</td>\n",
       "      <td>0.00686689</td>\n",
       "      <td>10536</td>\n",
       "      <td>0.00666306</td>\n",
       "      <td>1883</td>\n",
       "      <td>0.00828497</td>\n",
       "      <td>-0.217864</td>\n",
       "      <td>0.0161511</td>\n",
       "      <td>0.023151</td>\n",
       "    </tr>\n",
       "    <tr>\n",
       "      <th>purpose:debt_consolidation</th>\n",
       "      <td>1022358</td>\n",
       "      <td>0.565297</td>\n",
       "      <td>883354</td>\n",
       "      <td>0.558641</td>\n",
       "      <td>139004</td>\n",
       "      <td>0.611601</td>\n",
       "      <td>-0.0905725</td>\n",
       "      <td>0.127292</td>\n",
       "      <td>0.023151</td>\n",
       "    </tr>\n",
       "    <tr>\n",
       "      <th>purpose:medical</th>\n",
       "      <td>21975</td>\n",
       "      <td>0.0121507</td>\n",
       "      <td>19073</td>\n",
       "      <td>0.0120619</td>\n",
       "      <td>2902</td>\n",
       "      <td>0.0127684</td>\n",
       "      <td>-0.0569222</td>\n",
       "      <td>0.0336503</td>\n",
       "      <td>0.023151</td>\n",
       "    </tr>\n",
       "    <tr>\n",
       "      <th>purpose:wedding</th>\n",
       "      <td>1886</td>\n",
       "      <td>0.00104283</td>\n",
       "      <td>1646</td>\n",
       "      <td>0.00104095</td>\n",
       "      <td>240</td>\n",
       "      <td>0.00105597</td>\n",
       "      <td>-0.0143313</td>\n",
       "      <td>0.0425909</td>\n",
       "      <td>0.023151</td>\n",
       "    </tr>\n",
       "    <tr>\n",
       "      <th>purpose:other</th>\n",
       "      <td>111451</td>\n",
       "      <td>0.0616251</td>\n",
       "      <td>97360</td>\n",
       "      <td>0.0615713</td>\n",
       "      <td>14091</td>\n",
       "      <td>0.0619987</td>\n",
       "      <td>-0.00691662</td>\n",
       "      <td>0.0074147</td>\n",
       "      <td>0.023151</td>\n",
       "    </tr>\n",
       "    <tr>\n",
       "      <th>purpose:house</th>\n",
       "      <td>11266</td>\n",
       "      <td>0.00622935</td>\n",
       "      <td>9886</td>\n",
       "      <td>0.006252</td>\n",
       "      <td>1380</td>\n",
       "      <td>0.00607183</td>\n",
       "      <td>0.0292403</td>\n",
       "      <td>0.036157</td>\n",
       "      <td>0.023151</td>\n",
       "    </tr>\n",
       "    <tr>\n",
       "      <th>purpose:vacation</th>\n",
       "      <td>12391</td>\n",
       "      <td>0.00685141</td>\n",
       "      <td>10901</td>\n",
       "      <td>0.00689389</td>\n",
       "      <td>1490</td>\n",
       "      <td>0.00655582</td>\n",
       "      <td>0.0502826</td>\n",
       "      <td>0.0210423</td>\n",
       "      <td>0.023151</td>\n",
       "    </tr>\n",
       "    <tr>\n",
       "      <th>purpose:major_purchase</th>\n",
       "      <td>40470</td>\n",
       "      <td>0.0223772</td>\n",
       "      <td>35739</td>\n",
       "      <td>0.0226017</td>\n",
       "      <td>4731</td>\n",
       "      <td>0.0208158</td>\n",
       "      <td>0.0823102</td>\n",
       "      <td>0.0320275</td>\n",
       "      <td>0.023151</td>\n",
       "    </tr>\n",
       "    <tr>\n",
       "      <th>purpose:home_improvement</th>\n",
       "      <td>120332</td>\n",
       "      <td>0.0665357</td>\n",
       "      <td>107028</td>\n",
       "      <td>0.0676855</td>\n",
       "      <td>13304</td>\n",
       "      <td>0.058536</td>\n",
       "      <td>0.14523</td>\n",
       "      <td>0.0629198</td>\n",
       "      <td>0.023151</td>\n",
       "    </tr>\n",
       "    <tr>\n",
       "      <th>purpose:credit_card</th>\n",
       "      <td>413521</td>\n",
       "      <td>0.22865</td>\n",
       "      <td>371253</td>\n",
       "      <td>0.234784</td>\n",
       "      <td>42268</td>\n",
       "      <td>0.185974</td>\n",
       "      <td>0.233058</td>\n",
       "      <td>0.0878277</td>\n",
       "      <td>0.023151</td>\n",
       "    </tr>\n",
       "    <tr>\n",
       "      <th>purpose:car</th>\n",
       "      <td>19211</td>\n",
       "      <td>0.0106224</td>\n",
       "      <td>17402</td>\n",
       "      <td>0.0110052</td>\n",
       "      <td>1809</td>\n",
       "      <td>0.00795938</td>\n",
       "      <td>0.324015</td>\n",
       "      <td>0.0909575</td>\n",
       "      <td>0.023151</td>\n",
       "    </tr>\n",
       "  </tbody>\n",
       "</table>\n",
       "</div>"
      ],
      "text/plain": [
       "                              n_obs  proba_n_obs pos_obs proba_pos_obs  \\\n",
       "purpose:educational             344  0.000190209     271   0.000171383   \n",
       "purpose:small_business        19765    0.0109287   15837     0.0100155   \n",
       "purpose:renewable_energy       1145  0.000633109     969   0.000612804   \n",
       "purpose:moving                12419   0.00686689   10536    0.00666306   \n",
       "purpose:debt_consolidation  1022358     0.565297  883354      0.558641   \n",
       "purpose:medical               21975    0.0121507   19073     0.0120619   \n",
       "purpose:wedding                1886   0.00104283    1646    0.00104095   \n",
       "purpose:other                111451    0.0616251   97360     0.0615713   \n",
       "purpose:house                 11266   0.00622935    9886      0.006252   \n",
       "purpose:vacation              12391   0.00685141   10901    0.00689389   \n",
       "purpose:major_purchase        40470    0.0223772   35739     0.0226017   \n",
       "purpose:home_improvement     120332    0.0665357  107028     0.0676855   \n",
       "purpose:credit_card          413521      0.22865  371253      0.234784   \n",
       "purpose:car                   19211    0.0106224   17402     0.0110052   \n",
       "\n",
       "                           neg_obs proba_neg_obs         woe   woe_diff  \\\n",
       "purpose:educational             73   0.000321191   -0.628136        NaN   \n",
       "purpose:small_business        3928     0.0172827   -0.545577  0.0825592   \n",
       "purpose:renewable_energy       176   0.000774379   -0.234015   0.311562   \n",
       "purpose:moving                1883    0.00828497   -0.217864  0.0161511   \n",
       "purpose:debt_consolidation  139004      0.611601  -0.0905725   0.127292   \n",
       "purpose:medical               2902     0.0127684  -0.0569222  0.0336503   \n",
       "purpose:wedding                240    0.00105597  -0.0143313  0.0425909   \n",
       "purpose:other                14091     0.0619987 -0.00691662  0.0074147   \n",
       "purpose:house                 1380    0.00607183   0.0292403   0.036157   \n",
       "purpose:vacation              1490    0.00655582   0.0502826  0.0210423   \n",
       "purpose:major_purchase        4731     0.0208158   0.0823102  0.0320275   \n",
       "purpose:home_improvement     13304      0.058536     0.14523  0.0629198   \n",
       "purpose:credit_card          42268      0.185974    0.233058  0.0878277   \n",
       "purpose:car                   1809    0.00795938    0.324015  0.0909575   \n",
       "\n",
       "                                  iv  \n",
       "purpose:educational         0.023151  \n",
       "purpose:small_business      0.023151  \n",
       "purpose:renewable_energy    0.023151  \n",
       "purpose:moving              0.023151  \n",
       "purpose:debt_consolidation  0.023151  \n",
       "purpose:medical             0.023151  \n",
       "purpose:wedding             0.023151  \n",
       "purpose:other               0.023151  \n",
       "purpose:house               0.023151  \n",
       "purpose:vacation            0.023151  \n",
       "purpose:major_purchase      0.023151  \n",
       "purpose:home_improvement    0.023151  \n",
       "purpose:credit_card         0.023151  \n",
       "purpose:car                 0.023151  "
      ]
     },
     "execution_count": 85,
     "metadata": {},
     "output_type": "execute_result"
    }
   ],
   "source": [
    "calc_woe_df(purpose_df_dummies_train, train_targets, 'Purpose', 90)"
   ]
  },
  {
   "cell_type": "markdown",
   "metadata": {},
   "source": [
    "#### Training Features of purpose column"
   ]
  },
  {
   "cell_type": "code",
   "execution_count": 86,
   "metadata": {},
   "outputs": [
    {
     "name": "stderr",
     "output_type": "stream",
     "text": [
      "C:\\Users\\Yashveer\\AppData\\Roaming\\Python\\Python37\\site-packages\\ipykernel_launcher.py:2: SettingWithCopyWarning: \n",
      "A value is trying to be set on a copy of a slice from a DataFrame.\n",
      "Try using .loc[row_indexer,col_indexer] = value instead\n",
      "\n",
      "See the caveats in the documentation: http://pandas.pydata.org/pandas-docs/stable/user_guide/indexing.html#returning-a-view-versus-a-copy\n",
      "  \n",
      "C:\\Users\\Yashveer\\AppData\\Roaming\\Python\\Python37\\site-packages\\ipykernel_launcher.py:3: SettingWithCopyWarning: \n",
      "A value is trying to be set on a copy of a slice from a DataFrame.\n",
      "Try using .loc[row_indexer,col_indexer] = value instead\n",
      "\n",
      "See the caveats in the documentation: http://pandas.pydata.org/pandas-docs/stable/user_guide/indexing.html#returning-a-view-versus-a-copy\n",
      "  This is separate from the ipykernel package so we can avoid doing imports until\n",
      "C:\\Users\\Yashveer\\AppData\\Roaming\\Python\\Python37\\site-packages\\ipykernel_launcher.py:4: SettingWithCopyWarning: \n",
      "A value is trying to be set on a copy of a slice from a DataFrame.\n",
      "Try using .loc[row_indexer,col_indexer] = value instead\n",
      "\n",
      "See the caveats in the documentation: http://pandas.pydata.org/pandas-docs/stable/user_guide/indexing.html#returning-a-view-versus-a-copy\n",
      "  after removing the cwd from sys.path.\n",
      "C:\\Users\\Yashveer\\AppData\\Roaming\\Python\\Python37\\site-packages\\ipykernel_launcher.py:5: SettingWithCopyWarning: \n",
      "A value is trying to be set on a copy of a slice from a DataFrame.\n",
      "Try using .loc[row_indexer,col_indexer] = value instead\n",
      "\n",
      "See the caveats in the documentation: http://pandas.pydata.org/pandas-docs/stable/user_guide/indexing.html#returning-a-view-versus-a-copy\n",
      "  \"\"\"\n",
      "C:\\Users\\Yashveer\\AppData\\Roaming\\Python\\Python37\\site-packages\\ipykernel_launcher.py:6: SettingWithCopyWarning: \n",
      "A value is trying to be set on a copy of a slice from a DataFrame.\n",
      "Try using .loc[row_indexer,col_indexer] = value instead\n",
      "\n",
      "See the caveats in the documentation: http://pandas.pydata.org/pandas-docs/stable/user_guide/indexing.html#returning-a-view-versus-a-copy\n",
      "  \n",
      "C:\\Users\\Yashveer\\AppData\\Roaming\\Python\\Python37\\site-packages\\ipykernel_launcher.py:7: SettingWithCopyWarning: \n",
      "A value is trying to be set on a copy of a slice from a DataFrame.\n",
      "Try using .loc[row_indexer,col_indexer] = value instead\n",
      "\n",
      "See the caveats in the documentation: http://pandas.pydata.org/pandas-docs/stable/user_guide/indexing.html#returning-a-view-versus-a-copy\n",
      "  import sys\n",
      "C:\\Users\\Yashveer\\AppData\\Roaming\\Python\\Python37\\site-packages\\ipykernel_launcher.py:8: SettingWithCopyWarning: \n",
      "A value is trying to be set on a copy of a slice from a DataFrame.\n",
      "Try using .loc[row_indexer,col_indexer] = value instead\n",
      "\n",
      "See the caveats in the documentation: http://pandas.pydata.org/pandas-docs/stable/user_guide/indexing.html#returning-a-view-versus-a-copy\n",
      "  \n",
      "C:\\Users\\Yashveer\\AppData\\Roaming\\Python\\Python37\\site-packages\\ipykernel_launcher.py:9: SettingWithCopyWarning: \n",
      "A value is trying to be set on a copy of a slice from a DataFrame.\n",
      "Try using .loc[row_indexer,col_indexer] = value instead\n",
      "\n",
      "See the caveats in the documentation: http://pandas.pydata.org/pandas-docs/stable/user_guide/indexing.html#returning-a-view-versus-a-copy\n",
      "  if __name__ == '__main__':\n"
     ]
    }
   ],
   "source": [
    "purpose_training_features_df = purpose_df_dummies_train[['purpose:debt_consolidation']]\n",
    "purpose_training_features_df['purpose:educational_small_business'] = np.where( ((purpose_df_dummies_train['purpose:educational'] == 1) | (purpose_df_dummies_train['purpose:small_business'] == 1)), 1, 0)\n",
    "purpose_training_features_df['purpose:renewable_energy_moving'] = np.where( ((purpose_df_dummies_train['purpose:renewable_energy'] == 1) | (purpose_df_dummies_train['purpose:moving'] == 1)), 1, 0)\n",
    "purpose_training_features_df['purpose:medical_wedding'] = np.where( ((purpose_df_dummies_train['purpose:medical'] == 1) | (purpose_df_dummies_train['purpose:wedding'] == 1)), 1, 0)\n",
    "purpose_training_features_df['purpose:other'] = purpose_df_dummies_train[['purpose:other']]\n",
    "purpose_training_features_df['purpose:house_vacation_major_purchase'] = np.where( ((purpose_df_dummies_train['purpose:house'] == 1) | (purpose_df_dummies_train['purpose:vacation'] == 1) | (purpose_df_dummies_train['purpose:major_purchase'] == 1)), 1, 0)\n",
    "purpose_training_features_df['purpose:home_improvement'] = purpose_df_dummies_train[['purpose:home_improvement']]\n",
    "purpose_training_features_df['purpose:credit_card'] = purpose_df_dummies_train[['purpose:credit_card']]\n",
    "purpose_training_features_df['purpose:car'] = purpose_df_dummies_train[['purpose:car']]"
   ]
  },
  {
   "cell_type": "markdown",
   "metadata": {},
   "source": [
    "#### Testing Features of purpose column"
   ]
  },
  {
   "cell_type": "code",
   "execution_count": 87,
   "metadata": {},
   "outputs": [
    {
     "name": "stderr",
     "output_type": "stream",
     "text": [
      "C:\\Users\\Yashveer\\AppData\\Roaming\\Python\\Python37\\site-packages\\ipykernel_launcher.py:2: SettingWithCopyWarning: \n",
      "A value is trying to be set on a copy of a slice from a DataFrame.\n",
      "Try using .loc[row_indexer,col_indexer] = value instead\n",
      "\n",
      "See the caveats in the documentation: http://pandas.pydata.org/pandas-docs/stable/user_guide/indexing.html#returning-a-view-versus-a-copy\n",
      "  \n",
      "C:\\Users\\Yashveer\\AppData\\Roaming\\Python\\Python37\\site-packages\\ipykernel_launcher.py:3: SettingWithCopyWarning: \n",
      "A value is trying to be set on a copy of a slice from a DataFrame.\n",
      "Try using .loc[row_indexer,col_indexer] = value instead\n",
      "\n",
      "See the caveats in the documentation: http://pandas.pydata.org/pandas-docs/stable/user_guide/indexing.html#returning-a-view-versus-a-copy\n",
      "  This is separate from the ipykernel package so we can avoid doing imports until\n",
      "C:\\Users\\Yashveer\\AppData\\Roaming\\Python\\Python37\\site-packages\\ipykernel_launcher.py:4: SettingWithCopyWarning: \n",
      "A value is trying to be set on a copy of a slice from a DataFrame.\n",
      "Try using .loc[row_indexer,col_indexer] = value instead\n",
      "\n",
      "See the caveats in the documentation: http://pandas.pydata.org/pandas-docs/stable/user_guide/indexing.html#returning-a-view-versus-a-copy\n",
      "  after removing the cwd from sys.path.\n",
      "C:\\Users\\Yashveer\\AppData\\Roaming\\Python\\Python37\\site-packages\\ipykernel_launcher.py:5: SettingWithCopyWarning: \n",
      "A value is trying to be set on a copy of a slice from a DataFrame.\n",
      "Try using .loc[row_indexer,col_indexer] = value instead\n",
      "\n",
      "See the caveats in the documentation: http://pandas.pydata.org/pandas-docs/stable/user_guide/indexing.html#returning-a-view-versus-a-copy\n",
      "  \"\"\"\n",
      "C:\\Users\\Yashveer\\AppData\\Roaming\\Python\\Python37\\site-packages\\ipykernel_launcher.py:6: SettingWithCopyWarning: \n",
      "A value is trying to be set on a copy of a slice from a DataFrame.\n",
      "Try using .loc[row_indexer,col_indexer] = value instead\n",
      "\n",
      "See the caveats in the documentation: http://pandas.pydata.org/pandas-docs/stable/user_guide/indexing.html#returning-a-view-versus-a-copy\n",
      "  \n",
      "C:\\Users\\Yashveer\\AppData\\Roaming\\Python\\Python37\\site-packages\\ipykernel_launcher.py:7: SettingWithCopyWarning: \n",
      "A value is trying to be set on a copy of a slice from a DataFrame.\n",
      "Try using .loc[row_indexer,col_indexer] = value instead\n",
      "\n",
      "See the caveats in the documentation: http://pandas.pydata.org/pandas-docs/stable/user_guide/indexing.html#returning-a-view-versus-a-copy\n",
      "  import sys\n",
      "C:\\Users\\Yashveer\\AppData\\Roaming\\Python\\Python37\\site-packages\\ipykernel_launcher.py:8: SettingWithCopyWarning: \n",
      "A value is trying to be set on a copy of a slice from a DataFrame.\n",
      "Try using .loc[row_indexer,col_indexer] = value instead\n",
      "\n",
      "See the caveats in the documentation: http://pandas.pydata.org/pandas-docs/stable/user_guide/indexing.html#returning-a-view-versus-a-copy\n",
      "  \n",
      "C:\\Users\\Yashveer\\AppData\\Roaming\\Python\\Python37\\site-packages\\ipykernel_launcher.py:9: SettingWithCopyWarning: \n",
      "A value is trying to be set on a copy of a slice from a DataFrame.\n",
      "Try using .loc[row_indexer,col_indexer] = value instead\n",
      "\n",
      "See the caveats in the documentation: http://pandas.pydata.org/pandas-docs/stable/user_guide/indexing.html#returning-a-view-versus-a-copy\n",
      "  if __name__ == '__main__':\n"
     ]
    }
   ],
   "source": [
    "purpose_testing_features_df = purpose_df_dummies_test[['purpose:debt_consolidation']]\n",
    "purpose_testing_features_df['purpose:educational_small_business'] = np.where( ((purpose_df_dummies_test['purpose:educational'] == 1) | (purpose_df_dummies_test['purpose:small_business'] == 1)), 1, 0)\n",
    "purpose_testing_features_df['purpose:renewable_energy_moving'] = np.where( ((purpose_df_dummies_test['purpose:renewable_energy'] == 1) | (purpose_df_dummies_test['purpose:moving'] == 1)), 1, 0)\n",
    "purpose_testing_features_df['purpose:medical_wedding'] = np.where( ((purpose_df_dummies_test['purpose:medical'] == 1) | (purpose_df_dummies_test['purpose:wedding'] == 1)), 1, 0)\n",
    "purpose_testing_features_df['purpose:other'] = purpose_df_dummies_test[['purpose:other']]\n",
    "purpose_testing_features_df['purpose:house_vacation_major_purchase'] = np.where( ((purpose_df_dummies_test['purpose:house'] == 1) | (purpose_df_dummies_test['purpose:vacation'] == 1) | (purpose_df_dummies_test['purpose:major_purchase'] == 1)), 1, 0)\n",
    "purpose_testing_features_df['purpose:home_improvement'] = purpose_df_dummies_test[['purpose:home_improvement']]\n",
    "purpose_testing_features_df['purpose:credit_card'] = purpose_df_dummies_test[['purpose:credit_card']]\n",
    "purpose_testing_features_df['purpose:car'] = purpose_df_dummies_test[['purpose:car']]"
   ]
  },
  {
   "cell_type": "markdown",
   "metadata": {},
   "source": [
    "#### Adding purpose feature to the set of training and testing features"
   ]
  },
  {
   "cell_type": "code",
   "execution_count": 88,
   "metadata": {},
   "outputs": [],
   "source": [
    "training_features_df = pd.concat((training_features_df, purpose_training_features_df), axis=1)\n",
    "testing_features_df = pd.concat((testing_features_df, purpose_testing_features_df), axis=1)"
   ]
  },
  {
   "cell_type": "markdown",
   "metadata": {},
   "source": [
    "## Initial List Status"
   ]
  },
  {
   "cell_type": "code",
   "execution_count": 93,
   "metadata": {},
   "outputs": [],
   "source": [
    "initial_list_status_df_backup = pd.read_csv('Columns/initial_list_status.csv')\n",
    "initial_list_status_df = initial_list_status_df_backup[['initial_list_status']]"
   ]
  },
  {
   "cell_type": "markdown",
   "metadata": {},
   "source": [
    "#### Unique Values"
   ]
  },
  {
   "cell_type": "code",
   "execution_count": 95,
   "metadata": {},
   "outputs": [
    {
     "data": {
      "text/plain": [
       "array(['w', 'f'], dtype=object)"
      ]
     },
     "execution_count": 95,
     "metadata": {},
     "output_type": "execute_result"
    }
   ],
   "source": [
    "initial_list_status_df['initial_list_status'].unique()"
   ]
  },
  {
   "cell_type": "markdown",
   "metadata": {},
   "source": [
    "#### Null Values"
   ]
  },
  {
   "cell_type": "code",
   "execution_count": 96,
   "metadata": {},
   "outputs": [
    {
     "data": {
      "text/plain": [
       "0"
      ]
     },
     "execution_count": 96,
     "metadata": {},
     "output_type": "execute_result"
    }
   ],
   "source": [
    "initial_list_status_df['initial_list_status'].isna().sum()"
   ]
  },
  {
   "cell_type": "markdown",
   "metadata": {},
   "source": [
    "#### initial_list_status column dummies"
   ]
  },
  {
   "cell_type": "code",
   "execution_count": 97,
   "metadata": {},
   "outputs": [],
   "source": [
    "initial_list_status_df_dummies = pd.get_dummies(initial_list_status_df['initial_list_status'], prefix='initial_list_status', prefix_sep=':')"
   ]
  },
  {
   "cell_type": "markdown",
   "metadata": {},
   "source": [
    "#### initial_list_status column train test split"
   ]
  },
  {
   "cell_type": "code",
   "execution_count": 98,
   "metadata": {},
   "outputs": [],
   "source": [
    "initial_list_status_df_dummies_train, initial_list_status_df_dummies_test = initial_list_status_df_dummies.iloc[train_indices], initial_list_status_df_dummies.iloc[test_indices]"
   ]
  },
  {
   "cell_type": "markdown",
   "metadata": {},
   "source": [
    "#### initial_list_status column WOE dataframe and plot"
   ]
  },
  {
   "cell_type": "code",
   "execution_count": 99,
   "metadata": {},
   "outputs": [
    {
     "data": {
      "image/png": "[encoded data removed]",
      "text/plain": [
       "<Figure size 1440x504 with 1 Axes>"
      ]
     },
     "metadata": {},
     "output_type": "display_data"
    },
    {
     "data": {
      "text/html": [
       "<div>\n",
       "<style scoped>\n",
       "    .dataframe tbody tr th:only-of-type {\n",
       "        vertical-align: middle;\n",
       "    }\n",
       "\n",
       "    .dataframe tbody tr th {\n",
       "        vertical-align: top;\n",
       "    }\n",
       "\n",
       "    .dataframe thead th {\n",
       "        text-align: right;\n",
       "    }\n",
       "</style>\n",
       "<table border=\"1\" class=\"dataframe\">\n",
       "  <thead>\n",
       "    <tr style=\"text-align: right;\">\n",
       "      <th></th>\n",
       "      <th>n_obs</th>\n",
       "      <th>proba_n_obs</th>\n",
       "      <th>pos_obs</th>\n",
       "      <th>proba_pos_obs</th>\n",
       "      <th>neg_obs</th>\n",
       "      <th>proba_neg_obs</th>\n",
       "      <th>woe</th>\n",
       "      <th>woe_diff</th>\n",
       "      <th>iv</th>\n",
       "    </tr>\n",
       "  </thead>\n",
       "  <tbody>\n",
       "    <tr>\n",
       "      <th>initial_list_status:f</th>\n",
       "      <td>580462</td>\n",
       "      <td>0.320957</td>\n",
       "      <td>489063</td>\n",
       "      <td>0.309288</td>\n",
       "      <td>91399</td>\n",
       "      <td>0.402145</td>\n",
       "      <td>-0.262539</td>\n",
       "      <td>NaN</td>\n",
       "      <td>0.037785</td>\n",
       "    </tr>\n",
       "    <tr>\n",
       "      <th>initial_list_status:w</th>\n",
       "      <td>1228072</td>\n",
       "      <td>0.679043</td>\n",
       "      <td>1092192</td>\n",
       "      <td>0.690712</td>\n",
       "      <td>135880</td>\n",
       "      <td>0.597855</td>\n",
       "      <td>0.144374</td>\n",
       "      <td>0.406913</td>\n",
       "      <td>0.037785</td>\n",
       "    </tr>\n",
       "  </tbody>\n",
       "</table>\n",
       "</div>"
      ],
      "text/plain": [
       "                         n_obs proba_n_obs  pos_obs proba_pos_obs neg_obs  \\\n",
       "initial_list_status:f   580462    0.320957   489063      0.309288   91399   \n",
       "initial_list_status:w  1228072    0.679043  1092192      0.690712  135880   \n",
       "\n",
       "                      proba_neg_obs       woe  woe_diff        iv  \n",
       "initial_list_status:f      0.402145 -0.262539       NaN  0.037785  \n",
       "initial_list_status:w      0.597855  0.144374  0.406913  0.037785  "
      ]
     },
     "execution_count": 99,
     "metadata": {},
     "output_type": "execute_result"
    }
   ],
   "source": [
    "calc_woe_df(initial_list_status_df_dummies_train, train_targets, 'Initial List Status')"
   ]
  },
  {
   "cell_type": "markdown",
   "metadata": {},
   "source": [
    "#### Training Features of initial_list_status column"
   ]
  },
  {
   "cell_type": "code",
   "execution_count": 100,
   "metadata": {},
   "outputs": [],
   "source": [
    "initial_list_status_training_features_df = initial_list_status_df_dummies_train[['initial_list_status:f']]\n",
    "initial_list_status_training_features_df['initial_list_status:w'] = initial_list_status_df_dummies_train[['initial_list_status:w']]"
   ]
  },
  {
   "cell_type": "markdown",
   "metadata": {},
   "source": [
    "#### Testing Features of initial_list_status column"
   ]
  },
  {
   "cell_type": "code",
   "execution_count": 101,
   "metadata": {},
   "outputs": [],
   "source": [
    "initial_list_status_testing_features_df = initial_list_status_df_dummies_test[['initial_list_status:f']]\n",
    "initial_list_status_testing_features_df['initial_list_status:w'] = initial_list_status_df_dummies_test[['initial_list_status:w']]"
   ]
  },
  {
   "cell_type": "markdown",
   "metadata": {},
   "source": [
    "#### Adding initial_list_status feature to the set of training and testing features"
   ]
  },
  {
   "cell_type": "code",
   "execution_count": 102,
   "metadata": {},
   "outputs": [],
   "source": [
    "training_features_df = pd.concat((training_features_df, initial_list_status_training_features_df), axis=1)\n",
    "testing_features_df = pd.concat((testing_features_df, initial_list_status_testing_features_df), axis=1)"
   ]
  },
  {
   "cell_type": "markdown",
   "metadata": {},
   "source": [
    "# Exporting Final Preprocessed Dataframe"
   ]
  },
  {
   "cell_type": "code",
   "execution_count": 104,
   "metadata": {},
   "outputs": [],
   "source": [
    "training_features_df.to_csv('training_features_df.csv', index=True)\n",
    "testing_features_df.to_csv('testing_features_df.csv', index=True)"
   ]
  },
  {
   "cell_type": "code",
   "execution_count": 105,
   "metadata": {},
   "outputs": [],
   "source": [
    "training_features_df_imported = pd.read_csv('training_features_df.csv')\n",
    "testing_features_df_imported = pd.read_csv('testing_features_df.csv')"
   ]
  },
  {
   "cell_type": "code",
   "execution_count": 106,
   "metadata": {},
   "outputs": [],
   "source": [
    "training_features_df = training_features_df_imported.copy()\n",
    "training_features_df.set_index('Unnamed: 0', inplace=True)\n",
    "\n",
    "testing_features_df = testing_features_df_imported.copy()\n",
    "testing_features_df.set_index('Unnamed: 0', inplace=True)"
   ]
  },
  {
   "cell_type": "code",
   "execution_count": 107,
   "metadata": {},
   "outputs": [
    {
     "data": {
      "text/html": [
       "<div>\n",
       "<style scoped>\n",
       "    .dataframe tbody tr th:only-of-type {\n",
       "        vertical-align: middle;\n",
       "    }\n",
       "\n",
       "    .dataframe tbody tr th {\n",
       "        vertical-align: top;\n",
       "    }\n",
       "\n",
       "    .dataframe thead th {\n",
       "        text-align: right;\n",
       "    }\n",
       "</style>\n",
       "<table border=\"1\" class=\"dataframe\">\n",
       "  <thead>\n",
       "    <tr style=\"text-align: right;\">\n",
       "      <th></th>\n",
       "      <th>grade:A</th>\n",
       "      <th>grade:B</th>\n",
       "      <th>grade:C</th>\n",
       "      <th>grade:D</th>\n",
       "      <th>grade:E</th>\n",
       "      <th>grade:F</th>\n",
       "      <th>grade:G</th>\n",
       "      <th>home_ownership:OTHER</th>\n",
       "      <th>home_ownership:RENT_NONE_OWN</th>\n",
       "      <th>home_ownership:MORTGAGE</th>\n",
       "      <th>...</th>\n",
       "      <th>purpose:educational_small_business</th>\n",
       "      <th>purpose:renewable_energy_moving</th>\n",
       "      <th>purpose:medical_wedding</th>\n",
       "      <th>purpose:other</th>\n",
       "      <th>purpose:house_vacation_major_purchase</th>\n",
       "      <th>purpose:home_improvement</th>\n",
       "      <th>purpose:credit_card</th>\n",
       "      <th>purpose:car</th>\n",
       "      <th>initial_list_status:f</th>\n",
       "      <th>initial_list_status:w</th>\n",
       "    </tr>\n",
       "    <tr>\n",
       "      <th>Unnamed: 0</th>\n",
       "      <th></th>\n",
       "      <th></th>\n",
       "      <th></th>\n",
       "      <th></th>\n",
       "      <th></th>\n",
       "      <th></th>\n",
       "      <th></th>\n",
       "      <th></th>\n",
       "      <th></th>\n",
       "      <th></th>\n",
       "      <th></th>\n",
       "      <th></th>\n",
       "      <th></th>\n",
       "      <th></th>\n",
       "      <th></th>\n",
       "      <th></th>\n",
       "      <th></th>\n",
       "      <th></th>\n",
       "      <th></th>\n",
       "      <th></th>\n",
       "      <th></th>\n",
       "    </tr>\n",
       "  </thead>\n",
       "  <tbody>\n",
       "    <tr>\n",
       "      <th>305053</th>\n",
       "      <td>0</td>\n",
       "      <td>0</td>\n",
       "      <td>0</td>\n",
       "      <td>1</td>\n",
       "      <td>0</td>\n",
       "      <td>0</td>\n",
       "      <td>0</td>\n",
       "      <td>0</td>\n",
       "      <td>0</td>\n",
       "      <td>1</td>\n",
       "      <td>...</td>\n",
       "      <td>0</td>\n",
       "      <td>0</td>\n",
       "      <td>0</td>\n",
       "      <td>0</td>\n",
       "      <td>0</td>\n",
       "      <td>0</td>\n",
       "      <td>0</td>\n",
       "      <td>0</td>\n",
       "      <td>1</td>\n",
       "      <td>0</td>\n",
       "    </tr>\n",
       "    <tr>\n",
       "      <th>50247</th>\n",
       "      <td>0</td>\n",
       "      <td>0</td>\n",
       "      <td>1</td>\n",
       "      <td>0</td>\n",
       "      <td>0</td>\n",
       "      <td>0</td>\n",
       "      <td>0</td>\n",
       "      <td>0</td>\n",
       "      <td>1</td>\n",
       "      <td>0</td>\n",
       "      <td>...</td>\n",
       "      <td>0</td>\n",
       "      <td>0</td>\n",
       "      <td>0</td>\n",
       "      <td>0</td>\n",
       "      <td>0</td>\n",
       "      <td>0</td>\n",
       "      <td>1</td>\n",
       "      <td>0</td>\n",
       "      <td>0</td>\n",
       "      <td>1</td>\n",
       "    </tr>\n",
       "    <tr>\n",
       "      <th>1630001</th>\n",
       "      <td>0</td>\n",
       "      <td>0</td>\n",
       "      <td>1</td>\n",
       "      <td>0</td>\n",
       "      <td>0</td>\n",
       "      <td>0</td>\n",
       "      <td>0</td>\n",
       "      <td>0</td>\n",
       "      <td>0</td>\n",
       "      <td>1</td>\n",
       "      <td>...</td>\n",
       "      <td>0</td>\n",
       "      <td>0</td>\n",
       "      <td>0</td>\n",
       "      <td>0</td>\n",
       "      <td>0</td>\n",
       "      <td>0</td>\n",
       "      <td>0</td>\n",
       "      <td>0</td>\n",
       "      <td>0</td>\n",
       "      <td>1</td>\n",
       "    </tr>\n",
       "    <tr>\n",
       "      <th>927626</th>\n",
       "      <td>0</td>\n",
       "      <td>0</td>\n",
       "      <td>1</td>\n",
       "      <td>0</td>\n",
       "      <td>0</td>\n",
       "      <td>0</td>\n",
       "      <td>0</td>\n",
       "      <td>0</td>\n",
       "      <td>0</td>\n",
       "      <td>1</td>\n",
       "      <td>...</td>\n",
       "      <td>0</td>\n",
       "      <td>0</td>\n",
       "      <td>0</td>\n",
       "      <td>0</td>\n",
       "      <td>0</td>\n",
       "      <td>0</td>\n",
       "      <td>0</td>\n",
       "      <td>0</td>\n",
       "      <td>0</td>\n",
       "      <td>1</td>\n",
       "    </tr>\n",
       "    <tr>\n",
       "      <th>758488</th>\n",
       "      <td>0</td>\n",
       "      <td>0</td>\n",
       "      <td>1</td>\n",
       "      <td>0</td>\n",
       "      <td>0</td>\n",
       "      <td>0</td>\n",
       "      <td>0</td>\n",
       "      <td>0</td>\n",
       "      <td>0</td>\n",
       "      <td>1</td>\n",
       "      <td>...</td>\n",
       "      <td>0</td>\n",
       "      <td>0</td>\n",
       "      <td>0</td>\n",
       "      <td>0</td>\n",
       "      <td>0</td>\n",
       "      <td>0</td>\n",
       "      <td>0</td>\n",
       "      <td>0</td>\n",
       "      <td>0</td>\n",
       "      <td>1</td>\n",
       "    </tr>\n",
       "    <tr>\n",
       "      <th>...</th>\n",
       "      <td>...</td>\n",
       "      <td>...</td>\n",
       "      <td>...</td>\n",
       "      <td>...</td>\n",
       "      <td>...</td>\n",
       "      <td>...</td>\n",
       "      <td>...</td>\n",
       "      <td>...</td>\n",
       "      <td>...</td>\n",
       "      <td>...</td>\n",
       "      <td>...</td>\n",
       "      <td>...</td>\n",
       "      <td>...</td>\n",
       "      <td>...</td>\n",
       "      <td>...</td>\n",
       "      <td>...</td>\n",
       "      <td>...</td>\n",
       "      <td>...</td>\n",
       "      <td>...</td>\n",
       "      <td>...</td>\n",
       "      <td>...</td>\n",
       "    </tr>\n",
       "    <tr>\n",
       "      <th>732180</th>\n",
       "      <td>0</td>\n",
       "      <td>0</td>\n",
       "      <td>1</td>\n",
       "      <td>0</td>\n",
       "      <td>0</td>\n",
       "      <td>0</td>\n",
       "      <td>0</td>\n",
       "      <td>0</td>\n",
       "      <td>1</td>\n",
       "      <td>0</td>\n",
       "      <td>...</td>\n",
       "      <td>0</td>\n",
       "      <td>0</td>\n",
       "      <td>0</td>\n",
       "      <td>1</td>\n",
       "      <td>0</td>\n",
       "      <td>0</td>\n",
       "      <td>0</td>\n",
       "      <td>0</td>\n",
       "      <td>1</td>\n",
       "      <td>0</td>\n",
       "    </tr>\n",
       "    <tr>\n",
       "      <th>110268</th>\n",
       "      <td>0</td>\n",
       "      <td>0</td>\n",
       "      <td>0</td>\n",
       "      <td>1</td>\n",
       "      <td>0</td>\n",
       "      <td>0</td>\n",
       "      <td>0</td>\n",
       "      <td>0</td>\n",
       "      <td>1</td>\n",
       "      <td>0</td>\n",
       "      <td>...</td>\n",
       "      <td>0</td>\n",
       "      <td>0</td>\n",
       "      <td>0</td>\n",
       "      <td>0</td>\n",
       "      <td>0</td>\n",
       "      <td>0</td>\n",
       "      <td>1</td>\n",
       "      <td>0</td>\n",
       "      <td>0</td>\n",
       "      <td>1</td>\n",
       "    </tr>\n",
       "    <tr>\n",
       "      <th>1692743</th>\n",
       "      <td>0</td>\n",
       "      <td>0</td>\n",
       "      <td>0</td>\n",
       "      <td>0</td>\n",
       "      <td>0</td>\n",
       "      <td>1</td>\n",
       "      <td>0</td>\n",
       "      <td>0</td>\n",
       "      <td>1</td>\n",
       "      <td>0</td>\n",
       "      <td>...</td>\n",
       "      <td>0</td>\n",
       "      <td>0</td>\n",
       "      <td>0</td>\n",
       "      <td>0</td>\n",
       "      <td>0</td>\n",
       "      <td>1</td>\n",
       "      <td>0</td>\n",
       "      <td>0</td>\n",
       "      <td>1</td>\n",
       "      <td>0</td>\n",
       "    </tr>\n",
       "    <tr>\n",
       "      <th>2229084</th>\n",
       "      <td>0</td>\n",
       "      <td>1</td>\n",
       "      <td>0</td>\n",
       "      <td>0</td>\n",
       "      <td>0</td>\n",
       "      <td>0</td>\n",
       "      <td>0</td>\n",
       "      <td>0</td>\n",
       "      <td>1</td>\n",
       "      <td>0</td>\n",
       "      <td>...</td>\n",
       "      <td>0</td>\n",
       "      <td>0</td>\n",
       "      <td>0</td>\n",
       "      <td>0</td>\n",
       "      <td>0</td>\n",
       "      <td>0</td>\n",
       "      <td>1</td>\n",
       "      <td>0</td>\n",
       "      <td>1</td>\n",
       "      <td>0</td>\n",
       "    </tr>\n",
       "    <tr>\n",
       "      <th>2219110</th>\n",
       "      <td>0</td>\n",
       "      <td>0</td>\n",
       "      <td>1</td>\n",
       "      <td>0</td>\n",
       "      <td>0</td>\n",
       "      <td>0</td>\n",
       "      <td>0</td>\n",
       "      <td>0</td>\n",
       "      <td>0</td>\n",
       "      <td>1</td>\n",
       "      <td>...</td>\n",
       "      <td>0</td>\n",
       "      <td>0</td>\n",
       "      <td>0</td>\n",
       "      <td>0</td>\n",
       "      <td>1</td>\n",
       "      <td>0</td>\n",
       "      <td>0</td>\n",
       "      <td>0</td>\n",
       "      <td>0</td>\n",
       "      <td>1</td>\n",
       "    </tr>\n",
       "  </tbody>\n",
       "</table>\n",
       "<p>1808534 rows × 38 columns</p>\n",
       "</div>"
      ],
      "text/plain": [
       "            grade:A  grade:B  grade:C  grade:D  grade:E  grade:F  grade:G  \\\n",
       "Unnamed: 0                                                                  \n",
       "305053            0        0        0        1        0        0        0   \n",
       "50247             0        0        1        0        0        0        0   \n",
       "1630001           0        0        1        0        0        0        0   \n",
       "927626            0        0        1        0        0        0        0   \n",
       "758488            0        0        1        0        0        0        0   \n",
       "...             ...      ...      ...      ...      ...      ...      ...   \n",
       "732180            0        0        1        0        0        0        0   \n",
       "110268            0        0        0        1        0        0        0   \n",
       "1692743           0        0        0        0        0        1        0   \n",
       "2229084           0        1        0        0        0        0        0   \n",
       "2219110           0        0        1        0        0        0        0   \n",
       "\n",
       "            home_ownership:OTHER  home_ownership:RENT_NONE_OWN  \\\n",
       "Unnamed: 0                                                       \n",
       "305053                         0                             0   \n",
       "50247                          0                             1   \n",
       "1630001                        0                             0   \n",
       "927626                         0                             0   \n",
       "758488                         0                             0   \n",
       "...                          ...                           ...   \n",
       "732180                         0                             1   \n",
       "110268                         0                             1   \n",
       "1692743                        0                             1   \n",
       "2229084                        0                             1   \n",
       "2219110                        0                             0   \n",
       "\n",
       "            home_ownership:MORTGAGE  ...  purpose:educational_small_business  \\\n",
       "Unnamed: 0                           ...                                       \n",
       "305053                            1  ...                                   0   \n",
       "50247                             0  ...                                   0   \n",
       "1630001                           1  ...                                   0   \n",
       "927626                            1  ...                                   0   \n",
       "758488                            1  ...                                   0   \n",
       "...                             ...  ...                                 ...   \n",
       "732180                            0  ...                                   0   \n",
       "110268                            0  ...                                   0   \n",
       "1692743                           0  ...                                   0   \n",
       "2229084                           0  ...                                   0   \n",
       "2219110                           1  ...                                   0   \n",
       "\n",
       "            purpose:renewable_energy_moving  purpose:medical_wedding  \\\n",
       "Unnamed: 0                                                             \n",
       "305053                                    0                        0   \n",
       "50247                                     0                        0   \n",
       "1630001                                   0                        0   \n",
       "927626                                    0                        0   \n",
       "758488                                    0                        0   \n",
       "...                                     ...                      ...   \n",
       "732180                                    0                        0   \n",
       "110268                                    0                        0   \n",
       "1692743                                   0                        0   \n",
       "2229084                                   0                        0   \n",
       "2219110                                   0                        0   \n",
       "\n",
       "            purpose:other  purpose:house_vacation_major_purchase  \\\n",
       "Unnamed: 0                                                         \n",
       "305053                  0                                      0   \n",
       "50247                   0                                      0   \n",
       "1630001                 0                                      0   \n",
       "927626                  0                                      0   \n",
       "758488                  0                                      0   \n",
       "...                   ...                                    ...   \n",
       "732180                  1                                      0   \n",
       "110268                  0                                      0   \n",
       "1692743                 0                                      0   \n",
       "2229084                 0                                      0   \n",
       "2219110                 0                                      1   \n",
       "\n",
       "            purpose:home_improvement  purpose:credit_card  purpose:car  \\\n",
       "Unnamed: 0                                                               \n",
       "305053                             0                    0            0   \n",
       "50247                              0                    1            0   \n",
       "1630001                            0                    0            0   \n",
       "927626                             0                    0            0   \n",
       "758488                             0                    0            0   \n",
       "...                              ...                  ...          ...   \n",
       "732180                             0                    0            0   \n",
       "110268                             0                    1            0   \n",
       "1692743                            1                    0            0   \n",
       "2229084                            0                    1            0   \n",
       "2219110                            0                    0            0   \n",
       "\n",
       "            initial_list_status:f  initial_list_status:w  \n",
       "Unnamed: 0                                                \n",
       "305053                          1                      0  \n",
       "50247                           0                      1  \n",
       "1630001                         0                      1  \n",
       "927626                          0                      1  \n",
       "758488                          0                      1  \n",
       "...                           ...                    ...  \n",
       "732180                          1                      0  \n",
       "110268                          0                      1  \n",
       "1692743                         1                      0  \n",
       "2229084                         1                      0  \n",
       "2219110                         0                      1  \n",
       "\n",
       "[1808534 rows x 38 columns]"
      ]
     },
     "execution_count": 107,
     "metadata": {},
     "output_type": "execute_result"
    }
   ],
   "source": [
    "training_features_df"
   ]
  },
  {
   "cell_type": "code",
   "execution_count": 108,
   "metadata": {},
   "outputs": [
    {
     "data": {
      "text/html": [
       "<div>\n",
       "<style scoped>\n",
       "    .dataframe tbody tr th:only-of-type {\n",
       "        vertical-align: middle;\n",
       "    }\n",
       "\n",
       "    .dataframe tbody tr th {\n",
       "        vertical-align: top;\n",
       "    }\n",
       "\n",
       "    .dataframe thead th {\n",
       "        text-align: right;\n",
       "    }\n",
       "</style>\n",
       "<table border=\"1\" class=\"dataframe\">\n",
       "  <thead>\n",
       "    <tr style=\"text-align: right;\">\n",
       "      <th></th>\n",
       "      <th>grade:A</th>\n",
       "      <th>grade:B</th>\n",
       "      <th>grade:C</th>\n",
       "      <th>grade:D</th>\n",
       "      <th>grade:E</th>\n",
       "      <th>grade:F</th>\n",
       "      <th>grade:G</th>\n",
       "      <th>home_ownership:OTHER</th>\n",
       "      <th>home_ownership:RENT_NONE_OWN</th>\n",
       "      <th>home_ownership:MORTGAGE</th>\n",
       "      <th>...</th>\n",
       "      <th>purpose:educational_small_business</th>\n",
       "      <th>purpose:renewable_energy_moving</th>\n",
       "      <th>purpose:medical_wedding</th>\n",
       "      <th>purpose:other</th>\n",
       "      <th>purpose:house_vacation_major_purchase</th>\n",
       "      <th>purpose:home_improvement</th>\n",
       "      <th>purpose:credit_card</th>\n",
       "      <th>purpose:car</th>\n",
       "      <th>initial_list_status:f</th>\n",
       "      <th>initial_list_status:w</th>\n",
       "    </tr>\n",
       "    <tr>\n",
       "      <th>Unnamed: 0</th>\n",
       "      <th></th>\n",
       "      <th></th>\n",
       "      <th></th>\n",
       "      <th></th>\n",
       "      <th></th>\n",
       "      <th></th>\n",
       "      <th></th>\n",
       "      <th></th>\n",
       "      <th></th>\n",
       "      <th></th>\n",
       "      <th></th>\n",
       "      <th></th>\n",
       "      <th></th>\n",
       "      <th></th>\n",
       "      <th></th>\n",
       "      <th></th>\n",
       "      <th></th>\n",
       "      <th></th>\n",
       "      <th></th>\n",
       "      <th></th>\n",
       "      <th></th>\n",
       "    </tr>\n",
       "  </thead>\n",
       "  <tbody>\n",
       "    <tr>\n",
       "      <th>1758049</th>\n",
       "      <td>0</td>\n",
       "      <td>1</td>\n",
       "      <td>0</td>\n",
       "      <td>0</td>\n",
       "      <td>0</td>\n",
       "      <td>0</td>\n",
       "      <td>0</td>\n",
       "      <td>0</td>\n",
       "      <td>1</td>\n",
       "      <td>0</td>\n",
       "      <td>...</td>\n",
       "      <td>0</td>\n",
       "      <td>0</td>\n",
       "      <td>0</td>\n",
       "      <td>0</td>\n",
       "      <td>0</td>\n",
       "      <td>0</td>\n",
       "      <td>0</td>\n",
       "      <td>0</td>\n",
       "      <td>0</td>\n",
       "      <td>1</td>\n",
       "    </tr>\n",
       "    <tr>\n",
       "      <th>686533</th>\n",
       "      <td>0</td>\n",
       "      <td>1</td>\n",
       "      <td>0</td>\n",
       "      <td>0</td>\n",
       "      <td>0</td>\n",
       "      <td>0</td>\n",
       "      <td>0</td>\n",
       "      <td>0</td>\n",
       "      <td>1</td>\n",
       "      <td>0</td>\n",
       "      <td>...</td>\n",
       "      <td>0</td>\n",
       "      <td>0</td>\n",
       "      <td>0</td>\n",
       "      <td>0</td>\n",
       "      <td>0</td>\n",
       "      <td>0</td>\n",
       "      <td>1</td>\n",
       "      <td>0</td>\n",
       "      <td>1</td>\n",
       "      <td>0</td>\n",
       "    </tr>\n",
       "    <tr>\n",
       "      <th>900721</th>\n",
       "      <td>1</td>\n",
       "      <td>0</td>\n",
       "      <td>0</td>\n",
       "      <td>0</td>\n",
       "      <td>0</td>\n",
       "      <td>0</td>\n",
       "      <td>0</td>\n",
       "      <td>0</td>\n",
       "      <td>1</td>\n",
       "      <td>0</td>\n",
       "      <td>...</td>\n",
       "      <td>1</td>\n",
       "      <td>0</td>\n",
       "      <td>0</td>\n",
       "      <td>0</td>\n",
       "      <td>0</td>\n",
       "      <td>0</td>\n",
       "      <td>0</td>\n",
       "      <td>0</td>\n",
       "      <td>0</td>\n",
       "      <td>1</td>\n",
       "    </tr>\n",
       "    <tr>\n",
       "      <th>1727912</th>\n",
       "      <td>0</td>\n",
       "      <td>0</td>\n",
       "      <td>0</td>\n",
       "      <td>0</td>\n",
       "      <td>1</td>\n",
       "      <td>0</td>\n",
       "      <td>0</td>\n",
       "      <td>0</td>\n",
       "      <td>1</td>\n",
       "      <td>0</td>\n",
       "      <td>...</td>\n",
       "      <td>0</td>\n",
       "      <td>0</td>\n",
       "      <td>0</td>\n",
       "      <td>0</td>\n",
       "      <td>0</td>\n",
       "      <td>0</td>\n",
       "      <td>0</td>\n",
       "      <td>0</td>\n",
       "      <td>1</td>\n",
       "      <td>0</td>\n",
       "    </tr>\n",
       "    <tr>\n",
       "      <th>539691</th>\n",
       "      <td>1</td>\n",
       "      <td>0</td>\n",
       "      <td>0</td>\n",
       "      <td>0</td>\n",
       "      <td>0</td>\n",
       "      <td>0</td>\n",
       "      <td>0</td>\n",
       "      <td>0</td>\n",
       "      <td>0</td>\n",
       "      <td>1</td>\n",
       "      <td>...</td>\n",
       "      <td>0</td>\n",
       "      <td>0</td>\n",
       "      <td>0</td>\n",
       "      <td>0</td>\n",
       "      <td>0</td>\n",
       "      <td>0</td>\n",
       "      <td>0</td>\n",
       "      <td>0</td>\n",
       "      <td>0</td>\n",
       "      <td>1</td>\n",
       "    </tr>\n",
       "    <tr>\n",
       "      <th>...</th>\n",
       "      <td>...</td>\n",
       "      <td>...</td>\n",
       "      <td>...</td>\n",
       "      <td>...</td>\n",
       "      <td>...</td>\n",
       "      <td>...</td>\n",
       "      <td>...</td>\n",
       "      <td>...</td>\n",
       "      <td>...</td>\n",
       "      <td>...</td>\n",
       "      <td>...</td>\n",
       "      <td>...</td>\n",
       "      <td>...</td>\n",
       "      <td>...</td>\n",
       "      <td>...</td>\n",
       "      <td>...</td>\n",
       "      <td>...</td>\n",
       "      <td>...</td>\n",
       "      <td>...</td>\n",
       "      <td>...</td>\n",
       "      <td>...</td>\n",
       "    </tr>\n",
       "    <tr>\n",
       "      <th>1671005</th>\n",
       "      <td>0</td>\n",
       "      <td>1</td>\n",
       "      <td>0</td>\n",
       "      <td>0</td>\n",
       "      <td>0</td>\n",
       "      <td>0</td>\n",
       "      <td>0</td>\n",
       "      <td>0</td>\n",
       "      <td>0</td>\n",
       "      <td>1</td>\n",
       "      <td>...</td>\n",
       "      <td>0</td>\n",
       "      <td>0</td>\n",
       "      <td>0</td>\n",
       "      <td>0</td>\n",
       "      <td>0</td>\n",
       "      <td>0</td>\n",
       "      <td>0</td>\n",
       "      <td>0</td>\n",
       "      <td>0</td>\n",
       "      <td>1</td>\n",
       "    </tr>\n",
       "    <tr>\n",
       "      <th>513964</th>\n",
       "      <td>0</td>\n",
       "      <td>0</td>\n",
       "      <td>0</td>\n",
       "      <td>1</td>\n",
       "      <td>0</td>\n",
       "      <td>0</td>\n",
       "      <td>0</td>\n",
       "      <td>0</td>\n",
       "      <td>0</td>\n",
       "      <td>1</td>\n",
       "      <td>...</td>\n",
       "      <td>0</td>\n",
       "      <td>0</td>\n",
       "      <td>0</td>\n",
       "      <td>0</td>\n",
       "      <td>0</td>\n",
       "      <td>0</td>\n",
       "      <td>0</td>\n",
       "      <td>0</td>\n",
       "      <td>1</td>\n",
       "      <td>0</td>\n",
       "    </tr>\n",
       "    <tr>\n",
       "      <th>484351</th>\n",
       "      <td>0</td>\n",
       "      <td>1</td>\n",
       "      <td>0</td>\n",
       "      <td>0</td>\n",
       "      <td>0</td>\n",
       "      <td>0</td>\n",
       "      <td>0</td>\n",
       "      <td>0</td>\n",
       "      <td>1</td>\n",
       "      <td>0</td>\n",
       "      <td>...</td>\n",
       "      <td>0</td>\n",
       "      <td>0</td>\n",
       "      <td>0</td>\n",
       "      <td>0</td>\n",
       "      <td>0</td>\n",
       "      <td>0</td>\n",
       "      <td>1</td>\n",
       "      <td>0</td>\n",
       "      <td>0</td>\n",
       "      <td>1</td>\n",
       "    </tr>\n",
       "    <tr>\n",
       "      <th>2196489</th>\n",
       "      <td>0</td>\n",
       "      <td>0</td>\n",
       "      <td>1</td>\n",
       "      <td>0</td>\n",
       "      <td>0</td>\n",
       "      <td>0</td>\n",
       "      <td>0</td>\n",
       "      <td>0</td>\n",
       "      <td>1</td>\n",
       "      <td>0</td>\n",
       "      <td>...</td>\n",
       "      <td>0</td>\n",
       "      <td>0</td>\n",
       "      <td>0</td>\n",
       "      <td>0</td>\n",
       "      <td>0</td>\n",
       "      <td>0</td>\n",
       "      <td>1</td>\n",
       "      <td>0</td>\n",
       "      <td>0</td>\n",
       "      <td>1</td>\n",
       "    </tr>\n",
       "    <tr>\n",
       "      <th>1598108</th>\n",
       "      <td>0</td>\n",
       "      <td>0</td>\n",
       "      <td>1</td>\n",
       "      <td>0</td>\n",
       "      <td>0</td>\n",
       "      <td>0</td>\n",
       "      <td>0</td>\n",
       "      <td>0</td>\n",
       "      <td>1</td>\n",
       "      <td>0</td>\n",
       "      <td>...</td>\n",
       "      <td>0</td>\n",
       "      <td>0</td>\n",
       "      <td>0</td>\n",
       "      <td>0</td>\n",
       "      <td>0</td>\n",
       "      <td>0</td>\n",
       "      <td>0</td>\n",
       "      <td>0</td>\n",
       "      <td>1</td>\n",
       "      <td>0</td>\n",
       "    </tr>\n",
       "  </tbody>\n",
       "</table>\n",
       "<p>452134 rows × 38 columns</p>\n",
       "</div>"
      ],
      "text/plain": [
       "            grade:A  grade:B  grade:C  grade:D  grade:E  grade:F  grade:G  \\\n",
       "Unnamed: 0                                                                  \n",
       "1758049           0        1        0        0        0        0        0   \n",
       "686533            0        1        0        0        0        0        0   \n",
       "900721            1        0        0        0        0        0        0   \n",
       "1727912           0        0        0        0        1        0        0   \n",
       "539691            1        0        0        0        0        0        0   \n",
       "...             ...      ...      ...      ...      ...      ...      ...   \n",
       "1671005           0        1        0        0        0        0        0   \n",
       "513964            0        0        0        1        0        0        0   \n",
       "484351            0        1        0        0        0        0        0   \n",
       "2196489           0        0        1        0        0        0        0   \n",
       "1598108           0        0        1        0        0        0        0   \n",
       "\n",
       "            home_ownership:OTHER  home_ownership:RENT_NONE_OWN  \\\n",
       "Unnamed: 0                                                       \n",
       "1758049                        0                             1   \n",
       "686533                         0                             1   \n",
       "900721                         0                             1   \n",
       "1727912                        0                             1   \n",
       "539691                         0                             0   \n",
       "...                          ...                           ...   \n",
       "1671005                        0                             0   \n",
       "513964                         0                             0   \n",
       "484351                         0                             1   \n",
       "2196489                        0                             1   \n",
       "1598108                        0                             1   \n",
       "\n",
       "            home_ownership:MORTGAGE  ...  purpose:educational_small_business  \\\n",
       "Unnamed: 0                           ...                                       \n",
       "1758049                           0  ...                                   0   \n",
       "686533                            0  ...                                   0   \n",
       "900721                            0  ...                                   1   \n",
       "1727912                           0  ...                                   0   \n",
       "539691                            1  ...                                   0   \n",
       "...                             ...  ...                                 ...   \n",
       "1671005                           1  ...                                   0   \n",
       "513964                            1  ...                                   0   \n",
       "484351                            0  ...                                   0   \n",
       "2196489                           0  ...                                   0   \n",
       "1598108                           0  ...                                   0   \n",
       "\n",
       "            purpose:renewable_energy_moving  purpose:medical_wedding  \\\n",
       "Unnamed: 0                                                             \n",
       "1758049                                   0                        0   \n",
       "686533                                    0                        0   \n",
       "900721                                    0                        0   \n",
       "1727912                                   0                        0   \n",
       "539691                                    0                        0   \n",
       "...                                     ...                      ...   \n",
       "1671005                                   0                        0   \n",
       "513964                                    0                        0   \n",
       "484351                                    0                        0   \n",
       "2196489                                   0                        0   \n",
       "1598108                                   0                        0   \n",
       "\n",
       "            purpose:other  purpose:house_vacation_major_purchase  \\\n",
       "Unnamed: 0                                                         \n",
       "1758049                 0                                      0   \n",
       "686533                  0                                      0   \n",
       "900721                  0                                      0   \n",
       "1727912                 0                                      0   \n",
       "539691                  0                                      0   \n",
       "...                   ...                                    ...   \n",
       "1671005                 0                                      0   \n",
       "513964                  0                                      0   \n",
       "484351                  0                                      0   \n",
       "2196489                 0                                      0   \n",
       "1598108                 0                                      0   \n",
       "\n",
       "            purpose:home_improvement  purpose:credit_card  purpose:car  \\\n",
       "Unnamed: 0                                                               \n",
       "1758049                            0                    0            0   \n",
       "686533                             0                    1            0   \n",
       "900721                             0                    0            0   \n",
       "1727912                            0                    0            0   \n",
       "539691                             0                    0            0   \n",
       "...                              ...                  ...          ...   \n",
       "1671005                            0                    0            0   \n",
       "513964                             0                    0            0   \n",
       "484351                             0                    1            0   \n",
       "2196489                            0                    1            0   \n",
       "1598108                            0                    0            0   \n",
       "\n",
       "            initial_list_status:f  initial_list_status:w  \n",
       "Unnamed: 0                                                \n",
       "1758049                         0                      1  \n",
       "686533                          1                      0  \n",
       "900721                          0                      1  \n",
       "1727912                         1                      0  \n",
       "539691                          0                      1  \n",
       "...                           ...                    ...  \n",
       "1671005                         0                      1  \n",
       "513964                          1                      0  \n",
       "484351                          0                      1  \n",
       "2196489                         0                      1  \n",
       "1598108                         1                      0  \n",
       "\n",
       "[452134 rows x 38 columns]"
      ]
     },
     "execution_count": 108,
     "metadata": {},
     "output_type": "execute_result"
    }
   ],
   "source": [
    "testing_features_df"
   ]
  }
 ],
 "metadata": {
  "kernelspec": {
   "display_name": "Python 3",
   "language": "python",
   "name": "python3"
  },
  "language_info": {
   "codemirror_mode": {
    "name": "ipython",
    "version": 3
   },
   "file_extension": ".py",
   "mimetype": "text/x-python",
   "name": "python",
   "nbconvert_exporter": "python",
   "pygments_lexer": "ipython3",
   "version": "3.7.3"
  }
 },
 "nbformat": 4,
 "nbformat_minor": 4
}
