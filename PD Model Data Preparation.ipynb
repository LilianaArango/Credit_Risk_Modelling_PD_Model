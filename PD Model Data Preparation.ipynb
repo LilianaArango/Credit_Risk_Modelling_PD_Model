{
 "cells": [
  {
   "cell_type": "markdown",
   "metadata": {},
   "source": [
    "# Importing Required Packages"
   ]
  },
  {
   "cell_type": "code",
   "execution_count": 1,
   "metadata": {},
   "outputs": [],
   "source": [
    "import pandas as pd\n",
    "import numpy as np\n",
    "import matplotlib.pyplot as plt\n",
    "import seaborn as sns\n",
    "from sklearn.model_selection import train_test_split\n",
    "from sklearn import linear_model\n",
    "import scipy.stats as stat\n",
    "\n",
    "\n",
    "sns.set()"
   ]
  },
  {
   "cell_type": "markdown",
   "metadata": {},
   "source": [
    "# Reading the Datasets"
   ]
  },
  {
   "cell_type": "markdown",
   "metadata": {},
   "source": [
    "## Features"
   ]
  },
  {
   "cell_type": "markdown",
   "metadata": {},
   "source": [
    "#### Discrete Training Features"
   ]
  },
  {
   "cell_type": "code",
   "execution_count": 2,
   "metadata": {},
   "outputs": [],
   "source": [
    "training_features_dis_df_backup = pd.read_csv('training_features_df.csv')\n",
    "training_features_dis_df = training_features_dis_df_backup.copy()\n",
    "training_features_dis_df = training_features_dis_df.set_index(['Unnamed: 0'])"
   ]
  },
  {
   "cell_type": "markdown",
   "metadata": {},
   "source": [
    "#### Discrete Testing Features"
   ]
  },
  {
   "cell_type": "code",
   "execution_count": 3,
   "metadata": {},
   "outputs": [],
   "source": [
    "testing_features_dis_df_backup = pd.read_csv('testing_features_df.csv')\n",
    "testing_features_dis_df = testing_features_dis_df_backup.copy()\n",
    "testing_features_dis_df = testing_features_dis_df.set_index(['Unnamed: 0'])"
   ]
  },
  {
   "cell_type": "markdown",
   "metadata": {},
   "source": [
    "#### Continuous Training Features"
   ]
  },
  {
   "cell_type": "code",
   "execution_count": 4,
   "metadata": {},
   "outputs": [],
   "source": [
    "training_features_con_df_backup = pd.read_csv('training_features_df_continuous.csv')\n",
    "training_features_con_df = training_features_con_df_backup.copy()\n",
    "training_features_con_df = training_features_con_df.set_index(['Unnamed: 0'])"
   ]
  },
  {
   "cell_type": "markdown",
   "metadata": {},
   "source": [
    "#### Continuous Testing Features"
   ]
  },
  {
   "cell_type": "code",
   "execution_count": 5,
   "metadata": {},
   "outputs": [],
   "source": [
    "testing_features_con_df_backup = pd.read_csv('testing_features_df_continuous.csv')\n",
    "testing_features_con_df = testing_features_con_df_backup.copy()\n",
    "testing_features_con_df = testing_features_con_df.set_index(['Unnamed: 0'])"
   ]
  },
  {
   "cell_type": "markdown",
   "metadata": {},
   "source": [
    "## Targets"
   ]
  },
  {
   "cell_type": "code",
   "execution_count": 6,
   "metadata": {},
   "outputs": [
    {
     "name": "stdout",
     "output_type": "stream",
     "text": [
      "Trainig Indices shape -  (1808534,)\n",
      "Trainig Targets(loan_status:Not_Default) shape -  (1808534,)\n",
      "Testing Indices shape -  (452134,)\n",
      "Testing Targets(loan_status:Not_Default) shape -  (452134,)\n"
     ]
    }
   ],
   "source": [
    "loan_status_df_backup = pd.read_csv('Columns/loan_status.csv')\n",
    "loan_status_df = pd.DataFrame(loan_status_df_backup['loan_status'])\n",
    "\n",
    "loan_status_df_dummies = pd.DataFrame(np.where(\n",
    "    (loan_status_df['loan_status'] == 'Current') | (loan_status_df['loan_status'] == 'Fully Paid') | (loan_status_df['loan_status'] == 'Late (16-30 days)') | (loan_status_df['loan_status'] == 'In Grace Period') | (loan_status_df['loan_status'] == 'Does not meet the credit policy. Status:Fully Paid'), 1, 0), \n",
    "                                      columns=['loan_status:Not_Default'])\n",
    "\n",
    "train_indices, test_indices, train_targets, test_targets = train_test_split(loan_status_df_dummies.index, loan_status_df_dummies['loan_status:Not_Default'], random_state=42, test_size=0.2)\n",
    "\n",
    "print(\"Trainig Indices shape - \", train_indices.shape)\n",
    "print(\"Trainig Targets(loan_status:Not_Default) shape - \", train_targets.shape)\n",
    "print(\"Testing Indices shape - \", test_indices.shape)\n",
    "print(\"Testing Targets(loan_status:Not_Default) shape - \", test_targets.shape)"
   ]
  },
  {
   "cell_type": "code",
   "execution_count": 7,
   "metadata": {},
   "outputs": [],
   "source": [
    "train_targets_df = pd.DataFrame(train_targets.copy())\n",
    "test_targets_df = pd.DataFrame(test_targets.copy())"
   ]
  },
  {
   "cell_type": "markdown",
   "metadata": {},
   "source": [
    "# Building Initial Logistic Regression Model"
   ]
  },
  {
   "cell_type": "markdown",
   "metadata": {},
   "source": [
    "#### Reference Categories"
   ]
  },
  {
   "cell_type": "code",
   "execution_count": 8,
   "metadata": {},
   "outputs": [],
   "source": [
    "model_features = [\n",
    "    'grade:A',\n",
    "    'grade:B',\n",
    "    'grade:C',\n",
    "    'grade:D',\n",
    "    'grade:E',\n",
    "    'grade:F',\n",
    "    'grade:G',\n",
    "    'home_ownership:OTHER',\n",
    "    'home_ownership:RENT_NONE_OWN',\n",
    "    'home_ownership:MORTGAGE',\n",
    "    'home_ownership:ANY',\n",
    "    'addr_state:IA',\n",
    "    'addr_state:AL_AR_MS_OK_LA_NV_NM_HI',\n",
    "    'addr_state:NY',\n",
    "    'addr_state:SD',\n",
    "    'addr_state:FL',\n",
    "    'addr_state:MO_MD_NC_PA_KY_TN',\n",
    "    'addr_state:CA',\n",
    "    'addr_state:NJ_MI_VA_MN_AK_AZ_NE_OH',\n",
    "    'addr_state:TX',\n",
    "    'addr_state:DE_MA_UT_GA_RI_WY_IL_MT_KS',\n",
    "    'addr_state:CT_ND_WA_CO_SC_WV_OR_NH_DC',\n",
    "    'addr_state:ID_VT',\n",
    "    'addr_state:ME',\n",
    "    'verification_status:Verified',\n",
    "    'verification_status:Source Verified',\n",
    "    'verification_status:Not Verified',\n",
    "    'purpose:debt_consolidation',\n",
    "    'purpose:educational_small_business',\n",
    "    'purpose:renewable_energy_moving',\n",
    "    'purpose:medical_wedding',\n",
    "    'purpose:other',\n",
    "    'purpose:house_vacation_major_purchase',\n",
    "    'purpose:home_improvement',\n",
    "    'purpose:credit_card',\n",
    "    'purpose:car',\n",
    "    'initial_list_status:f',\n",
    "    'initial_list_status:w',\n",
    "    'term:36',\n",
    "    'term:60',\n",
    "    'mths_issue_d:12_16',\n",
    "    'mths_issue_d:16_19',\n",
    "    'mths_issue_d:19_22',\n",
    "    'mths_issue_d:22_24',\n",
    "    'mths_issue_d:24_26',\n",
    "    'mths_issue_d:26_30',\n",
    "    'mths_issue_d:30_35',\n",
    "    'mths_issue_d:35_40',\n",
    "    'mths_issue_d:40_70',\n",
    "    'mths_issue_d:70_93',\n",
    "    'mths_issue_d:93+',\n",
    "    'int_rate:5_7',\n",
    "    'int_rate:7_11',\n",
    "    'int_rate:11_15',\n",
    "    'int_rate:15_19',\n",
    "    'int_rate:19_23',\n",
    "    'int_rate:23+',\n",
    "    'funded_amnt:460_2475',\n",
    "    'funded_amnt:2475_4450',\n",
    "    'funded_amnt:4450_10375',\n",
    "    'funded_amnt:10375_16300',\n",
    "    'funded_amnt:16300_36050',\n",
    "    'funded_amnt:36050+',\n",
    "    'annual_inc:18500-',\n",
    "    'annual_inc:18500_37500',\n",
    "    'annual_inc:37500_65500',\n",
    "    'annual_inc:65500_102500',\n",
    "    'annual_inc:102500_140000',\n",
    "    'annual_inc:140000+',\n",
    "    'installment:0_100',\n",
    "    'installment:100_250',\n",
    "    'installment:250_500',\n",
    "    'installment:500_1000',\n",
    "    'installment:1000_1300',\n",
    "    'installment:1300+',\n",
    "    'inq_last_6mths:0',\n",
    "    'inq_last_6mths:1',\n",
    "    'inq_last_6mths:2',\n",
    "    'inq_last_6mths:2+',\n",
    "    'dti:0_4',\n",
    "    'dti:4_8',\n",
    "    'dti:8_12',\n",
    "    'dti:12_16',\n",
    "    'dti:16_20',\n",
    "    'dti:20_24',\n",
    "    'dti:24_28',\n",
    "    'dti:28_32',\n",
    "    'dti:32_36',\n",
    "    'dti:36_40',\n",
    "    'dti:40+'\n",
    "]\n",
    "\n",
    "ref_cat = [\n",
    "    'grade:G',\n",
    "    'home_ownership:OTHER',\n",
    "    'addr_state:IA',\n",
    "    'verification_status:Verified',\n",
    "    'purpose:educational_small_business',\n",
    "    'initial_list_status:f',\n",
    "    'term:60',\n",
    "    'mths_issue_d:93+',\n",
    "    'int_rate:23+',\n",
    "    'funded_amnt:16300_36050',\n",
    "    'annual_inc:18500-',\n",
    "    'installment:1300+',\n",
    "    'inq_last_6mths:2+',\n",
    "    'dti:40+'\n",
    "]"
   ]
  },
  {
   "cell_type": "markdown",
   "metadata": {},
   "source": [
    "#### Defining Data"
   ]
  },
  {
   "cell_type": "code",
   "execution_count": 9,
   "metadata": {},
   "outputs": [],
   "source": [
    "X_train = pd.concat((training_features_dis_df, training_features_con_df), axis=1)\n",
    "X_train = X_train[model_features]\n",
    "X_train = X_train.drop(ref_cat, axis=1)\n",
    "\n",
    "X_test = pd.concat((testing_features_dis_df, testing_features_con_df), axis=1)\n",
    "X_test = X_test[model_features]\n",
    "X_test = X_test.drop(ref_cat, axis=1)\n",
    "\n",
    "y_train = train_targets_df['loan_status:Not_Default']\n",
    "y_test = test_targets_df['loan_status:Not_Default']"
   ]
  },
  {
   "cell_type": "code",
   "execution_count": 15,
   "metadata": {},
   "outputs": [
    {
     "name": "stderr",
     "output_type": "stream",
     "text": [
      "C:\\Users\\Yashveer\\AppData\\Roaming\\Python\\Python37\\site-packages\\ipykernel_launcher.py:3: FutureWarning: The signature of `Series.to_csv` was aligned to that of `DataFrame.to_csv`, and argument 'header' will change its default value from False to True: please pass an explicit value to suppress this warning.\n",
      "  This is separate from the ipykernel package so we can avoid doing imports until\n",
      "C:\\Users\\Yashveer\\AppData\\Roaming\\Python\\Python37\\site-packages\\ipykernel_launcher.py:4: FutureWarning: The signature of `Series.to_csv` was aligned to that of `DataFrame.to_csv`, and argument 'header' will change its default value from False to True: please pass an explicit value to suppress this warning.\n",
      "  after removing the cwd from sys.path.\n"
     ]
    }
   ],
   "source": [
    "X_train.to_csv('X_train.csv', index=True)\n",
    "X_test.to_csv('X_test.csv', index=True)\n",
    "y_train.to_csv('y_train.csv', index=True)\n",
    "y_test.to_csv('y_test.csv', index=True)"
   ]
  }
 ],
 "metadata": {
  "kernelspec": {
   "display_name": "Python 3",
   "language": "python",
   "name": "python3"
  },
  "language_info": {
   "codemirror_mode": {
    "name": "ipython",
    "version": 3
   },
   "file_extension": ".py",
   "mimetype": "text/x-python",
   "name": "python",
   "nbconvert_exporter": "python",
   "pygments_lexer": "ipython3",
   "version": "3.7.3"
  }
 },
 "nbformat": 4,
 "nbformat_minor": 4
}
