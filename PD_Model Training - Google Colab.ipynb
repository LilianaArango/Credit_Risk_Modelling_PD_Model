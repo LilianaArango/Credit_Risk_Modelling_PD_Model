{
 "cells": [
  {
   "cell_type": "markdown",
   "metadata": {
    "colab_type": "text",
    "id": "k3juWUu41Ntt"
   },
   "source": [
    "# Importing Required Packages"
   ]
  },
  {
   "cell_type": "code",
   "execution_count": 1,
   "metadata": {
    "colab": {
     "base_uri": "https://localhost:8080/",
     "height": 71
    },
    "colab_type": "code",
    "id": "zNSZUbnc1WRR",
    "outputId": "e12a7498-5057-4011-d3c4-372b93d2ca02"
   },
   "outputs": [
    {
     "name": "stderr",
     "output_type": "stream",
     "text": [
      "/usr/local/lib/python3.6/dist-packages/statsmodels/tools/_testing.py:19: FutureWarning: pandas.util.testing is deprecated. Use the functions in the public API at pandas.testing instead.\n",
      "  import pandas.util.testing as tm\n"
     ]
    }
   ],
   "source": [
    "import pandas as pd\n",
    "import numpy as np\n",
    "import matplotlib.pyplot as plt\n",
    "import seaborn as sns\n",
    "from sklearn.model_selection import train_test_split\n",
    "from sklearn import linear_model\n",
    "import scipy.stats as stat\n",
    "import pickle\n",
    "\n",
    "\n",
    "sns.set()"
   ]
  },
  {
   "cell_type": "markdown",
   "metadata": {
    "colab_type": "text",
    "id": "NVfZUTjG1YER"
   },
   "source": [
    "# Reading The Datasets"
   ]
  },
  {
   "cell_type": "markdown",
   "metadata": {
    "colab_type": "text",
    "id": "WoD8jAb92n-3"
   },
   "source": [
    "### Mounting Drive"
   ]
  },
  {
   "cell_type": "code",
   "execution_count": 2,
   "metadata": {
    "colab": {
     "base_uri": "https://localhost:8080/",
     "height": 122
    },
    "colab_type": "code",
    "id": "oUmAmMXI1bhu",
    "outputId": "7b6421ec-9769-471a-b4b7-0cc24e199a35"
   },
   "outputs": [
    {
     "name": "stdout",
     "output_type": "stream",
     "text": [
      "Go to this URL in a browser: https://accounts.google.com/o/oauth2/auth?client_id=947318989803-6bn6qk8qdgf4n4g3pfee6491hc0brc4i.apps.googleusercontent.com&redirect_uri=urn%3aietf%3awg%3aoauth%3a2.0%3aoob&response_type=code&scope=email%20https%3a%2f%2fwww.googleapis.com%2fauth%2fdocs.test%20https%3a%2f%2fwww.googleapis.com%2fauth%2fdrive%20https%3a%2f%2fwww.googleapis.com%2fauth%2fdrive.photos.readonly%20https%3a%2f%2fwww.googleapis.com%2fauth%2fpeopleapi.readonly\n",
      "\n",
      "Enter your authorization code:\n",
      "··········\n",
      "Mounted at /content/gdrive\n"
     ]
    }
   ],
   "source": [
    "from google.colab import drive \n",
    "drive.mount('/content/gdrive')"
   ]
  },
  {
   "cell_type": "markdown",
   "metadata": {
    "colab_type": "text",
    "id": "I_H30u3U2moX"
   },
   "source": [
    "### Reading CSV Files from Drive"
   ]
  },
  {
   "cell_type": "code",
   "execution_count": 0,
   "metadata": {
    "colab": {},
    "colab_type": "code",
    "id": "aX98_Y2i2mDX"
   },
   "outputs": [],
   "source": [
    "X_train_backup = pd.read_csv('/content/gdrive/My Drive/Colab Upload Files/Credit Risk Modelling/PD Model/X_train.csv')\n",
    "X_test_backup = pd.read_csv('/content/gdrive/My Drive/Colab Upload Files/Credit Risk Modelling/PD Model/X_test.csv')\n",
    "\n",
    "y_train_backup = pd.read_csv('/content/gdrive/My Drive/Colab Upload Files/Credit Risk Modelling/PD Model/y_train.csv', header=None, names=['Index', 'loan_status:Not_Default'])\n",
    "y_test_backup = pd.read_csv('/content/gdrive/My Drive/Colab Upload Files/Credit Risk Modelling/PD Model/y_test.csv', header=None, names=['Index', 'loan_status:Not_Default'])"
   ]
  },
  {
   "cell_type": "code",
   "execution_count": 0,
   "metadata": {
    "colab": {},
    "colab_type": "code",
    "id": "qVjmG_Io4cqv"
   },
   "outputs": [],
   "source": [
    "X_train = X_train_backup.set_index('Unnamed: 0')\n",
    "X_test = X_test_backup.set_index('Unnamed: 0')\n",
    "\n",
    "y_train = y_train_backup.set_index('Index')\n",
    "y_test = y_test_backup.set_index('Index')"
   ]
  },
  {
   "cell_type": "markdown",
   "metadata": {
    "colab_type": "text",
    "id": "Cu584aKT_k22"
   },
   "source": [
    "# Logistic Regression Model"
   ]
  },
  {
   "cell_type": "code",
   "execution_count": 5,
   "metadata": {
    "colab": {
     "base_uri": "https://localhost:8080/",
     "height": 156
    },
    "colab_type": "code",
    "id": "0dAcT_69AMj7",
    "outputId": "68abbfa8-243e-4422-dc9e-b0212019dc3e"
   },
   "outputs": [
    {
     "name": "stderr",
     "output_type": "stream",
     "text": [
      "/usr/local/lib/python3.6/dist-packages/sklearn/utils/validation.py:760: DataConversionWarning: A column-vector y was passed when a 1d array was expected. Please change the shape of y to (n_samples, ), for example using ravel().\n",
      "  y = column_or_1d(y, warn=True)\n"
     ]
    },
    {
     "data": {
      "text/plain": [
       "LogisticRegression(C=1.0, class_weight=None, dual=False, fit_intercept=True,\n",
       "                   intercept_scaling=1, l1_ratio=None, max_iter=300,\n",
       "                   multi_class='auto', n_jobs=None, penalty='l2',\n",
       "                   random_state=None, solver='lbfgs', tol=0.0001, verbose=0,\n",
       "                   warm_start=False)"
      ]
     },
     "execution_count": 5,
     "metadata": {
      "tags": []
     },
     "output_type": "execute_result"
    }
   ],
   "source": [
    "log_reg_init_model = linear_model.LogisticRegression(max_iter=300)\n",
    "log_reg_init_model.fit(X_train, y_train)"
   ]
  },
  {
   "cell_type": "code",
   "execution_count": 6,
   "metadata": {
    "colab": {
     "base_uri": "https://localhost:8080/",
     "height": 34
    },
    "colab_type": "code",
    "id": "4SyFAKbaAY_d",
    "outputId": "17e4d0cd-e592-45fe-a275-badcc728b26d"
   },
   "outputs": [
    {
     "data": {
      "text/plain": [
       "array([-0.52222821])"
      ]
     },
     "execution_count": 6,
     "metadata": {
      "tags": []
     },
     "output_type": "execute_result"
    }
   ],
   "source": [
    "log_reg_init_model.intercept_"
   ]
  },
  {
   "cell_type": "code",
   "execution_count": 7,
   "metadata": {
    "colab": {
     "base_uri": "https://localhost:8080/",
     "height": 289
    },
    "colab_type": "code",
    "id": "_tDxm0U1Bw4G",
    "outputId": "9735d892-1f5a-45b9-bf5c-7d2e2e85cc4a"
   },
   "outputs": [
    {
     "data": {
      "text/plain": [
       "array([[ 1.43563514,  0.99435135,  0.69709957,  0.49354966,  0.31562392,\n",
       "         0.14281001, -0.23824387, -0.00388632, -0.08406313, -0.18398284,\n",
       "        -0.12321324, -0.08696706, -0.12506774, -0.08218908, -0.07961474,\n",
       "        -0.0555339 , -0.04889367,  0.07853894,  0.21815921,  0.34944964,\n",
       "         0.58920279,  0.03649185,  0.18452556,  0.28772382,  0.22348081,\n",
       "         0.18152966,  0.29875954,  0.24760612,  0.25605363,  0.3262992 ,\n",
       "         0.4232262 ,  0.01774765,  0.11939038,  3.69578491,  2.38622449,\n",
       "         1.49763794,  1.17467148,  0.92906991,  0.70169432,  0.41457964,\n",
       "         0.23199497, -0.09997494,  0.14287925,  1.12948588,  0.62686278,\n",
       "         0.38247438,  0.21326115,  0.09899995,  0.37321443,  0.2203736 ,\n",
       "         0.03472213,  0.03761151,  0.01134768,  0.07823126,  0.2008791 ,\n",
       "         0.33159212,  0.46602485,  0.52718579,  0.42728067,  0.42294393,\n",
       "         0.31629099,  0.26630805,  0.18322888,  0.35439404,  0.19578177,\n",
       "         0.09874294, -0.09810226, -0.01862763, -0.05508131, -0.10222725,\n",
       "        -0.1497096 , -0.20462416, -0.26649597, -0.28375378, -0.27751735,\n",
       "        -0.26099124]])"
      ]
     },
     "execution_count": 7,
     "metadata": {
      "tags": []
     },
     "output_type": "execute_result"
    }
   ],
   "source": [
    "log_reg_init_model.coef_"
   ]
  },
  {
   "cell_type": "markdown",
   "metadata": {
    "colab_type": "text",
    "id": "K3ZOjypwCBm_"
   },
   "source": [
    "# Evaluating Preliminary Performance"
   ]
  },
  {
   "cell_type": "markdown",
   "metadata": {
    "colab_type": "text",
    "id": "Z8vGwwc5ELBK"
   },
   "source": [
    "### Predicting on Test Set using .predict()"
   ]
  },
  {
   "cell_type": "code",
   "execution_count": 0,
   "metadata": {
    "colab": {},
    "colab_type": "code",
    "id": "M5AFZbNHCA9J"
   },
   "outputs": [],
   "source": [
    "pre_predictions = log_reg_init_model.predict(X_test)"
   ]
  },
  {
   "cell_type": "code",
   "execution_count": 9,
   "metadata": {
    "colab": {
     "base_uri": "https://localhost:8080/",
     "height": 51
    },
    "colab_type": "code",
    "id": "wgpQ_ht7C41x",
    "outputId": "12c9617a-6fb8-4080-f42e-3b57256ac193"
   },
   "outputs": [
    {
     "name": "stdout",
     "output_type": "stream",
     "text": [
      "Error Rate\n",
      "12.61550779193779 %\n"
     ]
    }
   ],
   "source": [
    "print(\"Error Rate\")\n",
    "print((np.where(pre_predictions==y_test['loan_status:Not_Default'], 0, 1).sum() / len(y_test)) * 100, end=' ')\n",
    "print(\"%\")"
   ]
  },
  {
   "cell_type": "markdown",
   "metadata": {
    "colab_type": "text",
    "id": "5iqAw-RGEQjj"
   },
   "source": [
    "### Manually Setting Threshold as 0.5"
   ]
  },
  {
   "cell_type": "code",
   "execution_count": 0,
   "metadata": {
    "colab": {},
    "colab_type": "code",
    "id": "p25DE6_CDRk7"
   },
   "outputs": [],
   "source": [
    "pre_proba = log_reg_init_model.predict_proba(X_test)\n",
    "pre_predictions_proba = np.where(pre_proba[:, 1]>=0.5, 1, 0)"
   ]
  },
  {
   "cell_type": "code",
   "execution_count": 11,
   "metadata": {
    "colab": {
     "base_uri": "https://localhost:8080/",
     "height": 51
    },
    "colab_type": "code",
    "id": "y19JArf5DRWr",
    "outputId": "b62067d9-73cd-44bb-b404-9000986146e5"
   },
   "outputs": [
    {
     "name": "stdout",
     "output_type": "stream",
     "text": [
      "Error Rate\n",
      "12.61550779193779 %\n"
     ]
    }
   ],
   "source": [
    "print(\"Error Rate\")\n",
    "print((np.where(pre_predictions_proba==y_test['loan_status:Not_Default'], 0, 1).sum() / len(y_test)) * 100, end=' ')\n",
    "print(\"%\")"
   ]
  },
  {
   "cell_type": "markdown",
   "metadata": {
    "colab_type": "text",
    "id": "yDlMhtfMB8F5"
   },
   "source": [
    "# Export Model"
   ]
  },
  {
   "cell_type": "code",
   "execution_count": 0,
   "metadata": {
    "colab": {},
    "colab_type": "code",
    "id": "HWDcIWgAB70C"
   },
   "outputs": [],
   "source": [
    "filename = 'init_logistic_regression_model.sav'\n",
    "pickle.dump(log_reg_init_model, open(filename, 'wb'))"
   ]
  },
  {
   "cell_type": "code",
   "execution_count": 0,
   "metadata": {
    "colab": {},
    "colab_type": "code",
    "id": "vXuPgJMPXTfF"
   },
   "outputs": [],
   "source": [
    "from google.colab import files\n",
    "files.download('init_logistic_regression_model.sav')"
   ]
  },
  {
   "cell_type": "code",
   "execution_count": 0,
   "metadata": {
    "colab": {},
    "colab_type": "code",
    "id": "lQ0EKS4uXd6R"
   },
   "outputs": [],
   "source": []
  }
 ],
 "metadata": {
  "colab": {
   "collapsed_sections": [],
   "name": "PD Model.ipynb",
   "provenance": []
  },
  "kernelspec": {
   "display_name": "Python 3",
   "language": "python",
   "name": "python3"
  },
  "language_info": {
   "codemirror_mode": {
    "name": "ipython",
    "version": 3
   },
   "file_extension": ".py",
   "mimetype": "text/x-python",
   "name": "python",
   "nbconvert_exporter": "python",
   "pygments_lexer": "ipython3",
   "version": "3.7.3"
  }
 },
 "nbformat": 4,
 "nbformat_minor": 1
}
